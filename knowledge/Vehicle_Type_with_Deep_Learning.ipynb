{
 "cells": [
  {
   "cell_type": "markdown",
   "metadata": {},
   "source": [
    "# Inferring the Vehicle Type with Neural Networks\n",
    "\n",
    "Ruggero Fabbiano – 25 February 2021"
   ]
  },
  {
   "cell_type": "markdown",
   "metadata": {},
   "source": [
    "## Introduction\n",
    "\n",
    "In a previous exploratory notebook (*Analysis of Urban-Traffic Simulated Data – part II*) we noticed an issue with pedestrians objects in SUMo MoST: a lot of the objects classified as pedestrians actually show a behaviour that is not really belonging to this class. The idea behind this notebook is to use deep learning to correctly classify the type of such vehicles.\n",
    "\n",
    "#### Why Deep Learning?\n",
    "\n",
    "Our data set can be thought as composed by multi-variate time-series (after proper manipulation) of vehicle trips around the Monaco area. As we know, the `sktime` package (a kind of \"SKLearn version for time-series\") has been conceived to treatspecifically this kind of data, and is supposed to provide better results than deep learning for multi-variate classification. So why deep learning?\n",
    "\n",
    "The answer is that this article is meant to provide a \"comparison\" (or better, a parallel work) with our other vehicle classification work that already uses SKTime (*Vehicle Type Prediction Using Simulated Trajectory Data*, by Pedro Venturott), to help us understand if there is a better way to approach such problem, and if so, what it is."
   ]
  },
  {
   "cell_type": "markdown",
   "metadata": {},
   "source": [
    "## The Data\n",
    "\n",
    "For the sake of comprehension we will use here the same data used in the exploratory notebook cited here above. Moreover, we suppose to have already carried out all the \"data cleaning\" that is done there.\n",
    "    \n",
    "We can then proceed to import the data previously saved, after installing and importing the needed packages."
   ]
  },
  {
   "cell_type": "markdown",
   "metadata": {},
   "source": [
    "## Install Needed Packages"
   ]
  },
  {
   "cell_type": "code",
   "execution_count": 1,
   "metadata": {},
   "outputs": [],
   "source": [
    "!pip install pandas\n",
    "!pip install seaborn\n",
    "!pip install sklearn\n",
    "!pip install tensorflow"
   ]
  },
  {
   "cell_type": "markdown",
   "metadata": {},
   "source": [
    "## Import Packages and Data"
   ]
  },
  {
   "cell_type": "code",
   "execution_count": 2,
   "metadata": {},
   "outputs": [],
   "source": [
    "import matplotlib.pyplot as plt\n",
    "import numpy as np\n",
    "import pandas as pd\n",
    "import seaborn as sns\n",
    "\n",
    "from sklearn.metrics import confusion_matrix\n",
    "from sklearn.preprocessing import RobustScaler\n",
    "from sklearn.preprocessing import OneHotEncoder\n",
    "from tensorflow.keras import layers\n",
    "from tensorflow.keras import Sequential\n",
    "\n",
    "plt.style.use('bmh')"
   ]
  },
  {
   "cell_type": "code",
   "execution_count": 3,
   "metadata": {},
   "outputs": [
    {
     "data": {
      "text/html": [
       "<div>\n",
       "<style scoped>\n",
       "    .dataframe tbody tr th:only-of-type {\n",
       "        vertical-align: middle;\n",
       "    }\n",
       "\n",
       "    .dataframe tbody tr th {\n",
       "        vertical-align: top;\n",
       "    }\n",
       "\n",
       "    .dataframe thead th {\n",
       "        text-align: right;\n",
       "    }\n",
       "</style>\n",
       "<table border=\"1\" class=\"dataframe\">\n",
       "  <thead>\n",
       "    <tr style=\"text-align: right;\">\n",
       "      <th></th>\n",
       "      <th>t</th>\n",
       "      <th>angle</th>\n",
       "      <th>ID</th>\n",
       "      <th>lane_edge</th>\n",
       "      <th>position</th>\n",
       "      <th>slope</th>\n",
       "      <th>speed</th>\n",
       "      <th>type</th>\n",
       "      <th>x</th>\n",
       "      <th>y</th>\n",
       "      <th>z</th>\n",
       "      <th>time</th>\n",
       "    </tr>\n",
       "  </thead>\n",
       "  <tbody>\n",
       "    <tr>\n",
       "      <th>2</th>\n",
       "      <td>21600.0</td>\n",
       "      <td>50.48</td>\n",
       "      <td>pedestrian_2-1_3985_tr</td>\n",
       "      <td>153330#1_1</td>\n",
       "      <td>2.2</td>\n",
       "      <td>-1.57</td>\n",
       "      <td>0.0</td>\n",
       "      <td>moped</td>\n",
       "      <td>4811.50</td>\n",
       "      <td>2704.21</td>\n",
       "      <td>143.81</td>\n",
       "      <td>06:00:00</td>\n",
       "    </tr>\n",
       "    <tr>\n",
       "      <th>3</th>\n",
       "      <td>21600.0</td>\n",
       "      <td>50.48</td>\n",
       "      <td>pedestrian_2-1_3985</td>\n",
       "      <td>153330#1</td>\n",
       "      <td>2.20</td>\n",
       "      <td>-1.55</td>\n",
       "      <td>0.0</td>\n",
       "      <td>pedestrian</td>\n",
       "      <td>4811.50</td>\n",
       "      <td>2704.21</td>\n",
       "      <td>143.81</td>\n",
       "      <td>06:00:00</td>\n",
       "    </tr>\n",
       "    <tr>\n",
       "      <th>4</th>\n",
       "      <td>21600.0</td>\n",
       "      <td>307.42</td>\n",
       "      <td>pedestrian_2-1_5063_tr</td>\n",
       "      <td>152413#3_1</td>\n",
       "      <td>2.3</td>\n",
       "      <td>-6.20</td>\n",
       "      <td>0.0</td>\n",
       "      <td>motorcycle</td>\n",
       "      <td>2006.06</td>\n",
       "      <td>3313.49</td>\n",
       "      <td>400.40</td>\n",
       "      <td>06:00:00</td>\n",
       "    </tr>\n",
       "    <tr>\n",
       "      <th>5</th>\n",
       "      <td>21600.0</td>\n",
       "      <td>307.42</td>\n",
       "      <td>pedestrian_2-1_5063</td>\n",
       "      <td>152413#3</td>\n",
       "      <td>2.30</td>\n",
       "      <td>-6.20</td>\n",
       "      <td>0.0</td>\n",
       "      <td>pedestrian</td>\n",
       "      <td>2006.06</td>\n",
       "      <td>3313.49</td>\n",
       "      <td>400.40</td>\n",
       "      <td>06:00:00</td>\n",
       "    </tr>\n",
       "    <tr>\n",
       "      <th>6</th>\n",
       "      <td>21600.0</td>\n",
       "      <td>121.94</td>\n",
       "      <td>pedestrian_2-1_5887_tr</td>\n",
       "      <td>-152557#1_1</td>\n",
       "      <td>2.3</td>\n",
       "      <td>-0.04</td>\n",
       "      <td>0.0</td>\n",
       "      <td>motorcycle</td>\n",
       "      <td>6482.50</td>\n",
       "      <td>3763.28</td>\n",
       "      <td>57.60</td>\n",
       "      <td>06:00:00</td>\n",
       "    </tr>\n",
       "  </tbody>\n",
       "</table>\n",
       "</div>"
      ],
      "text/plain": [
       "         t   angle                      ID    lane_edge position  slope  \\\n",
       "2  21600.0   50.48  pedestrian_2-1_3985_tr   153330#1_1      2.2  -1.57   \n",
       "3  21600.0   50.48     pedestrian_2-1_3985     153330#1     2.20  -1.55   \n",
       "4  21600.0  307.42  pedestrian_2-1_5063_tr   152413#3_1      2.3  -6.20   \n",
       "5  21600.0  307.42     pedestrian_2-1_5063     152413#3     2.30  -6.20   \n",
       "6  21600.0  121.94  pedestrian_2-1_5887_tr  -152557#1_1      2.3  -0.04   \n",
       "\n",
       "   speed        type        x        y       z      time  \n",
       "2    0.0       moped  4811.50  2704.21  143.81  06:00:00  \n",
       "3    0.0  pedestrian  4811.50  2704.21  143.81  06:00:00  \n",
       "4    0.0  motorcycle  2006.06  3313.49  400.40  06:00:00  \n",
       "5    0.0  pedestrian  2006.06  3313.49  400.40  06:00:00  \n",
       "6    0.0  motorcycle  6482.50  3763.28   57.60  06:00:00  "
      ]
     },
     "execution_count": 3,
     "metadata": {},
     "output_type": "execute_result"
    }
   ],
   "source": [
    "data = pd.read_pickle(\"MoST_0600_0830_processed.pkl\")\n",
    "data.head()"
   ]
  },
  {
   "cell_type": "markdown",
   "metadata": {},
   "source": [
    "## Framing the Problem"
   ]
  },
  {
   "cell_type": "markdown",
   "metadata": {},
   "source": [
    "As we already said in the introduction, we want to classify vehicles; in particular, we want to re-classify objects that the MoST scenario wrongly labels as pedestrianss.\n",
    "\n",
    "Dealing with deep learning and multi-variate time-series, we have two main approaches to choose from:\n",
    "* Perform a feature-engineering task to extract static features from the time-series (*e.g.*, average speed, time spend queueing, max. speed, max. acceleration and so on), and then fed them to any standard classification algorithm.\n",
    "* Use our dataframe as-is (that of course, is never really *as-is*...) and using directly time-series as our to-be-classified data; in this second case we can\n",
    "    * split the time-series into several fixed-length windows and feed them directly to a convolutional neural network, that basically do the feature extraction on its own;\n",
    "    * use a neural network that naturally consumes time-series data.\n",
    "\n",
    "To fully exploit the *time-series* data property we will use this second approach, even if it could prove to be more complex / resource-intensive. In particular, we will build a recurrent neural network, that can be directly fed with time-series data."
   ]
  },
  {
   "cell_type": "markdown",
   "metadata": {},
   "source": [
    "## Selecting the Good Features"
   ]
  },
  {
   "cell_type": "markdown",
   "metadata": {},
   "source": [
    "The first step is obviously to select the good features for our classification problem. Let's recapitulate them:"
   ]
  },
  {
   "cell_type": "code",
   "execution_count": 4,
   "metadata": {},
   "outputs": [
    {
     "data": {
      "text/plain": [
       "Index(['t', 'angle', 'ID', 'lane_edge', 'position', 'slope', 'speed', 'type',\n",
       "       'x', 'y', 'z', 'time'],\n",
       "      dtype='object')"
      ]
     },
     "execution_count": 4,
     "metadata": {},
     "output_type": "execute_result"
    }
   ],
   "source": [
    "data.columns"
   ]
  },
  {
   "cell_type": "markdown",
   "metadata": {},
   "source": [
    "* We will surely keep `t` and `ID`, to have the time indication and be able to distinguish the different time-series (<font color=\"\" aqua>is time really necessary though?</font>); we won't need the redundant feature `time`.\n",
    "* `angle`, `position`, `slope`, `x`, `y`, `z` are \"tolopogical\" variables related to the lane the vehicle is in, so probably not very interesting; at the same time, their being numeric can prove useful as lane can be too complicated to use.\n",
    "* As said before, `lane_edge` associated with the time information can help us dissociate the intrinsic vehicle behaviour from the traffic conditions; at the same time, encoding all the possible lanes can become challenging.\n",
    "* `speed` and `type` are without any doubt the most important features: the first one is the one that probably better describes a vehicle behaviour, while the latter will be our classification goal.\n",
    "\n",
    "In conclusion, keeping the `x`/`y` position instead of the lane information will probably prove wiser. Let's proceed:"
   ]
  },
  {
   "cell_type": "code",
   "execution_count": 5,
   "metadata": {},
   "outputs": [
    {
     "data": {
      "text/html": [
       "<div>\n",
       "<style scoped>\n",
       "    .dataframe tbody tr th:only-of-type {\n",
       "        vertical-align: middle;\n",
       "    }\n",
       "\n",
       "    .dataframe tbody tr th {\n",
       "        vertical-align: top;\n",
       "    }\n",
       "\n",
       "    .dataframe thead th {\n",
       "        text-align: right;\n",
       "    }\n",
       "</style>\n",
       "<table border=\"1\" class=\"dataframe\">\n",
       "  <thead>\n",
       "    <tr style=\"text-align: right;\">\n",
       "      <th></th>\n",
       "      <th>ID</th>\n",
       "      <th>x</th>\n",
       "      <th>y</th>\n",
       "      <th>speed</th>\n",
       "      <th>type</th>\n",
       "    </tr>\n",
       "  </thead>\n",
       "  <tbody>\n",
       "    <tr>\n",
       "      <th>2</th>\n",
       "      <td>pedestrian_2-1_3985_tr</td>\n",
       "      <td>4811.50</td>\n",
       "      <td>2704.21</td>\n",
       "      <td>0.0</td>\n",
       "      <td>moped</td>\n",
       "    </tr>\n",
       "    <tr>\n",
       "      <th>3</th>\n",
       "      <td>pedestrian_2-1_3985</td>\n",
       "      <td>4811.50</td>\n",
       "      <td>2704.21</td>\n",
       "      <td>0.0</td>\n",
       "      <td>pedestrian</td>\n",
       "    </tr>\n",
       "    <tr>\n",
       "      <th>4</th>\n",
       "      <td>pedestrian_2-1_5063_tr</td>\n",
       "      <td>2006.06</td>\n",
       "      <td>3313.49</td>\n",
       "      <td>0.0</td>\n",
       "      <td>motorcycle</td>\n",
       "    </tr>\n",
       "    <tr>\n",
       "      <th>5</th>\n",
       "      <td>pedestrian_2-1_5063</td>\n",
       "      <td>2006.06</td>\n",
       "      <td>3313.49</td>\n",
       "      <td>0.0</td>\n",
       "      <td>pedestrian</td>\n",
       "    </tr>\n",
       "    <tr>\n",
       "      <th>6</th>\n",
       "      <td>pedestrian_2-1_5887_tr</td>\n",
       "      <td>6482.50</td>\n",
       "      <td>3763.28</td>\n",
       "      <td>0.0</td>\n",
       "      <td>motorcycle</td>\n",
       "    </tr>\n",
       "  </tbody>\n",
       "</table>\n",
       "</div>"
      ],
      "text/plain": [
       "                       ID        x        y  speed        type\n",
       "2  pedestrian_2-1_3985_tr  4811.50  2704.21    0.0       moped\n",
       "3     pedestrian_2-1_3985  4811.50  2704.21    0.0  pedestrian\n",
       "4  pedestrian_2-1_5063_tr  2006.06  3313.49    0.0  motorcycle\n",
       "5     pedestrian_2-1_5063  2006.06  3313.49    0.0  pedestrian\n",
       "6  pedestrian_2-1_5887_tr  6482.50  3763.28    0.0  motorcycle"
      ]
     },
     "execution_count": 5,
     "metadata": {},
     "output_type": "execute_result"
    }
   ],
   "source": [
    "data = data[['ID', 'x', 'y', 'speed', 'type']]\n",
    "data.head()"
   ]
  },
  {
   "cell_type": "markdown",
   "metadata": {},
   "source": [
    "Let us also check that our feature values are well-formatted numeric (we already checked it for speed in the previous notebook):"
   ]
  },
  {
   "cell_type": "code",
   "execution_count": 6,
   "metadata": {},
   "outputs": [],
   "source": [
    "def process_values(x):\n",
    "    try: return float(x)\n",
    "    except ValueError: return np.NaN # we might have abnormal values\n",
    "\n",
    "data[['x', 'y']] = data[['x', 'y']].applymap(process_values)"
   ]
  },
  {
   "cell_type": "markdown",
   "metadata": {},
   "source": [
    "Were there anomalous values?"
   ]
  },
  {
   "cell_type": "code",
   "execution_count": 7,
   "metadata": {},
   "outputs": [
    {
     "data": {
      "text/html": [
       "<div>\n",
       "<style scoped>\n",
       "    .dataframe tbody tr th:only-of-type {\n",
       "        vertical-align: middle;\n",
       "    }\n",
       "\n",
       "    .dataframe tbody tr th {\n",
       "        vertical-align: top;\n",
       "    }\n",
       "\n",
       "    .dataframe thead th {\n",
       "        text-align: right;\n",
       "    }\n",
       "</style>\n",
       "<table border=\"1\" class=\"dataframe\">\n",
       "  <thead>\n",
       "    <tr style=\"text-align: right;\">\n",
       "      <th></th>\n",
       "      <th>ID</th>\n",
       "      <th>x</th>\n",
       "      <th>y</th>\n",
       "      <th>speed</th>\n",
       "      <th>type</th>\n",
       "    </tr>\n",
       "  </thead>\n",
       "  <tbody>\n",
       "    <tr>\n",
       "      <th>1024317</th>\n",
       "      <td>pedestrian_1-2_2838_tr</td>\n",
       "      <td>NaN</td>\n",
       "      <td>NaN</td>\n",
       "      <td>9.936</td>\n",
       "      <td>motorcycle</td>\n",
       "    </tr>\n",
       "    <tr>\n",
       "      <th>1024318</th>\n",
       "      <td>pedestrian_1-2_2838</td>\n",
       "      <td>NaN</td>\n",
       "      <td>NaN</td>\n",
       "      <td>9.936</td>\n",
       "      <td>pedestrian</td>\n",
       "    </tr>\n",
       "    <tr>\n",
       "      <th>2923468</th>\n",
       "      <td>pedestrian_1-2_4375_tr</td>\n",
       "      <td>NaN</td>\n",
       "      <td>NaN</td>\n",
       "      <td>19.584</td>\n",
       "      <td>motorcycle</td>\n",
       "    </tr>\n",
       "    <tr>\n",
       "      <th>2923469</th>\n",
       "      <td>pedestrian_1-2_4375</td>\n",
       "      <td>NaN</td>\n",
       "      <td>NaN</td>\n",
       "      <td>19.584</td>\n",
       "      <td>pedestrian</td>\n",
       "    </tr>\n",
       "  </tbody>\n",
       "</table>\n",
       "</div>"
      ],
      "text/plain": [
       "                             ID   x   y   speed        type\n",
       "1024317  pedestrian_1-2_2838_tr NaN NaN   9.936  motorcycle\n",
       "1024318     pedestrian_1-2_2838 NaN NaN   9.936  pedestrian\n",
       "2923468  pedestrian_1-2_4375_tr NaN NaN  19.584  motorcycle\n",
       "2923469     pedestrian_1-2_4375 NaN NaN  19.584  pedestrian"
      ]
     },
     "execution_count": 7,
     "metadata": {},
     "output_type": "execute_result"
    }
   ],
   "source": [
    "anomalies = data[(data['x'].isna()) | (data['y'].isna())]\n",
    "anomalies"
   ]
  },
  {
   "cell_type": "markdown",
   "metadata": {},
   "source": [
    "Only 4, let's drop them. We'll drop the whole time-series to avoid incoherences due to holes in the data series; also, since they are very few, it is not worth to fine-work on the relative time-series to impute them."
   ]
  },
  {
   "cell_type": "code",
   "execution_count": 8,
   "metadata": {},
   "outputs": [],
   "source": [
    "data = data[~data['ID'].isin(anomalies['ID'].unique())]"
   ]
  },
  {
   "cell_type": "markdown",
   "metadata": {},
   "source": [
    "## Selecting Time-Series"
   ]
  },
  {
   "cell_type": "markdown",
   "metadata": {},
   "source": [
    "Before splitting our data set, we have to set a uniform length for our time-series: let's choose 20 minutes as the default length.\n",
    "\n",
    "Thus, we have to filter out vehicles with a shorter travel time:"
   ]
  },
  {
   "cell_type": "code",
   "execution_count": 9,
   "metadata": {},
   "outputs": [],
   "source": [
    "TS_lengths = data.groupby('ID')['speed'].count()\n",
    "L = 20*60/5 # number of desired steps\n",
    "usable_obj = TS_lengths[TS_lengths>=L].index\n",
    "\n",
    "data = data[data['ID'].isin(usable_obj)]"
   ]
  },
  {
   "cell_type": "markdown",
   "metadata": {},
   "source": [
    "## Splitting the Data Set"
   ]
  },
  {
   "cell_type": "markdown",
   "metadata": {},
   "source": [
    "The next step is divide our data set into training and testing sets. First we have to take out the pedestrians we want to re-classify, as this will be our \"production inference\" data set; then we have to get train and test sets from the remaining data."
   ]
  },
  {
   "cell_type": "markdown",
   "metadata": {},
   "source": [
    "The first problem we have to face is: how can we separate \"true\" pedestrians from false ones? We need to have some ground truth of pedestrians to train our network. Let's simply check if speed can help us doing so."
   ]
  },
  {
   "cell_type": "markdown",
   "metadata": {},
   "source": [
    "Before starting, how many possible pedestrians we have?"
   ]
  },
  {
   "cell_type": "code",
   "execution_count": 10,
   "metadata": {},
   "outputs": [
    {
     "name": "stdout",
     "output_type": "stream",
     "text": [
      "4967 pedestrians out of 12489 objects\n"
     ]
    }
   ],
   "source": [
    "all_ped = data[data['type']=='pedestrian']['ID'].unique()\n",
    "all_obj = data['ID'].unique()\n",
    "\n",
    "print(F\"{len(all_ped)} pedestrians out of {len(all_obj)} objects\")"
   ]
  },
  {
   "cell_type": "markdown",
   "metadata": {},
   "source": [
    "A bit more than 1/3, knowing (from our previous notebook) that before filtering out time-series they were a half: we have dropped a lot of pedestrians!"
   ]
  },
  {
   "cell_type": "markdown",
   "metadata": {},
   "source": [
    "Thinking about speed to confirm the \"pedestrian\" type, we know from the [SUMo vehicle type parameter defaults](https://sumo.dlr.de/docs/Vehicle_Type_Parameter_Defaults.html) that $ v_{\\rm{ped}} = 5.4 $ km/h, with $ \\sigma = 0.1 $; thus, more than 99 % of pedestrians should have $ v_{\\rm{max}} \\le 5.7 $ km/h. Let's choose 6 km/h as a limit."
   ]
  },
  {
   "cell_type": "code",
   "execution_count": 11,
   "metadata": {},
   "outputs": [],
   "source": [
    "ped_v_max = data[data['type']=='pedestrian'].groupby('ID')['speed'].max()"
   ]
  },
  {
   "cell_type": "code",
   "execution_count": 12,
   "metadata": {},
   "outputs": [
    {
     "data": {
      "text/plain": [
       "46"
      ]
     },
     "execution_count": 12,
     "metadata": {},
     "output_type": "execute_result"
    }
   ],
   "source": [
    "real_ped = ped_v_max[ped_v_max<6]\n",
    "\n",
    "len(real_ped)"
   ]
  },
  {
   "cell_type": "markdown",
   "metadata": {},
   "source": [
    "46! Less than 1 % of the total \"possible pedestrians\" have a speed lower than the maximum declared!\n",
    "\n",
    "Let's do a kind of \"sanity check\" on these 46 using acceleration. [SUMo vehicle type parameter defaults](https://sumo.dlr.de/docs/Vehicle_Type_Parameter_Defaults.html) tells us also that $ -2 \\le a \\le 1.5 $ m/s², with the same standard deviation as for speed; thus, more than 99 % of pedestrians should have $ -2.3 \\le a \\le 1.8 $ m/s². Let's choose $ a_{\\rm{min}} = -2.5 $ and $ a_{\\rm{max}} = 2 $ m/s²."
   ]
  },
  {
   "cell_type": "code",
   "execution_count": 13,
   "metadata": {},
   "outputs": [],
   "source": [
    "ped_speeds = data[data['type']=='pedestrian'][['ID', 'speed']]\n",
    "real_ped = pd.DataFrame(real_ped)"
   ]
  },
  {
   "cell_type": "code",
   "execution_count": 14,
   "metadata": {},
   "outputs": [],
   "source": [
    "def get_acc_peaks(ID):\n",
    "    acc = ped_speeds[ped_speeds['ID']==ID]['speed'].diff()[1:]/5/3.6 # m/s^2\n",
    "    try:\n",
    "        return min(acc), max(acc)\n",
    "    except ValueError:\n",
    "        return 0, 0\n",
    "\n",
    "def set_acc_peaks(DF):\n",
    "    ind, acc_min, acc_max = [], [], []\n",
    "    for obj_ID, _ in DF.iterrows():\n",
    "        m, M = get_acc_peaks(obj_ID)\n",
    "        ind.append(obj_ID)\n",
    "        acc_min.append(m)\n",
    "        acc_max.append(M)\n",
    "    return pd.DataFrame({\"min.\": acc_min, \"max.\": acc_max}, index=DF.index)"
   ]
  },
  {
   "cell_type": "code",
   "execution_count": 15,
   "metadata": {},
   "outputs": [],
   "source": [
    "real_ped[[\"a min.\", \"a max.\"]] = set_acc_peaks(real_ped)"
   ]
  },
  {
   "cell_type": "code",
   "execution_count": 16,
   "metadata": {},
   "outputs": [],
   "source": [
    "assert real_ped[real_ped['a min.']<-2.5].empty\n",
    "assert real_ped[real_ped['a max.']>2].empty"
   ]
  },
  {
   "cell_type": "markdown",
   "metadata": {},
   "source": [
    "OK, those will then be our \"real\" pedestrians. The remaining ones will be our classification target."
   ]
  },
  {
   "cell_type": "code",
   "execution_count": 17,
   "metadata": {},
   "outputs": [],
   "source": [
    "to_classify = data[data['ID'].isin(ped_v_max[ped_v_max>6].index)]\n",
    "train_test_data = data[~data['ID'].isin(to_classify['ID'])]"
   ]
  },
  {
   "cell_type": "markdown",
   "metadata": {},
   "source": [
    "How many objects we have to classify, and with how many objects to train our model?"
   ]
  },
  {
   "cell_type": "code",
   "execution_count": 18,
   "metadata": {},
   "outputs": [
    {
     "data": {
      "text/plain": [
       "(4921, 7568)"
      ]
     },
     "execution_count": 18,
     "metadata": {},
     "output_type": "execute_result"
    }
   ],
   "source": [
    "len(to_classify['ID'].unique()), len(train_test_data['ID'].unique())"
   ]
  },
  {
   "cell_type": "markdown",
   "metadata": {},
   "source": [
    "Good. Before moving further, let's look how our data set is (un)balanced... "
   ]
  },
  {
   "cell_type": "code",
   "execution_count": 19,
   "metadata": {},
   "outputs": [
    {
     "name": "stdout",
     "output_type": "stream",
     "text": [
      "bus: 108 (1.43%)\n",
      "lorry: 28 (0.37%)\n",
      "delivery: 108 (1.43%)\n",
      "pedestrian: 46 (0.61%)\n",
      "bicycle: 9 (0.12%)\n",
      "motorcycle: 1327 (17.53%)\n",
      "moped: 579 (7.65%)\n",
      "car: 5309 (70.15%)\n",
      "hire: 5 (0.07%)\n",
      "special: 49 (0.65%)\n"
     ]
    }
   ],
   "source": [
    "object_type = train_test_data.groupby('ID')['type'].min()\n",
    "n_obj = len(object_type)\n",
    "for obj_type in object_type.unique():\n",
    "    n_type = len(object_type[object_type==obj_type])\n",
    "    print(obj_type + F\": {n_type} ({n_type/n_obj:.2%})\")"
   ]
  },
  {
   "cell_type": "markdown",
   "metadata": {},
   "source": [
    "Let's drop for sure private hire vehicles and bicycles: they are too few to be used.\n",
    "\n",
    "We could think about dropping pedestrians, since we already know that what we want to classify are not pedestrians; anyway, we might end up reclassifying some of them as such.\n",
    "\n",
    "Then we can take all the other instances of types that have less than 150 objects, and sample 150 instances for the others. The data set will be a bit unbalanced like this, but we will see how the model behaves."
   ]
  },
  {
   "cell_type": "code",
   "execution_count": 20,
   "metadata": {},
   "outputs": [],
   "source": [
    "train_test_data = train_test_data[~train_test_data['type'].isin(['bicycle', 'hire'])]"
   ]
  },
  {
   "cell_type": "code",
   "execution_count": 21,
   "metadata": {},
   "outputs": [],
   "source": [
    "to_sample = ['moped', 'motorcycle', 'car']\n",
    "IDs = []\n",
    "for v_type in to_sample:\n",
    "    IDs.extend(object_type[object_type==v_type].sample(150, random_state=1).index)"
   ]
  },
  {
   "cell_type": "code",
   "execution_count": 22,
   "metadata": {},
   "outputs": [],
   "source": [
    "train_test_data = train_test_data[~((train_test_data['type'].isin(to_sample)) &\n",
    "                                    (~train_test_data['ID'].isin(IDs)))]"
   ]
  },
  {
   "cell_type": "markdown",
   "metadata": {},
   "source": [
    "Now we have to split our training data set; let's the standard ratio of 1:3 for each vehicle type."
   ]
  },
  {
   "cell_type": "code",
   "execution_count": 23,
   "metadata": {},
   "outputs": [],
   "source": [
    "test_IDs = []\n",
    "for v_type in train_test_data['type'].unique():\n",
    "    single_type = train_test_data[train_test_data['type']==v_type]['ID'].unique()\n",
    "    test_IDs.extend(np.random.choice(single_type, int(len(single_type)*0.25)))\n",
    "\n",
    "train_data = train_test_data[~train_test_data['ID'].isin(test_IDs)]\n",
    "test_data = train_test_data[train_test_data['ID'].isin(test_IDs)]"
   ]
  },
  {
   "cell_type": "code",
   "execution_count": 24,
   "metadata": {},
   "outputs": [
    {
     "data": {
      "text/plain": [
       "(607, 182)"
      ]
     },
     "execution_count": 24,
     "metadata": {},
     "output_type": "execute_result"
    }
   ],
   "source": [
    "len(train_data['ID'].unique()), len(test_data['ID'].unique())"
   ]
  },
  {
   "cell_type": "markdown",
   "metadata": {},
   "source": [
    "## Creating Vectors"
   ]
  },
  {
   "cell_type": "markdown",
   "metadata": {},
   "source": [
    "We have a lot of different features, better scale them..."
   ]
  },
  {
   "cell_type": "code",
   "execution_count": 25,
   "metadata": {},
   "outputs": [
    {
     "name": "stderr",
     "output_type": "stream",
     "text": [
      "C:\\Users\\rugge\\Anaconda\\lib\\site-packages\\pandas\\core\\indexing.py:1736: SettingWithCopyWarning: \n",
      "A value is trying to be set on a copy of a slice from a DataFrame.\n",
      "Try using .loc[row_indexer,col_indexer] = value instead\n",
      "\n",
      "See the caveats in the documentation: https://pandas.pydata.org/pandas-docs/stable/user_guide/indexing.html#returning-a-view-versus-a-copy\n",
      "  isetter(loc, value[:, i].tolist())\n",
      "C:\\Users\\rugge\\Anaconda\\lib\\site-packages\\pandas\\core\\indexing.py:1736: SettingWithCopyWarning: \n",
      "A value is trying to be set on a copy of a slice from a DataFrame.\n",
      "Try using .loc[row_indexer,col_indexer] = value instead\n",
      "\n",
      "See the caveats in the documentation: https://pandas.pydata.org/pandas-docs/stable/user_guide/indexing.html#returning-a-view-versus-a-copy\n",
      "  isetter(loc, value[:, i].tolist())\n",
      "C:\\Users\\rugge\\Anaconda\\lib\\site-packages\\pandas\\core\\indexing.py:1736: SettingWithCopyWarning: \n",
      "A value is trying to be set on a copy of a slice from a DataFrame.\n",
      "Try using .loc[row_indexer,col_indexer] = value instead\n",
      "\n",
      "See the caveats in the documentation: https://pandas.pydata.org/pandas-docs/stable/user_guide/indexing.html#returning-a-view-versus-a-copy\n",
      "  isetter(loc, value[:, i].tolist())\n"
     ]
    }
   ],
   "source": [
    "features = ['x', 'y', 'speed']\n",
    "\n",
    "scaler = RobustScaler()\n",
    "scaler = scaler.fit(train_data[features])\n",
    "train_data.loc[:, features] = scaler.transform(train_data[features].to_numpy())\n",
    "test_data.loc[:, features] = scaler.transform(test_data[features].to_numpy())\n",
    "to_classify.loc[:, features] = scaler.transform(to_classify[features].to_numpy())"
   ]
  },
  {
   "cell_type": "markdown",
   "metadata": {},
   "source": [
    "Time to prepare our sets for the model!"
   ]
  },
  {
   "cell_type": "code",
   "execution_count": 26,
   "metadata": {},
   "outputs": [],
   "source": [
    "def create_learning_vectors(dataset, X_features=features, l_max=int(L), y_feature='type'):\n",
    "    X, y = [], []\n",
    "    for obj in dataset['ID'].unique():\n",
    "        obj_data = dataset[dataset['ID']==obj]\n",
    "        X.append(obj_data.iloc[:l_max][X_features].values)\n",
    "        y.append(obj_data[y_feature].unique())\n",
    "    return np.array(X), np.array(y)"
   ]
  },
  {
   "cell_type": "code",
   "execution_count": 27,
   "metadata": {},
   "outputs": [],
   "source": [
    "X_train, y_train = create_learning_vectors(train_data)\n",
    "X_test, y_test = create_learning_vectors(test_data)\n",
    "# X_to_classify, _ = create_learning_vectors(to_classify)"
   ]
  },
  {
   "cell_type": "markdown",
   "metadata": {},
   "source": [
    "One last thing: we have to encode the output categorical variables!"
   ]
  },
  {
   "cell_type": "code",
   "execution_count": 28,
   "metadata": {},
   "outputs": [],
   "source": [
    "encoder = OneHotEncoder(sparse=False)\n",
    "encoder = encoder.fit(y_train)\n",
    "y_train = encoder.transform(y_train)\n",
    "y_test = encoder.transform(y_test)"
   ]
  },
  {
   "cell_type": "markdown",
   "metadata": {},
   "source": [
    "## Building the Classification Model"
   ]
  },
  {
   "cell_type": "markdown",
   "metadata": {},
   "source": [
    "Time to build our model and see how it performs!\n",
    "\n",
    "As we said previously, we are going to implement a recurrent neural network (RNN) architecture; in particular, the so-called *Long Short-Term Memory* (LSTM) RNN.\n",
    "\n",
    "Unlike standard feedforward neural networks, LSTM has feedback connections; this makes such networks well-suited to classifying, processing and making predictions based on time-series data. You can read [the LSTM Wikipedia page](https://en.wikipedia.org/wiki/Long_short-term_memory) for more information."
   ]
  },
  {
   "cell_type": "markdown",
   "metadata": {},
   "source": [
    "### Model Hyper-Parameters\n",
    "\n",
    "As a choice for the network implementation (welcome to the magical world of hyper-parameter tuning, covered by a dense fog and populated by rules of thumb :)), we opt for the following structure:\n",
    "* one bi-directional layer (for the sake of rapidity – adding a second slowed it down to a point that I didn't even get to see if it improved the output metrics!);\n",
    "* a drop-out layer (that should always be present to avoid over-fitting), with the \"conventional\" choice of 0.2 as a drop-out factor;\n",
    "* a standard layer with the basic ReLU activation function;\n",
    "* a final layer, the same size as the output, with the softmax activation function which is best suited for classification problems (the same reson apply for the choice of the compile parameters).\n",
    "\n",
    "The choice of 128 units gives us a good compromise time/performances (choosing 256 units also slowed down a lot)."
   ]
  },
  {
   "cell_type": "code",
   "execution_count": 29,
   "metadata": {},
   "outputs": [],
   "source": [
    "model = Sequential()\n",
    "model.add(layers.Bidirectional(layers.LSTM(128)))\n",
    "model.add(layers.Dropout(0.2))\n",
    "model.add(layers.Dense(128, activation='relu'))\n",
    "model.add(layers.Dense(y_train.shape[1], activation='softmax'))\n",
    "model.compile(optimizer='adam', loss='categorical_crossentropy', metrics=['accuracy'])"
   ]
  },
  {
   "cell_type": "markdown",
   "metadata": {},
   "source": [
    "Last parameters before fitting the model!\n",
    "The following choices come after some simple intuition mixed to some trial and error (done in previous iterations):\n",
    "* a batch size of 50 fits well into a data set composed by 551 samples, with a good trade-off between rapidity and quality;\n",
    "* 25 epochs is the number that gave the best outcome, as 20 showed that there was room for further amelioration, and 30 allowed to see that accuracy was degrading again around 25;\n",
    "* the cross-validation ratio is kept lower, since the size of our data set is not huge (in any case 0.1 it's a pretty conventional ratio).\n",
    "\n",
    "Let's go!"
   ]
  },
  {
   "cell_type": "code",
   "execution_count": 30,
   "metadata": {},
   "outputs": [
    {
     "name": "stdout",
     "output_type": "stream",
     "text": [
      "Train on 546 samples, validate on 61 samples\n",
      "Epoch 1/25\n",
      "546/546 [==============================] - 11s 20ms/sample - loss: 1.8529 - accuracy: 0.3480 - val_loss: 1.7340 - val_accuracy: 0.4918\n",
      "Epoch 2/25\n",
      "546/546 [==============================] - 7s 14ms/sample - loss: 1.3405 - accuracy: 0.5513 - val_loss: 1.6394 - val_accuracy: 0.3934\n",
      "Epoch 3/25\n",
      "546/546 [==============================] - 9s 16ms/sample - loss: 1.0388 - accuracy: 0.6319 - val_loss: 1.5452 - val_accuracy: 0.4098\n",
      "Epoch 4/25\n",
      "546/546 [==============================] - 9s 16ms/sample - loss: 0.8758 - accuracy: 0.6575 - val_loss: 1.3341 - val_accuracy: 0.5082\n",
      "Epoch 5/25\n",
      "546/546 [==============================] - 9s 17ms/sample - loss: 0.7542 - accuracy: 0.7271 - val_loss: 1.2545 - val_accuracy: 0.6230\n",
      "Epoch 6/25\n",
      "546/546 [==============================] - 9s 16ms/sample - loss: 0.7000 - accuracy: 0.7454 - val_loss: 1.3134 - val_accuracy: 0.6066\n",
      "Epoch 7/25\n",
      "546/546 [==============================] - 9s 16ms/sample - loss: 0.6099 - accuracy: 0.7656 - val_loss: 1.2111 - val_accuracy: 0.6885\n",
      "Epoch 8/25\n",
      "546/546 [==============================] - 9s 16ms/sample - loss: 0.5665 - accuracy: 0.7802 - val_loss: 1.1997 - val_accuracy: 0.6066\n",
      "Epoch 9/25\n",
      "546/546 [==============================] - 9s 16ms/sample - loss: 0.5506 - accuracy: 0.7875 - val_loss: 1.2495 - val_accuracy: 0.5902\n",
      "Epoch 10/25\n",
      "546/546 [==============================] - 9s 16ms/sample - loss: 0.5525 - accuracy: 0.7912 - val_loss: 1.0675 - val_accuracy: 0.6393\n",
      "Epoch 11/25\n",
      "546/546 [==============================] - 9s 16ms/sample - loss: 0.4915 - accuracy: 0.8022 - val_loss: 1.0983 - val_accuracy: 0.6885\n",
      "Epoch 12/25\n",
      "546/546 [==============================] - 9s 17ms/sample - loss: 0.4568 - accuracy: 0.8242 - val_loss: 1.2142 - val_accuracy: 0.5902\n",
      "Epoch 13/25\n",
      "546/546 [==============================] - 9s 17ms/sample - loss: 0.4413 - accuracy: 0.8132 - val_loss: 1.1553 - val_accuracy: 0.6721\n",
      "Epoch 14/25\n",
      "546/546 [==============================] - 10s 19ms/sample - loss: 0.3977 - accuracy: 0.8370 - val_loss: 1.0974 - val_accuracy: 0.6557\n",
      "Epoch 15/25\n",
      "546/546 [==============================] - 9s 17ms/sample - loss: 0.3797 - accuracy: 0.8425 - val_loss: 1.0989 - val_accuracy: 0.7049\n",
      "Epoch 16/25\n",
      "546/546 [==============================] - 9s 17ms/sample - loss: 0.3439 - accuracy: 0.8700 - val_loss: 1.1211 - val_accuracy: 0.6885\n",
      "Epoch 17/25\n",
      "546/546 [==============================] - 9s 17ms/sample - loss: 0.3317 - accuracy: 0.8791 - val_loss: 1.2137 - val_accuracy: 0.7049\n",
      "Epoch 18/25\n",
      "546/546 [==============================] - 9s 16ms/sample - loss: 0.3236 - accuracy: 0.8736 - val_loss: 1.1280 - val_accuracy: 0.6721\n",
      "Epoch 19/25\n",
      "546/546 [==============================] - 9s 17ms/sample - loss: 0.3032 - accuracy: 0.8828 - val_loss: 1.1917 - val_accuracy: 0.6721\n",
      "Epoch 20/25\n",
      "546/546 [==============================] - 9s 16ms/sample - loss: 0.3109 - accuracy: 0.8828 - val_loss: 1.2082 - val_accuracy: 0.7213\n",
      "Epoch 21/25\n",
      "546/546 [==============================] - 9s 17ms/sample - loss: 0.2717 - accuracy: 0.8974 - val_loss: 1.3334 - val_accuracy: 0.6230\n",
      "Epoch 22/25\n",
      "546/546 [==============================] - 9s 17ms/sample - loss: 0.2403 - accuracy: 0.9158 - val_loss: 1.1977 - val_accuracy: 0.7049\n",
      "Epoch 23/25\n",
      "546/546 [==============================] - 9s 17ms/sample - loss: 0.2477 - accuracy: 0.9176 - val_loss: 1.2779 - val_accuracy: 0.6230\n",
      "Epoch 24/25\n",
      "546/546 [==============================] - 10s 17ms/sample - loss: 0.3001 - accuracy: 0.8846 - val_loss: 1.3511 - val_accuracy: 0.6393\n",
      "Epoch 25/25\n",
      "546/546 [==============================] - 9s 16ms/sample - loss: 0.2841 - accuracy: 0.8901 - val_loss: 1.3299 - val_accuracy: 0.6885\n"
     ]
    }
   ],
   "source": [
    "LSTM_RNN = model.fit(X_train, y_train, batch_size=50, epochs=25, validation_split=0.1)"
   ]
  },
  {
   "cell_type": "code",
   "execution_count": 31,
   "metadata": {},
   "outputs": [
    {
     "data": {
      "image/png": "[encoded data removed]",
      "text/plain": [
       "<Figure size 432x288 with 1 Axes>"
      ]
     },
     "metadata": {
      "needs_background": "light"
     },
     "output_type": "display_data"
    }
   ],
   "source": [
    "plt.plot(LSTM_RNN.history['loss'], label='training set')\n",
    "plt.plot(LSTM_RNN.history['val_loss'], label='cross-validation set')\n",
    "plt.xlabel(\"epochs\")\n",
    "plt.ylabel(\"loss\")\n",
    "plt.legend();"
   ]
  },
  {
   "cell_type": "markdown",
   "metadata": {},
   "source": [
    "Time to evaluate our model on the true test set!"
   ]
  },
  {
   "cell_type": "code",
   "execution_count": 32,
   "metadata": {},
   "outputs": [
    {
     "name": "stdout",
     "output_type": "stream",
     "text": [
      "182/182 [==============================] - 1s 4ms/sample - loss: 0.5350 - accuracy: 0.7637\n"
     ]
    },
    {
     "data": {
      "text/plain": [
       "[0.5350490664387797, 0.76373625]"
      ]
     },
     "execution_count": 32,
     "metadata": {},
     "output_type": "execute_result"
    }
   ],
   "source": [
    "model.evaluate(X_test, y_test)"
   ]
  },
  {
   "cell_type": "code",
   "execution_count": 33,
   "metadata": {},
   "outputs": [],
   "source": [
    "y_pred = model.predict(X_test)"
   ]
  },
  {
   "cell_type": "code",
   "execution_count": 34,
   "metadata": {},
   "outputs": [
    {
     "data": {
      "image/png": "[encoded data removed]",
      "text/plain": [
       "<Figure size 432x288 with 2 Axes>"
      ]
     },
     "metadata": {
      "needs_background": "light"
     },
     "output_type": "display_data"
    }
   ],
   "source": [
    "ground_truth = encoder.inverse_transform(y_test)\n",
    "predictions = encoder.inverse_transform(y_pred)\n",
    "CM = confusion_matrix(ground_truth, predictions)\n",
    "\n",
    "_, ax = plt.subplots() \n",
    "ax = sns.heatmap(CM, annot=True, fmt=\"d\", cmap='afmhot')\n",
    "plt.ylabel('ground truth')\n",
    "plt.xlabel('predicted vehicle types')\n",
    "ax.set_xticklabels(encoder.categories_[0], rotation='vertical')\n",
    "ax.set_yticklabels(encoder.categories_[0], rotation='horizontal');"
   ]
  },
  {
   "cell_type": "markdown",
   "metadata": {},
   "source": [
    "It doesn't look that bad!\n",
    "\n",
    "Since our data set was not really balanced, let's look at its F1 as well. Given the type of problem (multi-variate classification) this is not immediate; let's compute it for each vehicle type, as well as the average one."
   ]
  },
  {
   "cell_type": "code",
   "execution_count": 35,
   "metadata": {},
   "outputs": [
    {
     "data": {
      "text/html": [
       "<div>\n",
       "<style scoped>\n",
       "    .dataframe tbody tr th:only-of-type {\n",
       "        vertical-align: middle;\n",
       "    }\n",
       "\n",
       "    .dataframe tbody tr th {\n",
       "        vertical-align: top;\n",
       "    }\n",
       "\n",
       "    .dataframe thead th {\n",
       "        text-align: right;\n",
       "    }\n",
       "</style>\n",
       "<table border=\"1\" class=\"dataframe\">\n",
       "  <thead>\n",
       "    <tr style=\"text-align: right;\">\n",
       "      <th></th>\n",
       "      <th>Precision</th>\n",
       "      <th>Recall</th>\n",
       "      <th>F1</th>\n",
       "    </tr>\n",
       "  </thead>\n",
       "  <tbody>\n",
       "    <tr>\n",
       "      <th>bus</th>\n",
       "      <td>1.000000</td>\n",
       "      <td>1.000000</td>\n",
       "      <td>1.000000</td>\n",
       "    </tr>\n",
       "    <tr>\n",
       "      <th>car</th>\n",
       "      <td>0.641026</td>\n",
       "      <td>0.694444</td>\n",
       "      <td>0.666667</td>\n",
       "    </tr>\n",
       "    <tr>\n",
       "      <th>delivery</th>\n",
       "      <td>0.400000</td>\n",
       "      <td>0.400000</td>\n",
       "      <td>0.400000</td>\n",
       "    </tr>\n",
       "    <tr>\n",
       "      <th>lorry</th>\n",
       "      <td>1.000000</td>\n",
       "      <td>0.714286</td>\n",
       "      <td>0.833333</td>\n",
       "    </tr>\n",
       "    <tr>\n",
       "      <th>moped</th>\n",
       "      <td>0.923077</td>\n",
       "      <td>1.000000</td>\n",
       "      <td>0.960000</td>\n",
       "    </tr>\n",
       "    <tr>\n",
       "      <th>motorcycle</th>\n",
       "      <td>0.857143</td>\n",
       "      <td>0.800000</td>\n",
       "      <td>0.827586</td>\n",
       "    </tr>\n",
       "    <tr>\n",
       "      <th>pedestrian</th>\n",
       "      <td>1.000000</td>\n",
       "      <td>1.000000</td>\n",
       "      <td>1.000000</td>\n",
       "    </tr>\n",
       "    <tr>\n",
       "      <th>special</th>\n",
       "      <td>0.300000</td>\n",
       "      <td>0.250000</td>\n",
       "      <td>0.272727</td>\n",
       "    </tr>\n",
       "    <tr>\n",
       "      <th>GLOBAL</th>\n",
       "      <td>0.765156</td>\n",
       "      <td>0.732341</td>\n",
       "      <td>0.748389</td>\n",
       "    </tr>\n",
       "  </tbody>\n",
       "</table>\n",
       "</div>"
      ],
      "text/plain": [
       "            Precision    Recall        F1\n",
       "bus          1.000000  1.000000  1.000000\n",
       "car          0.641026  0.694444  0.666667\n",
       "delivery     0.400000  0.400000  0.400000\n",
       "lorry        1.000000  0.714286  0.833333\n",
       "moped        0.923077  1.000000  0.960000\n",
       "motorcycle   0.857143  0.800000  0.827586\n",
       "pedestrian   1.000000  1.000000  1.000000\n",
       "special      0.300000  0.250000  0.272727\n",
       "GLOBAL       0.765156  0.732341  0.748389"
      ]
     },
     "execution_count": 35,
     "metadata": {},
     "output_type": "execute_result"
    }
   ],
   "source": [
    "precisions = pd.Series([CM[i, i]/sum(CM[:, i]) for i in range(CM.shape[1])], name=\"Precision\")\n",
    "recalls = pd.Series([CM[i, i]/sum(CM[i, :]) for i in range(CM.shape[0])], name=\"Recall\")\n",
    "F1s = pd.Series([2*(p*r)/(p+r) for p,r in zip(precisions, recalls)], name=\"F1\")\n",
    "\n",
    "metrics = pd.DataFrame([precisions, recalls, F1s]).transpose().set_index(encoder.categories_[0])\n",
    "\n",
    "prec = np.mean(precisions)\n",
    "rec = np.mean(recalls)\n",
    "F1 = 2*(prec*rec)/(prec+rec)\n",
    "\n",
    "metrics.append(pd.Series([prec, rec, F1], name=\"GLOBAL\", index=[\"Precision\", \"Recall\", \"F1\"]))"
   ]
  },
  {
   "cell_type": "markdown",
   "metadata": {},
   "source": [
    "## Is it worth it to predict all the vehicles and compare them with the \"manual prediction we did in the previous notebook?"
   ]
  },
  {
   "cell_type": "code",
   "execution_count": null,
   "metadata": {},
   "outputs": [],
   "source": []
  }
 ],
 "metadata": {
  "kernelspec": {
   "display_name": "Python 3",
   "language": "python",
   "name": "python3"
  },
  "language_info": {
   "codemirror_mode": {
    "name": "ipython",
    "version": 3
   },
   "file_extension": ".py",
   "mimetype": "text/x-python",
   "name": "python",
   "nbconvert_exporter": "python",
   "pygments_lexer": "ipython3",
   "version": "3.7.3"
  }
 },
 "nbformat": 4,
 "nbformat_minor": 4
}
