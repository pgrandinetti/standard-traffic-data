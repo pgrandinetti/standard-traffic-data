{
 "cells": [
  {
   "cell_type": "markdown",
   "metadata": {},
   "source": [
    "# Analysis of Urban-Traffic Simulated Data – part II\n",
    "##### Ruggero Fabbiano – <font color=\"blue\">29 December 2020</font>"
   ]
  },
  {
   "cell_type": "markdown",
   "metadata": {},
   "source": [
    " "
   ]
  },
  {
   "cell_type": "markdown",
   "metadata": {},
   "source": [
    "## Introduction\n",
    "\n",
    "<font color=\"blue\">\n",
    "\n",
    "As the title itself says, this notebook is intended as a prosecution of the Analysis of Urban-Traffic Simulated Data – part I. While in this previous notebook we did some exploratory data analysis to get an understanding the data and of its basic population statistics, here we delve into some analysis about the traffic conditions.\n",
    "    \n",
    "The dataset is of the same type of the one used in part I; moreover, we assume it to have already gone through the Data Cleaning part of part I. The scenario is still the same (MoST), but this time we change the timing to have richer traffic conditions.\n",
    "\n",
    "For further introduction, refer to part I.\n",
    "\n",
    "</font>"
   ]
  },
  {
   "cell_type": "markdown",
   "metadata": {},
   "source": [
    " ***"
   ]
  },
  {
   "cell_type": "markdown",
   "metadata": {},
   "source": [
    "## Import Packages and Data"
   ]
  },
  {
   "cell_type": "markdown",
   "metadata": {},
   "source": [
    "Let's be sure we have all the necessary packages installed:"
   ]
  },
  {
   "cell_type": "code",
   "execution_count": 3,
   "metadata": {},
   "outputs": [],
   "source": [
    "!pip install pandas\n",
    "!pip install numpy\n",
    "!pip install matplotlib"
   ]
  },
  {
   "cell_type": "markdown",
   "metadata": {},
   "source": [
    "We can now import them:"
   ]
  },
  {
   "cell_type": "code",
   "execution_count": 1,
   "metadata": {},
   "outputs": [],
   "source": [
    "import pandas as pd\n",
    "import numpy as np\n",
    "import matplotlib.pyplot as plt\n",
    "\n",
    "plt.style.use('bmh')"
   ]
  },
  {
   "cell_type": "markdown",
   "metadata": {},
   "source": [
    "Now to the data. We choose here the set spanning from 6 to 8:30 AM, to have some free flow as well as congested traffic conditions:"
   ]
  },
  {
   "cell_type": "code",
   "execution_count": 2,
   "metadata": {},
   "outputs": [],
   "source": [
    "out_file = 'most_0600_0830_1_5.csv'"
   ]
  },
  {
   "cell_type": "markdown",
   "metadata": {},
   "source": [
    "As explained in the introduction, we suppose to have previously run the part-I notebook with the same data set, thus we have it already available in its compact form (as the dataframe is saved after the part I \"Data Cleaning\" chapter)."
   ]
  },
  {
   "cell_type": "code",
   "execution_count": 3,
   "metadata": {},
   "outputs": [
    {
     "data": {
      "text/html": [
       "<div>\n",
       "<style scoped>\n",
       "    .dataframe tbody tr th:only-of-type {\n",
       "        vertical-align: middle;\n",
       "    }\n",
       "\n",
       "    .dataframe tbody tr th {\n",
       "        vertical-align: top;\n",
       "    }\n",
       "\n",
       "    .dataframe thead th {\n",
       "        text-align: right;\n",
       "    }\n",
       "</style>\n",
       "<table border=\"1\" class=\"dataframe\">\n",
       "  <thead>\n",
       "    <tr style=\"text-align: right;\">\n",
       "      <th></th>\n",
       "      <th>t</th>\n",
       "      <th>angle</th>\n",
       "      <th>ID</th>\n",
       "      <th>lane_edge</th>\n",
       "      <th>position</th>\n",
       "      <th>slope</th>\n",
       "      <th>speed</th>\n",
       "      <th>v_type</th>\n",
       "      <th>x</th>\n",
       "      <th>y</th>\n",
       "      <th>z</th>\n",
       "      <th>time</th>\n",
       "    </tr>\n",
       "  </thead>\n",
       "  <tbody>\n",
       "    <tr>\n",
       "      <th>0</th>\n",
       "      <td>21600.0</td>\n",
       "      <td>74.69</td>\n",
       "      <td>France:Italy.0</td>\n",
       "      <td>152525#0_0</td>\n",
       "      <td>7.2</td>\n",
       "      <td>3.42</td>\n",
       "      <td>0.0</td>\n",
       "      <td>hw_truck</td>\n",
       "      <td>66.77</td>\n",
       "      <td>2975.61</td>\n",
       "      <td>385.23</td>\n",
       "      <td>06:00:00</td>\n",
       "    </tr>\n",
       "    <tr>\n",
       "      <th>1</th>\n",
       "      <td>21600.0</td>\n",
       "      <td>171.94</td>\n",
       "      <td>Italy:France.0</td>\n",
       "      <td>152272_0</td>\n",
       "      <td>5.1</td>\n",
       "      <td>0.84</td>\n",
       "      <td>0.0</td>\n",
       "      <td>hw_passenger2b</td>\n",
       "      <td>7023.41</td>\n",
       "      <td>6356.52</td>\n",
       "      <td>280.47</td>\n",
       "      <td>06:00:00</td>\n",
       "    </tr>\n",
       "    <tr>\n",
       "      <th>2</th>\n",
       "      <td>21600.0</td>\n",
       "      <td>50.48</td>\n",
       "      <td>pedestrian_2-1_3985_tr</td>\n",
       "      <td>153330#1_1</td>\n",
       "      <td>2.2</td>\n",
       "      <td>-1.57</td>\n",
       "      <td>0.0</td>\n",
       "      <td>moped</td>\n",
       "      <td>4811.50</td>\n",
       "      <td>2704.21</td>\n",
       "      <td>143.81</td>\n",
       "      <td>06:00:00</td>\n",
       "    </tr>\n",
       "    <tr>\n",
       "      <th>3</th>\n",
       "      <td>21600.0</td>\n",
       "      <td>50.48</td>\n",
       "      <td>pedestrian_2-1_3985</td>\n",
       "      <td>153330#1</td>\n",
       "      <td>2.20</td>\n",
       "      <td>-1.55</td>\n",
       "      <td>0.00</td>\n",
       "      <td>NaN</td>\n",
       "      <td>4811.50</td>\n",
       "      <td>2704.21</td>\n",
       "      <td>143.81</td>\n",
       "      <td>06:00:00</td>\n",
       "    </tr>\n",
       "    <tr>\n",
       "      <th>4</th>\n",
       "      <td>21600.0</td>\n",
       "      <td>307.42</td>\n",
       "      <td>pedestrian_2-1_5063_tr</td>\n",
       "      <td>152413#3_1</td>\n",
       "      <td>2.3</td>\n",
       "      <td>-6.20</td>\n",
       "      <td>0.0</td>\n",
       "      <td>motorcycle</td>\n",
       "      <td>2006.06</td>\n",
       "      <td>3313.49</td>\n",
       "      <td>400.40</td>\n",
       "      <td>06:00:00</td>\n",
       "    </tr>\n",
       "  </tbody>\n",
       "</table>\n",
       "</div>"
      ],
      "text/plain": [
       "         t   angle                      ID   lane_edge position  slope speed  \\\n",
       "0  21600.0   74.69          France:Italy.0  152525#0_0      7.2   3.42   0.0   \n",
       "1  21600.0  171.94          Italy:France.0    152272_0      5.1   0.84   0.0   \n",
       "2  21600.0   50.48  pedestrian_2-1_3985_tr  153330#1_1      2.2  -1.57   0.0   \n",
       "3  21600.0   50.48     pedestrian_2-1_3985    153330#1     2.20  -1.55  0.00   \n",
       "4  21600.0  307.42  pedestrian_2-1_5063_tr  152413#3_1      2.3  -6.20   0.0   \n",
       "\n",
       "           v_type        x        y       z      time  \n",
       "0        hw_truck    66.77  2975.61  385.23  06:00:00  \n",
       "1  hw_passenger2b  7023.41  6356.52  280.47  06:00:00  \n",
       "2           moped  4811.50  2704.21  143.81  06:00:00  \n",
       "3             NaN  4811.50  2704.21  143.81  06:00:00  \n",
       "4      motorcycle  2006.06  3313.49  400.40  06:00:00  "
      ]
     },
     "execution_count": 3,
     "metadata": {},
     "output_type": "execute_result"
    }
   ],
   "source": [
    "out_file_clean = out_file.split(\".\")[0] + \"-clean\" + \".csv\"\n",
    "data = pd.read_csv(out_file_clean, low_memory=False)\n",
    "\n",
    "data.head()"
   ]
  },
  {
   "cell_type": "markdown",
   "metadata": {},
   "source": [
    "<font color=\"blue\">\n",
    "\n",
    "## Preparing the Vehicle Classes\n",
    "\n",
    "</font>"
   ]
  },
  {
   "cell_type": "markdown",
   "metadata": {},
   "source": [
    "To be able to infer meaningful information about traffic conditions it is probably better to work on the different vehicle types."
   ]
  },
  {
   "cell_type": "markdown",
   "metadata": {},
   "source": [
    "We might start off by dropping all the pedestrians, that won't probably be of much help in understanding traffic (maybe as well as bicycles). Anyway, let's just keep them for the moment, to see if they allow us some interesting comparisons (we can always drop them later); so, let's create a type for pedestrians as well:"
   ]
  },
  {
   "cell_type": "code",
   "execution_count": 4,
   "metadata": {},
   "outputs": [],
   "source": [
    "data['v_type'].fillna('pedestrian', inplace=True) # pedestrians have null vehicle-type\n",
    "data.rename(columns={'v_type': \"type\"}, inplace=True) # generic \"type\" and not \"vehicle type\" anymore"
   ]
  },
  {
   "cell_type": "markdown",
   "metadata": {},
   "source": [
    "Now let's check which types we have:"
   ]
  },
  {
   "cell_type": "code",
   "execution_count": 5,
   "metadata": {},
   "outputs": [
    {
     "data": {
      "text/plain": [
       "array(['army', 'authority', 'avgbicycle', 'bus', 'coach', 'delivery',\n",
       "       'emergency', 'fastbicycle', 'hw_coach', 'hw_delivery',\n",
       "       'hw_motorcycle', 'hw_passenger1', 'hw_passenger2a',\n",
       "       'hw_passenger2b', 'hw_passenger3', 'hw_passenger4', 'hw_trailer',\n",
       "       'hw_truck', 'moped', 'motorcycle', 'passenger1', 'passenger2a',\n",
       "       'passenger2b', 'passenger3', 'passenger4', 'pedestrian',\n",
       "       'slowbicycle', 'taxi', 'trailer', 'train', 'truck', 'uber'],\n",
       "      dtype=object)"
      ]
     },
     "execution_count": 5,
     "metadata": {},
     "output_type": "execute_result"
    }
   ],
   "source": [
    "np.sort(data['type'].unique())"
   ]
  },
  {
   "cell_type": "markdown",
   "metadata": {},
   "source": [
    "Before starting reasoning on the different types, we can probably use a bit of manual regrouping to make things easier. To understand the different types, we can refer to two useful tables in the SUMo documentation:\n",
    "* the [SUMo definition of abstract vehicle classes](https://sumo.dlr.de/docs/Definition_of_Vehicles,_Vehicle_Types,_and_Routes.html#abstract_vehicle_class);\n",
    "* the [SUMo vechile-type parameters](https://sumo.dlr.de/docs/Vehicle_Type_Parameter_Defaults.html);\n",
    "\n",
    "as well as two files that define specific types for the MoST scenario:\n",
    "* `MoST_scenario\\scenario\\in\\add\\basic.vType.xml`;\n",
    "* `MoST_scenario\\scenario\\in\\route\\most.highway.flows.xml`.\n",
    "\n",
    "Based on all of these sources, we can make the following considerations:\n",
    "* `army` and `authority` are abstract SUMo classes that have no specific parameter definition, and in MoST they are all grouped together with `emergency` vehicles;\n",
    "* `avgbicycle`, `fastbicycle` and `slowbicycle` are 3 different MoST-specific types of bicycles (with speed centered around the SUMo `bicycle` class);\n",
    "* `coach` is supposed to be an overland person transportation mean, but is defined as a goods transport in MoST: maybe a mistake, we can probably drop it;\n",
    "* all vehicles starting with `hw_` are a MoST definition for vehicles running on motorways: definitely not fit for _urban_ traffic analysis;\n",
    "* vehicle starting with `passenger` represent in MoST different shapes of \"plain\" passenger cars;\n",
    "* `trailer` is just a variation of `truck`;\n",
    "* `train` is surely not interesting for traffic analysis;\n",
    "* `uber` is defined in MoST but represent the same concept as `taxi`."
   ]
  },
  {
   "cell_type": "markdown",
   "metadata": {},
   "source": [
    "Based on the considerations above, we can first drop coaches, motorways vehicles and trains; let's check before what percentage of the data they represent:"
   ]
  },
  {
   "cell_type": "code",
   "execution_count": 6,
   "metadata": {},
   "outputs": [
    {
     "name": "stdout",
     "output_type": "stream",
     "text": [
      "Representation of total number of vehicles: 1.96%\n",
      "Coaches: 0.41%\t\tTrains: 0.04%\t\tMotorway vehicles: 1.51%\n"
     ]
    }
   ],
   "source": [
    "N = len(data['ID'].unique())\n",
    "n_c = len(data[data['type']=='coach']['ID'].unique())\n",
    "n_t = len(data[data['type']=='train']['ID'].unique())\n",
    "n_HW = len(data[data['type'].apply(lambda x: x.startswith('hw_'))]['ID'].unique())\n",
    "\n",
    "print(F\"Representation of total number of vehicles: {(n_c+n_t+n_HW)/N:.2%}\")\n",
    "print(F\"Coaches: {n_c/N:.2%}\\t\\tTrains: {n_t/N:.2%}\\t\\tMotorway vehicles: {n_HW/N:.2%}\")"
   ]
  },
  {
   "cell_type": "markdown",
   "metadata": {},
   "source": [
    "Drop them:"
   ]
  },
  {
   "cell_type": "code",
   "execution_count": 7,
   "metadata": {},
   "outputs": [],
   "source": [
    "not_coach = data['type']!='coach'\n",
    "not_motorway = data['type'].apply(lambda x: not x.startswith('hw_'))\n",
    "not_train = data['type']!='train'\n",
    "\n",
    "data = data[not_coach & not_motorway & not_train]"
   ]
  },
  {
   "cell_type": "markdown",
   "metadata": {},
   "source": [
    "Now we can do the grouping discussed before on the remaining vehicles:"
   ]
  },
  {
   "cell_type": "code",
   "execution_count": 8,
   "metadata": {},
   "outputs": [
    {
     "data": {
      "text/plain": [
       "array(['bicycle', 'bus', 'car', 'delivery', 'emergency', 'moped',\n",
       "       'motorcycle', 'pedestrian', 'taxi', 'truck'], dtype=object)"
      ]
     },
     "execution_count": 8,
     "metadata": {},
     "output_type": "execute_result"
    }
   ],
   "source": [
    "redefine_types = lambda v_type: \"emergency\" if v_type in ['army', 'authority'] else (\n",
    "    \"bicycle\" if v_type.endswith('bicycle') else (\n",
    "        \"car\" if v_type.startswith('passenger') else (\n",
    "            \"truck\" if v_type=='trailer' else (\n",
    "                \"taxi\" if v_type=='uber' else v_type\n",
    "            )\n",
    "        )\n",
    "    )\n",
    ")\n",
    "data['type'] = data['type'].map(redefine_types)\n",
    "\n",
    "np.sort(data['type'].unique())"
   ]
  },
  {
   "cell_type": "markdown",
   "metadata": {},
   "source": [
    "OK, better.\n",
    "Now we can build a tool to do some analysis.\n",
    "But first, we have to convert speed to numeric:"
   ]
  },
  {
   "cell_type": "code",
   "execution_count": 9,
   "metadata": {},
   "outputs": [],
   "source": [
    "def process_speed(v):\n",
    "    try: return float(v)*3.6\n",
    "    except ValueError: return np.NaN # we might have abnormal values\n",
    "\n",
    "data['speed'] = data['speed'].map(process_speed) # numeric in km/h from m/s"
   ]
  },
  {
   "cell_type": "markdown",
   "metadata": {},
   "source": [
    "Let's check if some objects had invalid speed:"
   ]
  },
  {
   "cell_type": "code",
   "execution_count": 10,
   "metadata": {},
   "outputs": [
    {
     "data": {
      "text/plain": [
       "array(['pedestrian_1-1-pt_5659', 'pedestrian_1-1-pt_4742',\n",
       "       'pedestrian_1-GW2_388', 'pedestrian_1-1-pt_3735',\n",
       "       'pedestrian_1-1-pt_6941', 'pedestrian_1-GW1_409',\n",
       "       'pedestrian_1-GW1_745', 'pedestrian_1-GW2_1070',\n",
       "       'pedestrian_GW1-1_3372'], dtype=object)"
      ]
     },
     "execution_count": 10,
     "metadata": {},
     "output_type": "execute_result"
    }
   ],
   "source": [
    "invalid_objects = data[data['speed'].isna()]['ID'].unique()\n",
    "invalid_objects"
   ]
  },
  {
   "cell_type": "markdown",
   "metadata": {},
   "source": [
    "Indeed there are, but they're very few luckily; let's drop them:"
   ]
  },
  {
   "cell_type": "code",
   "execution_count": 11,
   "metadata": {},
   "outputs": [],
   "source": [
    "data = data[~data['ID'].isin(invalid_objects)]"
   ]
  },
  {
   "cell_type": "markdown",
   "metadata": {},
   "source": [
    "Now we can create a useful tool to check and study types based on speed:"
   ]
  },
  {
   "cell_type": "code",
   "execution_count": 12,
   "metadata": {},
   "outputs": [],
   "source": [
    "grouped = data.groupby('type')['speed']\n",
    "speed_by_type = pd.DataFrame({\"v_max\": grouped.max(), \"v_mean\": grouped.mean()})\n",
    "speed_by_type[\"v_ratio\"] = speed_by_type.apply(lambda x: 100*x[1]/x[0], axis=1)"
   ]
  },
  {
   "cell_type": "markdown",
   "metadata": {},
   "source": [
    "Let's start to plot it and see what we can say:"
   ]
  },
  {
   "cell_type": "code",
   "execution_count": 13,
   "metadata": {},
   "outputs": [
    {
     "data": {
      "image/png": "[encoded data removed]",
      "text/plain": [
       "<Figure size 864x216 with 3 Axes>"
      ]
     },
     "metadata": {
      "needs_background": "light"
     },
     "output_type": "display_data"
    }
   ],
   "source": [
    "labels = [\"max. speed [km/h]\", \"average speed [km/h]\", \"speed ratio [%]\"]\n",
    "\n",
    "fig, axes = plt.subplots(nrows=1, ncols=3)\n",
    "for i,col in enumerate(speed_by_type.columns):\n",
    "    speed_by_type[col].sort_values().plot.bar(ax=axes[i], figsize=(12,3), xlabel=\"\", ylabel=labels[i])\n",
    "\n",
    "plt.tight_layout()"
   ]
  },
  {
   "cell_type": "markdown",
   "metadata": {},
   "source": [
    "OK, before focusing on the following plots let's stop at the first one because there's something really strange: the max. speed and its order among types seems quite reasonable except for... pedestrians are the fastest at all!\n",
    "Surely something wrong about pedestrians in the dataset! Fastest pedestrians in MoST should not exceed 8 km/h of speed!\n",
    "How many they are?"
   ]
  },
  {
   "cell_type": "code",
   "execution_count": 14,
   "metadata": {},
   "outputs": [
    {
     "name": "stdout",
     "output_type": "stream",
     "text": [
      "19526 pedestrians, 49.22% of total number of objects\n"
     ]
    }
   ],
   "source": [
    "n_p = len(data[data['type']=='pedestrian']['ID'].unique())\n",
    "print(F\"{n_p} pedestrians, {n_p/N:.2%} of total number of objects\")"
   ]
  },
  {
   "cell_type": "markdown",
   "metadata": {},
   "source": [
    "A lot! Probably they hide some passengers or whatever? Better try to work on them than directly drop them.\n",
    "Let's try to infer the type from the corresponding ID with suffix `_tr`, that is meant to be the pedestrian once he's taken a transportation mean. Maybe there's a wrong naming in the ID?"
   ]
  },
  {
   "cell_type": "markdown",
   "metadata": {},
   "source": [
    "<font color=\"fuchsia\">Machine learning algorithm to classify \"false\" pedestrians to other types to come next?</font>"
   ]
  },
  {
   "cell_type": "code",
   "execution_count": 15,
   "metadata": {},
   "outputs": [],
   "source": [
    "grouped = data.groupby('ID')['type']\n",
    "ped = grouped.min().filter(like='pedestrian', axis=0)\n",
    "\n",
    "assert ped.equals(grouped.max().filter(like='pedestrian', axis=0)) # sanity check (type unique along time)\n",
    "\n",
    "def reassign_ped(ID_type):\n",
    "    if ID_type[1]=='pedestrian':\n",
    "        try: return ped.loc[ID_type[0]+'_tr']+\" (P)\"\n",
    "        except KeyError: return 'pedestrian'\n",
    "    else: return ID_type[1]\n",
    "\n",
    "data['type_proc'] = data[['ID', 'type']].apply(reassign_ped, axis=1)"
   ]
  },
  {
   "cell_type": "markdown",
   "metadata": {},
   "source": [
    "Now let's recreate the tool as before and plot again:"
   ]
  },
  {
   "cell_type": "code",
   "execution_count": 17,
   "metadata": {},
   "outputs": [],
   "source": [
    "grouped = data.groupby('type_proc')['speed']\n",
    "speed_by_type = pd.DataFrame({\"v_max\": grouped.max(), \"v_mean\": grouped.mean()})\n",
    "speed_by_type[\"v_ratio\"] = speed_by_type.apply(lambda x: 100*x[1]/x[0], axis=1)"
   ]
  },
  {
   "cell_type": "code",
   "execution_count": 18,
   "metadata": {},
   "outputs": [
    {
     "data": {
      "image/png": "[encoded data removed]",
      "text/plain": [
       "<Figure size 864x216 with 3 Axes>"
      ]
     },
     "metadata": {
      "needs_background": "light"
     },
     "output_type": "display_data"
    }
   ],
   "source": [
    "labels = [\"max. speed [km/h]\", \"average speed [km/h]\", \"speed ratio [%]\"]\n",
    "\n",
    "fig, axes = plt.subplots(nrows=1, ncols=3)\n",
    "for i,col in enumerate(speed_by_type.columns):\n",
    "    speed_by_type[col].sort_values().plot.bar(ax=axes[i], figsize=(12,3), xlabel=\"\", ylabel=labels[i])\n",
    "\n",
    "plt.tight_layout()"
   ]
  },
  {
   "cell_type": "markdown",
   "metadata": {},
   "source": [
    "Now types are extremely close with respect to the max. speed (less in terms of average speed), but \"pure\" pedestrians reach still around 90 km/h! We can probably now merge the different types obtained before and finally drop the \"true\" pedestrians (speed due to teleporting?). Let's check before how many they are:"
   ]
  },
  {
   "cell_type": "code",
   "execution_count": 19,
   "metadata": {},
   "outputs": [
    {
     "name": "stdout",
     "output_type": "stream",
     "text": [
      "2447 \"true\" pedestrians, 12.53% of total pedestrians\n"
     ]
    }
   ],
   "source": [
    "n_ped = len(data[data['type_proc']=='pedestrian']['ID'].unique())\n",
    "print(F'{n_ped} \"true\" pedestrians, {n_ped/n_p:.2%} of total pedestrians')"
   ]
  },
  {
   "cell_type": "code",
   "execution_count": 21,
   "metadata": {},
   "outputs": [],
   "source": [
    "data['type_p'] = data['type_proc'].map(lambda x: x.split(' ')[0])\n",
    "data.drop('type_proc', axis=1, inplace=True)\n",
    "data = data[data['type_p']!='pedestrian']"
   ]
  },
  {
   "cell_type": "markdown",
   "metadata": {},
   "source": [
    "And finally plot the tool again:"
   ]
  },
  {
   "cell_type": "code",
   "execution_count": 22,
   "metadata": {},
   "outputs": [],
   "source": [
    "grouped = data.groupby('type_p')['speed']\n",
    "speed_by_type = pd.DataFrame({\"v_max\": grouped.max(), \"v_mean\": grouped.mean()})\n",
    "speed_by_type[\"v_ratio\"] = speed_by_type.apply(lambda x: 100*x[1]/x[0], axis=1)"
   ]
  },
  {
   "cell_type": "code",
   "execution_count": 23,
   "metadata": {},
   "outputs": [
    {
     "data": {
      "image/png": "[encoded data removed]",
      "text/plain": [
       "<Figure size 864x216 with 3 Axes>"
      ]
     },
     "metadata": {
      "needs_background": "light"
     },
     "output_type": "display_data"
    }
   ],
   "source": [
    "labels = [\"max. speed [km/h]\", \"average speed [km/h]\", \"speed ratio [%]\"]\n",
    "\n",
    "fig, axes = plt.subplots(nrows=1, ncols=3)\n",
    "for i,col in enumerate(speed_by_type.columns):\n",
    "    speed_by_type[col].sort_values().plot.bar(ax=axes[i], figsize=(12,3), xlabel=\"\", ylabel=labels[i])\n",
    "\n",
    "plt.tight_layout()"
   ]
  },
  {
   "cell_type": "markdown",
   "metadata": {},
   "source": [
    "<font color=\"blue\">Further analysis based on this starting point to come...</font>"
   ]
  },
  {
   "cell_type": "markdown",
   "metadata": {},
   "source": [
    "Buses and coaches keep stopping, thus they do not represent traffic very well; let's drop them:"
   ]
  },
  {
   "cell_type": "code",
   "execution_count": 137,
   "metadata": {},
   "outputs": [],
   "source": [
    "data = data[(data['type']!='bus') & (data['type']!='coach')]"
   ]
  },
  {
   "cell_type": "code",
   "execution_count": 132,
   "metadata": {},
   "outputs": [],
   "source": [
    "#real_ped['other_type'] = real_ped.index.map(mappa)\n",
    "#fig, axes = plt.subplots(nrows=3, ncols=1)\n",
    "#for i,j in enumerate(np.random.randint(0, army.shape[0], 3)):\n",
    "#    army.iloc[j].T.plot(ax=axes[i], figsize=(15,5))"
   ]
  },
  {
   "cell_type": "code",
   "execution_count": null,
   "metadata": {},
   "outputs": [],
   "source": []
  }
 ],
 "metadata": {
  "kernelspec": {
   "display_name": "Python 3",
   "language": "python",
   "name": "python3"
  },
  "language_info": {
   "codemirror_mode": {
    "name": "ipython",
    "version": 3
   },
   "file_extension": ".py",
   "mimetype": "text/x-python",
   "name": "python",
   "nbconvert_exporter": "python",
   "pygments_lexer": "ipython3",
   "version": "3.7.3"
  }
 },
 "nbformat": 4,
 "nbformat_minor": 4
}
