{
 "cells": [
  {
   "cell_type": "markdown",
   "metadata": {},
   "source": [
    "# Analysis of Urban-Traffic Simulated Data – part II\n",
    "##### Ruggero Fabbiano – 13 January 2021"
   ]
  },
  {
   "cell_type": "markdown",
   "metadata": {},
   "source": [
    "## Introduction\n",
    "\n",
    "As the title says itself, this notebook is intended as a prosecution of the Analysis of Urban-Traffic Simulated Data – part I. While in this previous notebook we did some exploratory data analysis to get an understanding the data and of its basic population statistics, here we delve into some analysis about the traffic conditions.\n",
    "    \n",
    "The dataset is of the same type of the one used in part I; moreover, we assume it to have already gone through the Data Cleaning step of part I. The scenario is still the same (MoST), but this time the selected interval is from 6 to 8:30 AM, so as to have richer traffic conditions.\n",
    "\n",
    "For further introduction, refer to part I, that can be found in the same GitHub repository."
   ]
  },
  {
   "cell_type": "markdown",
   "metadata": {},
   "source": [
    " ***"
   ]
  },
  {
   "cell_type": "markdown",
   "metadata": {},
   "source": [
    "## Import Packages and Data"
   ]
  },
  {
   "cell_type": "markdown",
   "metadata": {},
   "source": [
    "Let's be sure we have all the necessary packages installed:"
   ]
  },
  {
   "cell_type": "code",
   "execution_count": 1,
   "metadata": {},
   "outputs": [],
   "source": [
    "!pip install matplotlib\n",
    "!pip install numpy\n",
    "!pip install pandas"
   ]
  },
  {
   "cell_type": "markdown",
   "metadata": {},
   "source": [
    "We can now import them:"
   ]
  },
  {
   "cell_type": "code",
   "execution_count": 2,
   "metadata": {},
   "outputs": [],
   "source": [
    "import matplotlib.pyplot as plt\n",
    "import numpy as np\n",
    "import pandas as pd\n",
    "\n",
    "from datetime import timedelta, datetime, time\n",
    "\n",
    "plt.style.use('bmh')"
   ]
  },
  {
   "cell_type": "markdown",
   "metadata": {},
   "source": [
    "Now to the data. We choose here the set spanning from 6 to 8:30 AM, to have some free flow as well as congested traffic conditions:"
   ]
  },
  {
   "cell_type": "code",
   "execution_count": 3,
   "metadata": {},
   "outputs": [],
   "source": [
    "out_file = 'most_0600_0830_1_5.csv'"
   ]
  },
  {
   "cell_type": "markdown",
   "metadata": {},
   "source": [
    "As explained in the introduction, we suppose to have previously run the part-I notebook with the same data set, thus we have it already available in its compact form (_i.e._, as the dataframe is saved after the part-I \"Data Cleaning\" chapter)."
   ]
  },
  {
   "cell_type": "code",
   "execution_count": 4,
   "metadata": {},
   "outputs": [
    {
     "data": {
      "text/html": [
       "<div>\n",
       "<style scoped>\n",
       "    .dataframe tbody tr th:only-of-type {\n",
       "        vertical-align: middle;\n",
       "    }\n",
       "\n",
       "    .dataframe tbody tr th {\n",
       "        vertical-align: top;\n",
       "    }\n",
       "\n",
       "    .dataframe thead th {\n",
       "        text-align: right;\n",
       "    }\n",
       "</style>\n",
       "<table border=\"1\" class=\"dataframe\">\n",
       "  <thead>\n",
       "    <tr style=\"text-align: right;\">\n",
       "      <th></th>\n",
       "      <th>t</th>\n",
       "      <th>angle</th>\n",
       "      <th>ID</th>\n",
       "      <th>lane_edge</th>\n",
       "      <th>position</th>\n",
       "      <th>slope</th>\n",
       "      <th>speed</th>\n",
       "      <th>v_type</th>\n",
       "      <th>x</th>\n",
       "      <th>y</th>\n",
       "      <th>z</th>\n",
       "      <th>time</th>\n",
       "    </tr>\n",
       "  </thead>\n",
       "  <tbody>\n",
       "    <tr>\n",
       "      <th>0</th>\n",
       "      <td>21600.0</td>\n",
       "      <td>74.69</td>\n",
       "      <td>France:Italy.0</td>\n",
       "      <td>152525#0_0</td>\n",
       "      <td>7.2</td>\n",
       "      <td>3.42</td>\n",
       "      <td>0.0</td>\n",
       "      <td>hw_truck</td>\n",
       "      <td>66.77</td>\n",
       "      <td>2975.61</td>\n",
       "      <td>385.23</td>\n",
       "      <td>06:00:00</td>\n",
       "    </tr>\n",
       "    <tr>\n",
       "      <th>1</th>\n",
       "      <td>21600.0</td>\n",
       "      <td>171.94</td>\n",
       "      <td>Italy:France.0</td>\n",
       "      <td>152272_0</td>\n",
       "      <td>5.1</td>\n",
       "      <td>0.84</td>\n",
       "      <td>0.0</td>\n",
       "      <td>hw_passenger2b</td>\n",
       "      <td>7023.41</td>\n",
       "      <td>6356.52</td>\n",
       "      <td>280.47</td>\n",
       "      <td>06:00:00</td>\n",
       "    </tr>\n",
       "    <tr>\n",
       "      <th>2</th>\n",
       "      <td>21600.0</td>\n",
       "      <td>50.48</td>\n",
       "      <td>pedestrian_2-1_3985_tr</td>\n",
       "      <td>153330#1_1</td>\n",
       "      <td>2.2</td>\n",
       "      <td>-1.57</td>\n",
       "      <td>0.0</td>\n",
       "      <td>moped</td>\n",
       "      <td>4811.50</td>\n",
       "      <td>2704.21</td>\n",
       "      <td>143.81</td>\n",
       "      <td>06:00:00</td>\n",
       "    </tr>\n",
       "    <tr>\n",
       "      <th>3</th>\n",
       "      <td>21600.0</td>\n",
       "      <td>50.48</td>\n",
       "      <td>pedestrian_2-1_3985</td>\n",
       "      <td>153330#1</td>\n",
       "      <td>2.20</td>\n",
       "      <td>-1.55</td>\n",
       "      <td>0.00</td>\n",
       "      <td>NaN</td>\n",
       "      <td>4811.50</td>\n",
       "      <td>2704.21</td>\n",
       "      <td>143.81</td>\n",
       "      <td>06:00:00</td>\n",
       "    </tr>\n",
       "    <tr>\n",
       "      <th>4</th>\n",
       "      <td>21600.0</td>\n",
       "      <td>307.42</td>\n",
       "      <td>pedestrian_2-1_5063_tr</td>\n",
       "      <td>152413#3_1</td>\n",
       "      <td>2.3</td>\n",
       "      <td>-6.20</td>\n",
       "      <td>0.0</td>\n",
       "      <td>motorcycle</td>\n",
       "      <td>2006.06</td>\n",
       "      <td>3313.49</td>\n",
       "      <td>400.40</td>\n",
       "      <td>06:00:00</td>\n",
       "    </tr>\n",
       "  </tbody>\n",
       "</table>\n",
       "</div>"
      ],
      "text/plain": [
       "         t   angle                      ID   lane_edge position  slope speed  \\\n",
       "0  21600.0   74.69          France:Italy.0  152525#0_0      7.2   3.42   0.0   \n",
       "1  21600.0  171.94          Italy:France.0    152272_0      5.1   0.84   0.0   \n",
       "2  21600.0   50.48  pedestrian_2-1_3985_tr  153330#1_1      2.2  -1.57   0.0   \n",
       "3  21600.0   50.48     pedestrian_2-1_3985    153330#1     2.20  -1.55  0.00   \n",
       "4  21600.0  307.42  pedestrian_2-1_5063_tr  152413#3_1      2.3  -6.20   0.0   \n",
       "\n",
       "           v_type        x        y       z      time  \n",
       "0        hw_truck    66.77  2975.61  385.23  06:00:00  \n",
       "1  hw_passenger2b  7023.41  6356.52  280.47  06:00:00  \n",
       "2           moped  4811.50  2704.21  143.81  06:00:00  \n",
       "3             NaN  4811.50  2704.21  143.81  06:00:00  \n",
       "4      motorcycle  2006.06  3313.49  400.40  06:00:00  "
      ]
     },
     "execution_count": 4,
     "metadata": {},
     "output_type": "execute_result"
    }
   ],
   "source": [
    "out_file_clean = out_file.split(\".\")[0] + \"-clean\" + \".csv\"\n",
    "data = pd.read_csv(out_file_clean, low_memory=False)\n",
    "\n",
    "data.head()"
   ]
  },
  {
   "cell_type": "markdown",
   "metadata": {},
   "source": [
    "Now, before being able to infer meaningful information about traffic conditions, it is probably helpful to explore the different vehicle types."
   ]
  },
  {
   "cell_type": "markdown",
   "metadata": {},
   "source": [
    "## Preliminary: Feature Engineering on the Vehicle Type"
   ]
  },
  {
   "cell_type": "markdown",
   "metadata": {},
   "source": [
    "We might start off by dropping all the pedestrians, that won't probably be of much help in understanding traffic. Anyway let's just keep them for the moment, to see if they allow us some interesting comparisons (we can always drop them later); so, let's create a type for pedestrians as well:"
   ]
  },
  {
   "cell_type": "code",
   "execution_count": 5,
   "metadata": {},
   "outputs": [],
   "source": [
    "data['v_type'].fillna('pedestrian', inplace=True) # pedestrians have no vehicle type\n",
    "data.rename(columns={'v_type': \"type\"}, inplace=True) # \"type\" is not prerogative of vehicles anymore"
   ]
  },
  {
   "cell_type": "markdown",
   "metadata": {},
   "source": [
    "Now let's check which types we have:"
   ]
  },
  {
   "cell_type": "code",
   "execution_count": 6,
   "metadata": {},
   "outputs": [
    {
     "data": {
      "text/plain": [
       "array(['army', 'authority', 'avgbicycle', 'bus', 'coach', 'delivery',\n",
       "       'emergency', 'fastbicycle', 'hw_coach', 'hw_delivery',\n",
       "       'hw_motorcycle', 'hw_passenger1', 'hw_passenger2a',\n",
       "       'hw_passenger2b', 'hw_passenger3', 'hw_passenger4', 'hw_trailer',\n",
       "       'hw_truck', 'moped', 'motorcycle', 'passenger1', 'passenger2a',\n",
       "       'passenger2b', 'passenger3', 'passenger4', 'pedestrian',\n",
       "       'slowbicycle', 'taxi', 'trailer', 'train', 'truck', 'uber'],\n",
       "      dtype=object)"
      ]
     },
     "execution_count": 6,
     "metadata": {},
     "output_type": "execute_result"
    }
   ],
   "source": [
    "np.sort(data['type'].unique())"
   ]
  },
  {
   "cell_type": "markdown",
   "metadata": {},
   "source": [
    "Before further reasoning on the different types, we can probably use a bit of manual regrouping to make things easier. To understand the different types, we can refer to two useful tables in the SUMo documentation:\n",
    "* the [SUMo definition of abstract vehicle classes](https://sumo.dlr.de/docs/Definition_of_Vehicles,_Vehicle_Types,_and_Routes.html#abstract_vehicle_class);\n",
    "* the [SUMo vehicle-type parameters](https://sumo.dlr.de/docs/Vehicle_Type_Parameter_Defaults.html);\n",
    "\n",
    "as well as two files that define specific types for the MoST scenario:\n",
    "* `MoST_scenario\\scenario\\in\\add\\basic.vType.xml`;\n",
    "* `MoST_scenario\\scenario\\in\\route\\most.highway.flows.xml`.\n",
    "\n",
    "These files are in the MoST repository, that we forked and used to [generate data in a reproducible way](https://github.com/pgrandinetti/standard-traffic-data/blob/main/std_traffic/pipelines/Dockerfile.sumoToAws).\n",
    "\n",
    "Based on all of these sources, we can make the following considerations:\n",
    "* `army` and `authority` are abstract SUMo classes that have no specific parameter definition, and in MoST they are all grouped together with `emergency` vehicles;\n",
    "* `avgbicycle`, `fastbicycle` and `slowbicycle` are 3 different MoST-specific types of bicycles (with speed centered around the SUMo `bicycle` class' speed);\n",
    "* `coach` is supposed to be an overland person transportation mean, but is defined as a goods transport in MoST: maybe a mistake, we can probably drop it;\n",
    "* all vehicles starting with `hw_` are a MoST definition for vehicles running on motorways: definitely not fit for _urban_ traffic analysis;\n",
    "* vehicles starting with `passenger` represent in MoST different shapes of \"plain\" passenger cars;\n",
    "* `trailer` is just a variation of `truck`;\n",
    "* `train` is surely not interesting for traffic analysis;\n",
    "* `uber` is defined in MoST but represents the same concept as `taxi`."
   ]
  },
  {
   "cell_type": "markdown",
   "metadata": {},
   "source": [
    "Based on the considerations above, we can first drop coaches, motorways vehicles and trains; let's just print before that what percentage of the data they represent:"
   ]
  },
  {
   "cell_type": "code",
   "execution_count": 7,
   "metadata": {},
   "outputs": [
    {
     "name": "stdout",
     "output_type": "stream",
     "text": [
      "Representation of total number of vehicles: 1.96%\n",
      "Coaches: 0.41%\t\tTrains: 0.04%\t\tMotorway vehicles: 1.51%\n"
     ]
    }
   ],
   "source": [
    "N = len(data['ID'].unique())\n",
    "n_c = len(data[data['type']=='coach']['ID'].unique())\n",
    "n_t = len(data[data['type']=='train']['ID'].unique())\n",
    "n_HW = len(data[data['type'].apply(lambda x: x.startswith('hw_'))]['ID'].unique())\n",
    "\n",
    "print(F\"Representation of total number of vehicles: {(n_c+n_t+n_HW)/N:.2%}\")\n",
    "print(F\"Coaches: {n_c/N:.2%}\\t\\tTrains: {n_t/N:.2%}\\t\\tMotorway vehicles: {n_HW/N:.2%}\")"
   ]
  },
  {
   "cell_type": "markdown",
   "metadata": {},
   "source": [
    "OK, let's drop them:"
   ]
  },
  {
   "cell_type": "code",
   "execution_count": 8,
   "metadata": {},
   "outputs": [],
   "source": [
    "not_coach = data['type']!='coach'\n",
    "not_motorway = data['type'].apply(lambda x: not x.startswith('hw_'))\n",
    "not_train = data['type']!='train'\n",
    "\n",
    "data = data[not_coach & not_motorway & not_train]"
   ]
  },
  {
   "cell_type": "markdown",
   "metadata": {},
   "source": [
    "Now we can group the remaining vehicles as discussed before:"
   ]
  },
  {
   "cell_type": "code",
   "execution_count": 9,
   "metadata": {},
   "outputs": [
    {
     "data": {
      "text/plain": [
       "array(['bicycle', 'bus', 'car', 'delivery', 'hire', 'lorry', 'moped',\n",
       "       'motorcycle', 'pedestrian', 'special'], dtype=object)"
      ]
     },
     "execution_count": 9,
     "metadata": {},
     "output_type": "execute_result"
    }
   ],
   "source": [
    "redefine_types = lambda v_type: \"special\" if v_type in ['army', 'authority', 'emergency'] else (\n",
    "    \"bicycle\" if v_type.endswith('bicycle') else (\n",
    "        \"car\" if v_type.startswith('passenger') else (\n",
    "            \"lorry\" if v_type in ['trailer', 'truck'] else (\n",
    "                \"hire\" if v_type in ['taxi', 'uber'] else v_type\n",
    "            )\n",
    "        )\n",
    "    )\n",
    ")\n",
    "data['type'] = data['type'].map(redefine_types)\n",
    "\n",
    "np.sort(data['type'].unique())"
   ]
  },
  {
   "cell_type": "markdown",
   "metadata": {},
   "source": [
    "Better. Now we can do some further analysis based on their speed; to do so, we have to convert speed to numeric first:"
   ]
  },
  {
   "cell_type": "code",
   "execution_count": 10,
   "metadata": {},
   "outputs": [],
   "source": [
    "def process_speed(v):\n",
    "    try: return float(v)*3.6\n",
    "    except ValueError: return np.NaN # we might have abnormal values\n",
    "\n",
    "data['speed'] = data['speed'].map(process_speed) # numeric in km/h from m/s"
   ]
  },
  {
   "cell_type": "markdown",
   "metadata": {},
   "source": [
    "Let's check for invalid speeds:"
   ]
  },
  {
   "cell_type": "code",
   "execution_count": 11,
   "metadata": {},
   "outputs": [
    {
     "data": {
      "text/plain": [
       "array(['pedestrian_1-1-pt_5659', 'pedestrian_1-1-pt_4742',\n",
       "       'pedestrian_1-GW2_388', 'pedestrian_1-1-pt_3735',\n",
       "       'pedestrian_1-1-pt_6941', 'pedestrian_1-GW1_409',\n",
       "       'pedestrian_1-GW1_745', 'pedestrian_1-GW2_1070',\n",
       "       'pedestrian_GW1-1_3372'], dtype=object)"
      ]
     },
     "execution_count": 11,
     "metadata": {},
     "output_type": "execute_result"
    }
   ],
   "source": [
    "invalid_objects = data[data['speed'].isna()]['ID'].unique()\n",
    "invalid_objects"
   ]
  },
  {
   "cell_type": "markdown",
   "metadata": {},
   "source": [
    "Indeed there are, but they're fortunately very few; let's drop them:"
   ]
  },
  {
   "cell_type": "code",
   "execution_count": 12,
   "metadata": {},
   "outputs": [],
   "source": [
    "data = data[~data['ID'].isin(invalid_objects)]"
   ]
  },
  {
   "cell_type": "markdown",
   "metadata": {},
   "source": [
    "Now let's look at speed by type.\n",
    "Let's do the grouping:"
   ]
  },
  {
   "cell_type": "code",
   "execution_count": 13,
   "metadata": {},
   "outputs": [],
   "source": [
    "grouped = data.groupby('type')['speed']\n",
    "speed_by_type = pd.DataFrame({\"v_mean\": grouped.mean(), \"v_max\": grouped.max()})\n",
    "speed_by_type[\"v_ratio\"] = speed_by_type.apply(lambda x: 100*x[0]/x[1], axis=1)"
   ]
  },
  {
   "cell_type": "markdown",
   "metadata": {},
   "source": [
    "And now let's see if the barplot tells us something useful:"
   ]
  },
  {
   "cell_type": "code",
   "execution_count": 14,
   "metadata": {},
   "outputs": [
    {
     "data": {
      "image/png": "[encoded data removed]",
      "text/plain": [
       "<Figure size 864x216 with 3 Axes>"
      ]
     },
     "metadata": {
      "needs_background": "light"
     },
     "output_type": "display_data"
    }
   ],
   "source": [
    "labels = [\"average speed [km/h]\", \"max. speed [km/h]\", \"speed ratio [%]\"]\n",
    "\n",
    "fig, axes = plt.subplots(nrows=1, ncols=3)\n",
    "for i,col in enumerate(speed_by_type.columns):\n",
    "    speed_by_type[col].sort_values().plot.bar(ax=axes[i], figsize=(12,3), xlabel=\"\", ylabel=labels[i])\n",
    "\n",
    "plt.tight_layout()"
   ]
  },
  {
   "cell_type": "markdown",
   "metadata": {},
   "source": [
    "We can already see some very interesting trend!\n",
    "* The average speed graph tells us that car have lower average speed than bicycles! While being very interesting, this is probably inherent to the traffic condition itself more than an \"unexpected behaviour\".\n",
    "* The max. speed (graph 2) looks more or less as expected, expect for the fact that... pedestrians are the fastest objects overall! There sure must be something wrong about pedestrians in the dataset. Looking at pedestrian definition in SUMo and the speed deviation defined in MoST, they should definitely not exceed (quite obviously) 8 km/h of speed!\n",
    "* Finally, looking at the speed ratio it looks like bicycles are by far the less affected by traffic."
   ]
  },
  {
   "cell_type": "markdown",
   "metadata": {},
   "source": [
    "This last point can be taken care of quite easily: it is probably better to drop bicycles, because they are less sensible to traffic congestions and thus not very useful to analyse them. The same conclusion can probably be drawn for buses for the opposite reason: they stop continuously, thus making hard to use their behaviour to interpret traffic. This can indeed explain a low speed ratio even with a relatively low maximum speed."
   ]
  },
  {
   "cell_type": "markdown",
   "metadata": {},
   "source": [
    "#### Save the data on-file\n",
    "\n",
    "Before dropping objects anyway, let us save the processed dataset; it might be useful in future analyses.\n",
    "\n",
    "We use the Pandas built-in `pickle` type here, but you might want to check out also `feather` or `parquet` for better performances."
   ]
  },
  {
   "cell_type": "code",
   "execution_count": 15,
   "metadata": {},
   "outputs": [],
   "source": [
    "data.to_pickle(\"MoST_0600_0830_processed.pkl\")"
   ]
  },
  {
   "cell_type": "markdown",
   "metadata": {},
   "source": [
    "#### Back to the analysis\n",
    "\n",
    "Now we can get drop bicycles and buses:"
   ]
  },
  {
   "cell_type": "code",
   "execution_count": 16,
   "metadata": {},
   "outputs": [],
   "source": [
    "data = data[(data['type']!='bicycle') & (data['type']!='bus')]"
   ]
  },
  {
   "cell_type": "markdown",
   "metadata": {},
   "source": [
    "We might as well get rid of pedestrians, but we may lose a lot of data doing so; let's check how many they are:"
   ]
  },
  {
   "cell_type": "code",
   "execution_count": 17,
   "metadata": {},
   "outputs": [
    {
     "name": "stdout",
     "output_type": "stream",
     "text": [
      "19526 pedestrians, 52.53% of total number of objects\n"
     ]
    }
   ],
   "source": [
    "N = len(data['ID'].unique())\n",
    "n_p = len(data[data['type']=='pedestrian']['ID'].unique())\n",
    "print(F\"{n_p} pedestrians, {n_p/N:.2%} of total number of objects\")"
   ]
  },
  {
   "cell_type": "markdown",
   "metadata": {},
   "source": [
    "They are the majority! Probably they hide some other type of vehicle? Better try to work on them than directly drop them.\n",
    "We know that when a pedestrian catches a transportation mean (_e.g._, a bus), a corresponding object with the same ID with suffix `_tr` is created. We can try to infer the type from the this corresponding object: maybe there's some kind of bug in pedestrians handling?"
   ]
  },
  {
   "cell_type": "code",
   "execution_count": 18,
   "metadata": {},
   "outputs": [],
   "source": [
    "grouped = data.groupby('ID')['type']\n",
    "ped = grouped.min().filter(like='pedestrian', axis=0)\n",
    "\n",
    "# sanity check: verify that each \"_tr\" object has always the same type along time)\n",
    "assert ped.equals(grouped.max().filter(like='pedestrian', axis=0))\n",
    "\n",
    "def reassign_ped(ID_type):\n",
    "    if ID_type[1]=='pedestrian':\n",
    "        try: return ped.loc[ID_type[0]+'_tr']+\" (P)\"\n",
    "        except KeyError: return 'pedestrian'\n",
    "    else: return ID_type[1]\n",
    "\n",
    "data['type_proc'] = data[['ID', 'type']].apply(reassign_ped, axis=1)"
   ]
  },
  {
   "cell_type": "markdown",
   "metadata": {},
   "source": [
    "Now let's regroup the speed by type and plot it again:"
   ]
  },
  {
   "cell_type": "code",
   "execution_count": 19,
   "metadata": {},
   "outputs": [],
   "source": [
    "grouped = data.groupby('type_proc')['speed']\n",
    "speed_by_type = pd.DataFrame({\"v_mean\": grouped.mean(), \"v_max\": grouped.max()})\n",
    "speed_by_type[\"v_ratio\"] = speed_by_type.apply(lambda x: 100*x[0]/x[1], axis=1)"
   ]
  },
  {
   "cell_type": "code",
   "execution_count": 20,
   "metadata": {},
   "outputs": [
    {
     "data": {
      "image/png": "[encoded data removed]",
      "text/plain": [
       "<Figure size 864x216 with 3 Axes>"
      ]
     },
     "metadata": {
      "needs_background": "light"
     },
     "output_type": "display_data"
    }
   ],
   "source": [
    "labels = [\"average speed [km/h]\", \"max. speed [km/h]\", \"speed ratio [%]\"]\n",
    "\n",
    "fig, axes = plt.subplots(nrows=1, ncols=3)\n",
    "for i,col in enumerate(speed_by_type.columns):\n",
    "    speed_by_type[col].sort_values().plot.bar(ax=axes[i], figsize=(12,3), xlabel=\"\", ylabel=labels[i])\n",
    "\n",
    "plt.tight_layout()"
   ]
  },
  {
   "cell_type": "markdown",
   "metadata": {},
   "source": [
    "We can observe that the maximum speed reached by the new types is extremely close to that of the corresponding original type: maybe our guess was correct? The average speed is slightly higher, but this is a statistical parameter thus depending on the population (while the max. speed is more related to the specific type).\n",
    "On the other hand, \"pure\" pedestrians still reach still a speed of around 90 km/h! We can probably now merge the types here obtained with their corresponding:"
   ]
  },
  {
   "cell_type": "code",
   "execution_count": 21,
   "metadata": {},
   "outputs": [],
   "source": [
    "data['type_p'] = data['type_proc'].map(lambda x: x.split(' ')[0])\n",
    "data.drop('type_proc', axis=1, inplace=True)"
   ]
  },
  {
   "cell_type": "markdown",
   "metadata": {},
   "source": [
    "Let's save the dataset obtained (we might want to use it in future works) before continuing:"
   ]
  },
  {
   "cell_type": "code",
   "execution_count": 22,
   "metadata": {},
   "outputs": [],
   "source": [
    "data.to_pickle(\"ped_reclassified.pkl\")"
   ]
  },
  {
   "cell_type": "markdown",
   "metadata": {},
   "source": [
    "And now drop the pedestrians left:"
   ]
  },
  {
   "cell_type": "code",
   "execution_count": 23,
   "metadata": {},
   "outputs": [
    {
     "name": "stdout",
     "output_type": "stream",
     "text": [
      "3916 \"true\" pedestrians, 20.06% of total pedestrians\n"
     ]
    }
   ],
   "source": [
    "n_ped = len(data[data['type_p']=='pedestrian']['ID'].unique())\n",
    "print(F'{n_ped} \"true\" pedestrians, {n_ped/n_p:.2%} of total pedestrians')\n",
    "\n",
    "data = data[data['type_p']!='pedestrian']"
   ]
  },
  {
   "cell_type": "markdown",
   "metadata": {},
   "source": [
    "Let's plot the speed by type a last time to check what it looks like now:"
   ]
  },
  {
   "cell_type": "code",
   "execution_count": 24,
   "metadata": {},
   "outputs": [],
   "source": [
    "grouped = data.groupby('type_p')['speed']\n",
    "speed_by_type = pd.DataFrame({\"v_mean\": grouped.mean(), \"v_max\": grouped.max()})\n",
    "speed_by_type[\"v_ratio\"] = speed_by_type.apply(lambda x: 100*x[0]/x[1], axis=1)"
   ]
  },
  {
   "cell_type": "code",
   "execution_count": 25,
   "metadata": {},
   "outputs": [
    {
     "data": {
      "image/png": "[encoded data removed]",
      "text/plain": [
       "<Figure size 864x216 with 3 Axes>"
      ]
     },
     "metadata": {
      "needs_background": "light"
     },
     "output_type": "display_data"
    }
   ],
   "source": [
    "labels = [\"average speed [km/h]\", \"max. speed [km/h]\", \"speed ratio [%]\"]\n",
    "\n",
    "fig, axes = plt.subplots(nrows=1, ncols=3)\n",
    "for i,col in enumerate(speed_by_type.columns):\n",
    "    speed_by_type[col].sort_values().plot.bar(ax=axes[i], figsize=(12,3), xlabel=\"\", ylabel=labels[i])\n",
    "\n",
    "plt.tight_layout()"
   ]
  },
  {
   "cell_type": "markdown",
   "metadata": {},
   "source": [
    "The average speed of private vehicles is lower than 20 km/h!"
   ]
  },
  {
   "cell_type": "markdown",
   "metadata": {},
   "source": [
    "## Congestion Analysis"
   ]
  },
  {
   "cell_type": "markdown",
   "metadata": {},
   "source": [
    "Now that we have some \"reliable\" data about vehicles, it's time to analyse the traffic conditions and see if we can get some hints from the data. We do this by formulating some hypotheses to be validated via data analysis."
   ]
  },
  {
   "cell_type": "markdown",
   "metadata": {},
   "source": [
    "**Average speed keeps decreasing with time**\n",
    "\n",
    "Given the MoST demand (traffic peak at 8:30, the end of our simulation), we should expect it to decrease as our simulation goes on."
   ]
  },
  {
   "cell_type": "code",
   "execution_count": 26,
   "metadata": {},
   "outputs": [
    {
     "data": {
      "image/png": "[encoded data removed]",
      "text/plain": [
       "<Figure size 720x216 with 1 Axes>"
      ]
     },
     "metadata": {
      "needs_background": "light"
     },
     "output_type": "display_data"
    }
   ],
   "source": [
    "data.groupby('time').mean()['speed'].plot(figsize=(10,3), ylabel=\"average speed [km/h]\");"
   ]
  },
  {
   "cell_type": "markdown",
   "metadata": {},
   "source": [
    "**Vehicles spend half of their time at less than 30 km/h**"
   ]
  },
  {
   "cell_type": "code",
   "execution_count": 27,
   "metadata": {},
   "outputs": [
    {
     "name": "stdout",
     "output_type": "stream",
     "text": [
      "Vehicles spend in average the 49.96% of their time driving at more than 30 km/h speed\n"
     ]
    }
   ],
   "source": [
    "ID_speed_TS = pd.pivot_table(data, index='ID', columns='time', values='speed')\n",
    "more_than_30 = ID_speed_TS.apply(lambda x: sum(x>30)/sum(x.notna()), axis=1)\n",
    "print(F\"Vehicles spend in average the {more_than_30.mean():.2%} of their time driving at more than 30 km/h speed\")"
   ]
  },
  {
   "cell_type": "markdown",
   "metadata": {},
   "source": [
    "**The most used lanes have an average speed lower than 10 km/h**"
   ]
  },
  {
   "cell_type": "code",
   "execution_count": 28,
   "metadata": {},
   "outputs": [
    {
     "data": {
      "text/html": [
       "<div>\n",
       "<style scoped>\n",
       "    .dataframe tbody tr th:only-of-type {\n",
       "        vertical-align: middle;\n",
       "    }\n",
       "\n",
       "    .dataframe tbody tr th {\n",
       "        vertical-align: top;\n",
       "    }\n",
       "\n",
       "    .dataframe thead th {\n",
       "        text-align: right;\n",
       "    }\n",
       "</style>\n",
       "<table border=\"1\" class=\"dataframe\">\n",
       "  <thead>\n",
       "    <tr style=\"text-align: right;\">\n",
       "      <th></th>\n",
       "      <th>ID</th>\n",
       "      <th>mean speed</th>\n",
       "    </tr>\n",
       "    <tr>\n",
       "      <th>lane_edge</th>\n",
       "      <th></th>\n",
       "      <th></th>\n",
       "    </tr>\n",
       "  </thead>\n",
       "  <tbody>\n",
       "    <tr>\n",
       "      <th>152466#0_1</th>\n",
       "      <td>413336</td>\n",
       "      <td>0.144685</td>\n",
       "    </tr>\n",
       "    <tr>\n",
       "      <th>152649#1_1</th>\n",
       "      <td>294299</td>\n",
       "      <td>0.345245</td>\n",
       "    </tr>\n",
       "    <tr>\n",
       "      <th>152818#3_1</th>\n",
       "      <td>264382</td>\n",
       "      <td>0.253156</td>\n",
       "    </tr>\n",
       "    <tr>\n",
       "      <th>-152605#0_1</th>\n",
       "      <td>244588</td>\n",
       "      <td>0.437675</td>\n",
       "    </tr>\n",
       "    <tr>\n",
       "      <th>-152480_1</th>\n",
       "      <td>237558</td>\n",
       "      <td>0.517493</td>\n",
       "    </tr>\n",
       "    <tr>\n",
       "      <th>152896_1</th>\n",
       "      <td>230950</td>\n",
       "      <td>0.138940</td>\n",
       "    </tr>\n",
       "    <tr>\n",
       "      <th>152771_1</th>\n",
       "      <td>225676</td>\n",
       "      <td>0.245177</td>\n",
       "    </tr>\n",
       "    <tr>\n",
       "      <th>152824#1_1</th>\n",
       "      <td>202639</td>\n",
       "      <td>0.203132</td>\n",
       "    </tr>\n",
       "    <tr>\n",
       "      <th>152451_1</th>\n",
       "      <td>198459</td>\n",
       "      <td>0.217084</td>\n",
       "    </tr>\n",
       "    <tr>\n",
       "      <th>-152814#4_1</th>\n",
       "      <td>181990</td>\n",
       "      <td>0.525114</td>\n",
       "    </tr>\n",
       "    <tr>\n",
       "      <th>-152398#2_1</th>\n",
       "      <td>179963</td>\n",
       "      <td>0.234887</td>\n",
       "    </tr>\n",
       "    <tr>\n",
       "      <th>152677#5_1</th>\n",
       "      <td>174783</td>\n",
       "      <td>0.201187</td>\n",
       "    </tr>\n",
       "    <tr>\n",
       "      <th>-152831#0_1</th>\n",
       "      <td>169977</td>\n",
       "      <td>0.203593</td>\n",
       "    </tr>\n",
       "    <tr>\n",
       "      <th>-153559#2_1</th>\n",
       "      <td>162296</td>\n",
       "      <td>0.135756</td>\n",
       "    </tr>\n",
       "    <tr>\n",
       "      <th>152780_1</th>\n",
       "      <td>153112</td>\n",
       "      <td>0.349676</td>\n",
       "    </tr>\n",
       "  </tbody>\n",
       "</table>\n",
       "</div>"
      ],
      "text/plain": [
       "                 ID  mean speed\n",
       "lane_edge                      \n",
       "152466#0_1   413336    0.144685\n",
       "152649#1_1   294299    0.345245\n",
       "152818#3_1   264382    0.253156\n",
       "-152605#0_1  244588    0.437675\n",
       "-152480_1    237558    0.517493\n",
       "152896_1     230950    0.138940\n",
       "152771_1     225676    0.245177\n",
       "152824#1_1   202639    0.203132\n",
       "152451_1     198459    0.217084\n",
       "-152814#4_1  181990    0.525114\n",
       "-152398#2_1  179963    0.234887\n",
       "152677#5_1   174783    0.201187\n",
       "-152831#0_1  169977    0.203593\n",
       "-153559#2_1  162296    0.135756\n",
       "152780_1     153112    0.349676"
      ]
     },
     "execution_count": 28,
     "metadata": {},
     "output_type": "execute_result"
    }
   ],
   "source": [
    "by_lane = data.groupby('lane_edge')\n",
    "\n",
    "most_used = pd.DataFrame(by_lane['ID'].count().sort_values(ascending=False).head(15))\n",
    "most_used.rename(columns={'ID': \"n. vehicles\"})\n",
    "\n",
    "speed_by_lane = by_lane['speed'].mean()\n",
    "most_used['mean speed'] = most_used.index.map(lambda x: speed_by_lane[x])\n",
    "\n",
    "most_used"
   ]
  },
  {
   "cell_type": "markdown",
   "metadata": {},
   "source": [
    "First of all, there is a lane that is exceeding by far all the others concerning the total number of vehicles using it.\n",
    "And speaking about speeds, wow, they are actually close to 0! The finding is so striking that it's better to verify their max. speed too, to be sure nothing is wrong about them:"
   ]
  },
  {
   "cell_type": "code",
   "execution_count": 29,
   "metadata": {},
   "outputs": [
    {
     "data": {
      "text/html": [
       "<div>\n",
       "<style scoped>\n",
       "    .dataframe tbody tr th:only-of-type {\n",
       "        vertical-align: middle;\n",
       "    }\n",
       "\n",
       "    .dataframe tbody tr th {\n",
       "        vertical-align: top;\n",
       "    }\n",
       "\n",
       "    .dataframe thead th {\n",
       "        text-align: right;\n",
       "    }\n",
       "</style>\n",
       "<table border=\"1\" class=\"dataframe\">\n",
       "  <thead>\n",
       "    <tr style=\"text-align: right;\">\n",
       "      <th></th>\n",
       "      <th>ID</th>\n",
       "      <th>mean speed</th>\n",
       "      <th>max. speed</th>\n",
       "    </tr>\n",
       "    <tr>\n",
       "      <th>lane_edge</th>\n",
       "      <th></th>\n",
       "      <th></th>\n",
       "      <th></th>\n",
       "    </tr>\n",
       "  </thead>\n",
       "  <tbody>\n",
       "    <tr>\n",
       "      <th>152466#0_1</th>\n",
       "      <td>413336</td>\n",
       "      <td>0.144685</td>\n",
       "      <td>51.372</td>\n",
       "    </tr>\n",
       "    <tr>\n",
       "      <th>152649#1_1</th>\n",
       "      <td>294299</td>\n",
       "      <td>0.345245</td>\n",
       "      <td>61.128</td>\n",
       "    </tr>\n",
       "    <tr>\n",
       "      <th>152818#3_1</th>\n",
       "      <td>264382</td>\n",
       "      <td>0.253156</td>\n",
       "      <td>59.868</td>\n",
       "    </tr>\n",
       "    <tr>\n",
       "      <th>-152605#0_1</th>\n",
       "      <td>244588</td>\n",
       "      <td>0.437675</td>\n",
       "      <td>62.640</td>\n",
       "    </tr>\n",
       "    <tr>\n",
       "      <th>-152480_1</th>\n",
       "      <td>237558</td>\n",
       "      <td>0.517493</td>\n",
       "      <td>63.324</td>\n",
       "    </tr>\n",
       "    <tr>\n",
       "      <th>152896_1</th>\n",
       "      <td>230950</td>\n",
       "      <td>0.138940</td>\n",
       "      <td>43.848</td>\n",
       "    </tr>\n",
       "    <tr>\n",
       "      <th>152771_1</th>\n",
       "      <td>225676</td>\n",
       "      <td>0.245177</td>\n",
       "      <td>58.428</td>\n",
       "    </tr>\n",
       "    <tr>\n",
       "      <th>152824#1_1</th>\n",
       "      <td>202639</td>\n",
       "      <td>0.203132</td>\n",
       "      <td>57.492</td>\n",
       "    </tr>\n",
       "    <tr>\n",
       "      <th>152451_1</th>\n",
       "      <td>198459</td>\n",
       "      <td>0.217084</td>\n",
       "      <td>62.928</td>\n",
       "    </tr>\n",
       "    <tr>\n",
       "      <th>-152814#4_1</th>\n",
       "      <td>181990</td>\n",
       "      <td>0.525114</td>\n",
       "      <td>59.976</td>\n",
       "    </tr>\n",
       "    <tr>\n",
       "      <th>-152398#2_1</th>\n",
       "      <td>179963</td>\n",
       "      <td>0.234887</td>\n",
       "      <td>59.796</td>\n",
       "    </tr>\n",
       "    <tr>\n",
       "      <th>152677#5_1</th>\n",
       "      <td>174783</td>\n",
       "      <td>0.201187</td>\n",
       "      <td>58.140</td>\n",
       "    </tr>\n",
       "    <tr>\n",
       "      <th>-152831#0_1</th>\n",
       "      <td>169977</td>\n",
       "      <td>0.203593</td>\n",
       "      <td>63.180</td>\n",
       "    </tr>\n",
       "    <tr>\n",
       "      <th>-153559#2_1</th>\n",
       "      <td>162296</td>\n",
       "      <td>0.135756</td>\n",
       "      <td>45.432</td>\n",
       "    </tr>\n",
       "    <tr>\n",
       "      <th>152780_1</th>\n",
       "      <td>153112</td>\n",
       "      <td>0.349676</td>\n",
       "      <td>62.676</td>\n",
       "    </tr>\n",
       "  </tbody>\n",
       "</table>\n",
       "</div>"
      ],
      "text/plain": [
       "                 ID  mean speed  max. speed\n",
       "lane_edge                                  \n",
       "152466#0_1   413336    0.144685      51.372\n",
       "152649#1_1   294299    0.345245      61.128\n",
       "152818#3_1   264382    0.253156      59.868\n",
       "-152605#0_1  244588    0.437675      62.640\n",
       "-152480_1    237558    0.517493      63.324\n",
       "152896_1     230950    0.138940      43.848\n",
       "152771_1     225676    0.245177      58.428\n",
       "152824#1_1   202639    0.203132      57.492\n",
       "152451_1     198459    0.217084      62.928\n",
       "-152814#4_1  181990    0.525114      59.976\n",
       "-152398#2_1  179963    0.234887      59.796\n",
       "152677#5_1   174783    0.201187      58.140\n",
       "-152831#0_1  169977    0.203593      63.180\n",
       "-153559#2_1  162296    0.135756      45.432\n",
       "152780_1     153112    0.349676      62.676"
      ]
     },
     "execution_count": 29,
     "metadata": {},
     "output_type": "execute_result"
    }
   ],
   "source": [
    "speed_by_lane = by_lane['speed'].max()\n",
    "most_used['max. speed'] = most_used.index.map(lambda x: speed_by_lane[x])\n",
    "\n",
    "most_used"
   ]
  },
  {
   "cell_type": "markdown",
   "metadata": {},
   "source": [
    "Nothing weird, it just gets pretty congested in there..."
   ]
  },
  {
   "cell_type": "markdown",
   "metadata": {},
   "source": [
    "**Are those lanes the same where we can find most vehicles _at the same time_?**\n",
    "\n",
    "This is not really a hypothesis, but we want to understand if there are lanes where vehicles tend to be more equally distributed in time, thus allowing for less congested traffic conditions. If there are any, we may guess it should be the ones with the higher average speed."
   ]
  },
  {
   "cell_type": "code",
   "execution_count": 30,
   "metadata": {},
   "outputs": [
    {
     "data": {
      "text/html": [
       "<div>\n",
       "<style scoped>\n",
       "    .dataframe tbody tr th:only-of-type {\n",
       "        vertical-align: middle;\n",
       "    }\n",
       "\n",
       "    .dataframe tbody tr th {\n",
       "        vertical-align: top;\n",
       "    }\n",
       "\n",
       "    .dataframe thead th {\n",
       "        text-align: right;\n",
       "    }\n",
       "</style>\n",
       "<table border=\"1\" class=\"dataframe\">\n",
       "  <thead>\n",
       "    <tr style=\"text-align: right;\">\n",
       "      <th></th>\n",
       "      <th>ID</th>\n",
       "      <th>mean speed</th>\n",
       "      <th>max. speed</th>\n",
       "      <th>max. queue</th>\n",
       "    </tr>\n",
       "    <tr>\n",
       "      <th>lane_edge</th>\n",
       "      <th></th>\n",
       "      <th></th>\n",
       "      <th></th>\n",
       "      <th></th>\n",
       "    </tr>\n",
       "  </thead>\n",
       "  <tbody>\n",
       "    <tr>\n",
       "      <th>152466#0_1</th>\n",
       "      <td>413336</td>\n",
       "      <td>0.144685</td>\n",
       "      <td>51.372</td>\n",
       "      <td>511.0</td>\n",
       "    </tr>\n",
       "    <tr>\n",
       "      <th>152649#1_1</th>\n",
       "      <td>294299</td>\n",
       "      <td>0.345245</td>\n",
       "      <td>61.128</td>\n",
       "      <td>256.0</td>\n",
       "    </tr>\n",
       "    <tr>\n",
       "      <th>152818#3_1</th>\n",
       "      <td>264382</td>\n",
       "      <td>0.253156</td>\n",
       "      <td>59.868</td>\n",
       "      <td>337.0</td>\n",
       "    </tr>\n",
       "    <tr>\n",
       "      <th>-152605#0_1</th>\n",
       "      <td>244588</td>\n",
       "      <td>0.437675</td>\n",
       "      <td>62.640</td>\n",
       "      <td>293.0</td>\n",
       "    </tr>\n",
       "    <tr>\n",
       "      <th>-152480_1</th>\n",
       "      <td>237558</td>\n",
       "      <td>0.517493</td>\n",
       "      <td>63.324</td>\n",
       "      <td>288.0</td>\n",
       "    </tr>\n",
       "    <tr>\n",
       "      <th>152896_1</th>\n",
       "      <td>230950</td>\n",
       "      <td>0.138940</td>\n",
       "      <td>43.848</td>\n",
       "      <td>254.0</td>\n",
       "    </tr>\n",
       "    <tr>\n",
       "      <th>152771_1</th>\n",
       "      <td>225676</td>\n",
       "      <td>0.245177</td>\n",
       "      <td>58.428</td>\n",
       "      <td>273.0</td>\n",
       "    </tr>\n",
       "    <tr>\n",
       "      <th>152824#1_1</th>\n",
       "      <td>202639</td>\n",
       "      <td>0.203132</td>\n",
       "      <td>57.492</td>\n",
       "      <td>213.0</td>\n",
       "    </tr>\n",
       "    <tr>\n",
       "      <th>152451_1</th>\n",
       "      <td>198459</td>\n",
       "      <td>0.217084</td>\n",
       "      <td>62.928</td>\n",
       "      <td>243.0</td>\n",
       "    </tr>\n",
       "    <tr>\n",
       "      <th>-152814#4_1</th>\n",
       "      <td>181990</td>\n",
       "      <td>0.525114</td>\n",
       "      <td>59.976</td>\n",
       "      <td>NaN</td>\n",
       "    </tr>\n",
       "    <tr>\n",
       "      <th>-152398#2_1</th>\n",
       "      <td>179963</td>\n",
       "      <td>0.234887</td>\n",
       "      <td>59.796</td>\n",
       "      <td>244.0</td>\n",
       "    </tr>\n",
       "    <tr>\n",
       "      <th>152677#5_1</th>\n",
       "      <td>174783</td>\n",
       "      <td>0.201187</td>\n",
       "      <td>58.140</td>\n",
       "      <td>251.0</td>\n",
       "    </tr>\n",
       "    <tr>\n",
       "      <th>-152831#0_1</th>\n",
       "      <td>169977</td>\n",
       "      <td>0.203593</td>\n",
       "      <td>63.180</td>\n",
       "      <td>219.0</td>\n",
       "    </tr>\n",
       "    <tr>\n",
       "      <th>-153559#2_1</th>\n",
       "      <td>162296</td>\n",
       "      <td>0.135756</td>\n",
       "      <td>45.432</td>\n",
       "      <td>194.0</td>\n",
       "    </tr>\n",
       "    <tr>\n",
       "      <th>152780_1</th>\n",
       "      <td>153112</td>\n",
       "      <td>0.349676</td>\n",
       "      <td>62.676</td>\n",
       "      <td>317.0</td>\n",
       "    </tr>\n",
       "  </tbody>\n",
       "</table>\n",
       "</div>"
      ],
      "text/plain": [
       "                 ID  mean speed  max. speed  max. queue\n",
       "lane_edge                                              \n",
       "152466#0_1   413336    0.144685      51.372       511.0\n",
       "152649#1_1   294299    0.345245      61.128       256.0\n",
       "152818#3_1   264382    0.253156      59.868       337.0\n",
       "-152605#0_1  244588    0.437675      62.640       293.0\n",
       "-152480_1    237558    0.517493      63.324       288.0\n",
       "152896_1     230950    0.138940      43.848       254.0\n",
       "152771_1     225676    0.245177      58.428       273.0\n",
       "152824#1_1   202639    0.203132      57.492       213.0\n",
       "152451_1     198459    0.217084      62.928       243.0\n",
       "-152814#4_1  181990    0.525114      59.976         NaN\n",
       "-152398#2_1  179963    0.234887      59.796       244.0\n",
       "152677#5_1   174783    0.201187      58.140       251.0\n",
       "-152831#0_1  169977    0.203593      63.180       219.0\n",
       "-153559#2_1  162296    0.135756      45.432       194.0\n",
       "152780_1     153112    0.349676      62.676       317.0"
      ]
     },
     "execution_count": 30,
     "metadata": {},
     "output_type": "execute_result"
    }
   ],
   "source": [
    "edge_use_TS = pd.pivot_table(data, index='lane_edge', columns='time', values='ID', aggfunc='count')\n",
    "most_crowded = edge_use_TS.max(axis=1).sort_values(ascending=False).head(15)\n",
    "most_used['max. queue'] = most_used.index.map(lambda x: most_crowded[x] if x in most_crowded else np.nan)\n",
    "most_used"
   ]
  },
  {
   "cell_type": "markdown",
   "metadata": {},
   "source": [
    "Only one, and the one with the highest average speed, as we guessed. Thus, speed is not relly \"high\"... let's check its value for the number of simultaneous vehicles:"
   ]
  },
  {
   "cell_type": "code",
   "execution_count": 31,
   "metadata": {},
   "outputs": [
    {
     "data": {
      "text/plain": [
       "lane_edge\n",
       "-152814#4_1    130.0\n",
       "dtype: float64"
      ]
     },
     "execution_count": 31,
     "metadata": {},
     "output_type": "execute_result"
    }
   ],
   "source": [
    "edge_use_TS.max(axis=1)[most_used[most_used['max. queue'].isna()].index]"
   ]
  },
  {
   "cell_type": "markdown",
   "metadata": {},
   "source": [
    "Indeed it is quite lower than the value of the other most used lanes. And what about if we think in terms of vehicle density (in vehicles/km)? For this we have to estimate the lane's length..."
   ]
  },
  {
   "cell_type": "code",
   "execution_count": 32,
   "metadata": {},
   "outputs": [
    {
     "data": {
      "text/html": [
       "<div>\n",
       "<style scoped>\n",
       "    .dataframe tbody tr th:only-of-type {\n",
       "        vertical-align: middle;\n",
       "    }\n",
       "\n",
       "    .dataframe tbody tr th {\n",
       "        vertical-align: top;\n",
       "    }\n",
       "\n",
       "    .dataframe thead th {\n",
       "        text-align: right;\n",
       "    }\n",
       "</style>\n",
       "<table border=\"1\" class=\"dataframe\">\n",
       "  <thead>\n",
       "    <tr style=\"text-align: right;\">\n",
       "      <th></th>\n",
       "      <th>ID</th>\n",
       "      <th>mean speed</th>\n",
       "      <th>max. speed</th>\n",
       "      <th>max. queue</th>\n",
       "      <th>length</th>\n",
       "      <th>max. density</th>\n",
       "    </tr>\n",
       "    <tr>\n",
       "      <th>lane_edge</th>\n",
       "      <th></th>\n",
       "      <th></th>\n",
       "      <th></th>\n",
       "      <th></th>\n",
       "      <th></th>\n",
       "      <th></th>\n",
       "    </tr>\n",
       "  </thead>\n",
       "  <tbody>\n",
       "    <tr>\n",
       "      <th>152466#0_1</th>\n",
       "      <td>413336</td>\n",
       "      <td>0.144685</td>\n",
       "      <td>51.372</td>\n",
       "      <td>511.0</td>\n",
       "      <td>9.75</td>\n",
       "      <td>52410.256410</td>\n",
       "    </tr>\n",
       "    <tr>\n",
       "      <th>152649#1_1</th>\n",
       "      <td>294299</td>\n",
       "      <td>0.345245</td>\n",
       "      <td>61.128</td>\n",
       "      <td>256.0</td>\n",
       "      <td>99.85</td>\n",
       "      <td>2563.845769</td>\n",
       "    </tr>\n",
       "    <tr>\n",
       "      <th>152818#3_1</th>\n",
       "      <td>264382</td>\n",
       "      <td>0.253156</td>\n",
       "      <td>59.868</td>\n",
       "      <td>337.0</td>\n",
       "      <td>9.92</td>\n",
       "      <td>33971.774194</td>\n",
       "    </tr>\n",
       "    <tr>\n",
       "      <th>-152605#0_1</th>\n",
       "      <td>244588</td>\n",
       "      <td>0.437675</td>\n",
       "      <td>62.640</td>\n",
       "      <td>293.0</td>\n",
       "      <td>99.95</td>\n",
       "      <td>2931.465733</td>\n",
       "    </tr>\n",
       "    <tr>\n",
       "      <th>-152480_1</th>\n",
       "      <td>237558</td>\n",
       "      <td>0.517493</td>\n",
       "      <td>63.324</td>\n",
       "      <td>288.0</td>\n",
       "      <td>99.93</td>\n",
       "      <td>2882.017412</td>\n",
       "    </tr>\n",
       "    <tr>\n",
       "      <th>152896_1</th>\n",
       "      <td>230950</td>\n",
       "      <td>0.138940</td>\n",
       "      <td>43.848</td>\n",
       "      <td>254.0</td>\n",
       "      <td>9.85</td>\n",
       "      <td>25786.802030</td>\n",
       "    </tr>\n",
       "    <tr>\n",
       "      <th>152771_1</th>\n",
       "      <td>225676</td>\n",
       "      <td>0.245177</td>\n",
       "      <td>58.428</td>\n",
       "      <td>273.0</td>\n",
       "      <td>99.97</td>\n",
       "      <td>2730.819246</td>\n",
       "    </tr>\n",
       "    <tr>\n",
       "      <th>152824#1_1</th>\n",
       "      <td>202639</td>\n",
       "      <td>0.203132</td>\n",
       "      <td>57.492</td>\n",
       "      <td>213.0</td>\n",
       "      <td>9.89</td>\n",
       "      <td>21536.905966</td>\n",
       "    </tr>\n",
       "    <tr>\n",
       "      <th>152451_1</th>\n",
       "      <td>198459</td>\n",
       "      <td>0.217084</td>\n",
       "      <td>62.928</td>\n",
       "      <td>243.0</td>\n",
       "      <td>99.89</td>\n",
       "      <td>2432.675944</td>\n",
       "    </tr>\n",
       "    <tr>\n",
       "      <th>-152814#4_1</th>\n",
       "      <td>181990</td>\n",
       "      <td>0.525114</td>\n",
       "      <td>59.976</td>\n",
       "      <td>NaN</td>\n",
       "      <td>99.92</td>\n",
       "      <td>NaN</td>\n",
       "    </tr>\n",
       "    <tr>\n",
       "      <th>-152398#2_1</th>\n",
       "      <td>179963</td>\n",
       "      <td>0.234887</td>\n",
       "      <td>59.796</td>\n",
       "      <td>244.0</td>\n",
       "      <td>9.85</td>\n",
       "      <td>24771.573604</td>\n",
       "    </tr>\n",
       "    <tr>\n",
       "      <th>152677#5_1</th>\n",
       "      <td>174783</td>\n",
       "      <td>0.201187</td>\n",
       "      <td>58.140</td>\n",
       "      <td>251.0</td>\n",
       "      <td>9.84</td>\n",
       "      <td>25508.130081</td>\n",
       "    </tr>\n",
       "    <tr>\n",
       "      <th>-152831#0_1</th>\n",
       "      <td>169977</td>\n",
       "      <td>0.203593</td>\n",
       "      <td>63.180</td>\n",
       "      <td>219.0</td>\n",
       "      <td>9.99</td>\n",
       "      <td>21921.921922</td>\n",
       "    </tr>\n",
       "    <tr>\n",
       "      <th>-153559#2_1</th>\n",
       "      <td>162296</td>\n",
       "      <td>0.135756</td>\n",
       "      <td>45.432</td>\n",
       "      <td>194.0</td>\n",
       "      <td>9.99</td>\n",
       "      <td>19419.419419</td>\n",
       "    </tr>\n",
       "    <tr>\n",
       "      <th>152780_1</th>\n",
       "      <td>153112</td>\n",
       "      <td>0.349676</td>\n",
       "      <td>62.676</td>\n",
       "      <td>317.0</td>\n",
       "      <td>98.24</td>\n",
       "      <td>3226.791531</td>\n",
       "    </tr>\n",
       "  </tbody>\n",
       "</table>\n",
       "</div>"
      ],
      "text/plain": [
       "                 ID  mean speed  max. speed  max. queue  length  max. density\n",
       "lane_edge                                                                    \n",
       "152466#0_1   413336    0.144685      51.372       511.0    9.75  52410.256410\n",
       "152649#1_1   294299    0.345245      61.128       256.0   99.85   2563.845769\n",
       "152818#3_1   264382    0.253156      59.868       337.0    9.92  33971.774194\n",
       "-152605#0_1  244588    0.437675      62.640       293.0   99.95   2931.465733\n",
       "-152480_1    237558    0.517493      63.324       288.0   99.93   2882.017412\n",
       "152896_1     230950    0.138940      43.848       254.0    9.85  25786.802030\n",
       "152771_1     225676    0.245177      58.428       273.0   99.97   2730.819246\n",
       "152824#1_1   202639    0.203132      57.492       213.0    9.89  21536.905966\n",
       "152451_1     198459    0.217084      62.928       243.0   99.89   2432.675944\n",
       "-152814#4_1  181990    0.525114      59.976         NaN   99.92           NaN\n",
       "-152398#2_1  179963    0.234887      59.796       244.0    9.85  24771.573604\n",
       "152677#5_1   174783    0.201187      58.140       251.0    9.84  25508.130081\n",
       "-152831#0_1  169977    0.203593      63.180       219.0    9.99  21921.921922\n",
       "-153559#2_1  162296    0.135756      45.432       194.0    9.99  19419.419419\n",
       "152780_1     153112    0.349676      62.676       317.0   98.24   3226.791531"
      ]
     },
     "execution_count": 32,
     "metadata": {},
     "output_type": "execute_result"
    }
   ],
   "source": [
    "edge_l = by_lane['position'].max().apply(lambda x: float(x))\n",
    "most_used[\"length\"] = most_used.index.map(lambda x: edge_l[x])\n",
    "\n",
    "most_used[\"max. density\"] = most_used[['max. queue', 'length']].apply(lambda x: x[0]/(x[1]/1000), axis=1)\n",
    "most_used"
   ]
  },
  {
   "cell_type": "markdown",
   "metadata": {},
   "source": [
    "This is weird, the values seem a bit too high... as we could already have observed by noticing that there the longest queue contains more vehicles than the lane's meters!"
   ]
  },
  {
   "cell_type": "markdown",
   "metadata": {},
   "source": [
    "**There are some lanes where congestions last more than 30' minutes**\n",
    "\n",
    "In other words, we are assuming that, in the most congested edges, the average speed keeps staying lower than 5 km/h for more than 30' in a row."
   ]
  },
  {
   "cell_type": "code",
   "execution_count": 33,
   "metadata": {},
   "outputs": [],
   "source": [
    "edge_speed_TS = pd.pivot_table(data, index='lane_edge', columns='time', values='speed', aggfunc='mean')\n",
    "edge_speed_TS.dropna(thresh=edge_speed_TS.shape[1]-30*60/5, inplace=True) # drop edges with less than 30' traffic\n",
    "edge_speed_TS = edge_speed_TS.fillna(np.inf).applymap(lambda x: \"F\" if x>5 else \"C\")\n",
    "\n",
    "get_longest_queue = lambda TS: max([len(Q) for Q in ''.join(TS).split('F')])\n",
    "longest_queue_duration = lambda TS: (datetime.min+timedelta(seconds=5*(max(get_longest_queue(TS)-1, 0)))).time()\n",
    "\n",
    "edge_speed_TS['max. queue duration'] = edge_speed_TS.apply(longest_queue_duration, axis=1)"
   ]
  },
  {
   "cell_type": "code",
   "execution_count": 34,
   "metadata": {},
   "outputs": [
    {
     "data": {
      "text/plain": [
       "lane_edge\n",
       "-152674#1_1    02:19:10\n",
       "152896_1       02:18:45\n",
       "152466#0_1     02:18:35\n",
       "-153559#2_1    02:16:45\n",
       "152818#3_1     02:16:00\n",
       "152451_1       02:15:50\n",
       "152796#0_1     02:15:40\n",
       "152824#1_1     02:15:00\n",
       "-152134_1      02:14:55\n",
       "152832#1_1     02:14:45\n",
       "152775#4_1     02:14:40\n",
       "-152814#4_1    02:13:45\n",
       "152771_1       02:11:25\n",
       "-153480#7_1    02:10:10\n",
       "152649#1_1     02:10:05\n",
       "Name: max. queue duration, dtype: object"
      ]
     },
     "execution_count": 34,
     "metadata": {},
     "output_type": "execute_result"
    }
   ],
   "source": [
    "worst_lanes = edge_speed_TS['max. queue duration'].sort_values(ascending=False).head(15)\n",
    "worst_lanes"
   ]
  },
  {
   "cell_type": "markdown",
   "metadata": {},
   "source": [
    "Wow, in the worse lane the average speed is lower than 5 km/h for almost all the time! Is it even in our table of most-used lanes? If not, let's look at its corresponding values:"
   ]
  },
  {
   "cell_type": "code",
   "execution_count": 35,
   "metadata": {},
   "outputs": [
    {
     "name": "stdout",
     "output_type": "stream",
     "text": [
      "Aggregate number of vehicles: 78335\n",
      "Average speed: 0.134 km/h\n",
      "Max. speed: 38.63 km/h\n",
      "Max. number of vehicles per instant: 77\n"
     ]
    }
   ],
   "source": [
    "if worst_lanes.index[0] not in most_used.index:\n",
    "    print(F\"Aggregate number of vehicles: {by_lane['ID'].count()['-152674#1_1']}\")\n",
    "    print(F\"Average speed: {by_lane['speed'].mean()['-152674#1_1']:.3f} km/h\")\n",
    "    print(F\"Max. speed: {by_lane['speed'].max()['-152674#1_1']:.2f} km/h\")\n",
    "    print(F\"Max. number of vehicles per instant: {edge_use_TS.loc['-152674#1_1'].max():.0f}\")"
   ]
  },
  {
   "cell_type": "markdown",
   "metadata": {},
   "source": [
    "Much less vehicles than the others, and still the lowest speeds!"
   ]
  },
  {
   "cell_type": "markdown",
   "metadata": {},
   "source": [
    "**Vehicles that travel for half an hour or more spend most of their time waiting**\n",
    "\n",
    "This can be seen as the converse for vehicles of the previous statement."
   ]
  },
  {
   "cell_type": "code",
   "execution_count": 36,
   "metadata": {},
   "outputs": [
    {
     "data": {
      "text/plain": [
       "ID\n",
       "pedestrian_3-1_721_tr        0.814839\n",
       "pedestrian_3-1_3941_tr       0.821133\n",
       "pedestrian_3-1_2806_tr       0.821721\n",
       "pedestrian_3-1_1519_tr       0.822581\n",
       "pedestrian_3-1_320_tr        0.823895\n",
       "                               ...   \n",
       "pedestrian_2-1_1290_tr       0.988656\n",
       "pedestrian_2-1_2759_tr       0.988749\n",
       "pedestrian_2-1_4901_tr       0.989056\n",
       "pedestrian_1-1-veh_681_tr    0.989778\n",
       "commercial_1-1_157           0.989835\n",
       "Length: 1480, dtype: float64"
      ]
     },
     "execution_count": 36,
     "metadata": {},
     "output_type": "execute_result"
    }
   ],
   "source": [
    "ID_speed_TS.dropna(thresh=ID_speed_TS.shape[1]-30*60/5, inplace=True) # drop IDs with less than 30' travel-time\n",
    "ratio_t_queueing = ID_speed_TS.apply(lambda x: sum(x.dropna()<5)/len(x.dropna()), axis=1)\n",
    "ratio_t_queueing.sort_values()"
   ]
  },
  {
   "cell_type": "markdown",
   "metadata": {},
   "source": [
    "Same as before, even worse than expected. Vehicles that queue most spend almost all their time in jams (almost 99 %)! Even those that queue less, if they travel at least half an hour then they still spend the 80 % of their time waiting!"
   ]
  },
  {
   "cell_type": "markdown",
   "metadata": {},
   "source": [
    "**The number of vehicles stuck in traffic increases quadratically with time**\n",
    "\n",
    "Given the speed values we saw before, it is right to assume that the formation of congestions is much faster that linear. Also, minutes seem to be a right choice for time, if we think in terms of a reasonable time-constant for the traffic process. "
   ]
  },
  {
   "cell_type": "code",
   "execution_count": 37,
   "metadata": {},
   "outputs": [
    {
     "data": {
      "image/png": "[encoded data removed]",
      "text/plain": [
       "<Figure size 720x216 with 1 Axes>"
      ]
     },
     "metadata": {
      "needs_background": "light"
     },
     "output_type": "display_data"
    }
   ],
   "source": [
    "n_veh_queueing = pd.DataFrame(ID_speed_TS.apply(lambda x: sum(x.dropna()<5)), columns=[\"n. vehicles\"])\n",
    "\n",
    "get_minutes = lambda x: (datetime.strptime(x, '%H:%M:%S') - datetime(1900, 1, 1)).total_seconds()/60-360\n",
    "base = list(n_veh_queueing.index.map(get_minutes))\n",
    "n_veh_queueing['quadratical growth'] = [x**2 for x in base]\n",
    "\n",
    "n_veh_queueing.plot(figsize=(10,3));"
   ]
  },
  {
   "cell_type": "markdown",
   "metadata": {},
   "source": [
    "Oups, we didn't consider the network saturation; still, the approximation seems to effectively hold true before this happen. Let's zoom:"
   ]
  },
  {
   "cell_type": "code",
   "execution_count": 38,
   "metadata": {},
   "outputs": [
    {
     "data": {
      "image/png": "[encoded data removed]",
      "text/plain": [
       "<Figure size 720x216 with 1 Axes>"
      ]
     },
     "metadata": {
      "needs_background": "light"
     },
     "output_type": "display_data"
    }
   ],
   "source": [
    "n_veh_queueing.loc[:'06:40:01'].plot(figsize=(10,3));"
   ]
  },
  {
   "cell_type": "markdown",
   "metadata": {},
   "source": [
    "## Conclusions"
   ]
  },
  {
   "cell_type": "markdown",
   "metadata": {},
   "source": [
    "We performed a data-driven analysis of a traffic process by looking at the features of vehicles and lanes. Before doing that, to be sure we were examining meaningful data, we had to refine the database itself to deal with a main issue: speed values inconsistent with the declared vehicle type.\n",
    "\n",
    "We are now ready to take a step forward and apply some machine learning algorithms to make traffic predictions. Looking at the problem we faced, a natural application could be to implement a classification algorithm to automatically guess and assign the \"correct\" vehicle type. This will be the object of a further notebook."
   ]
  }
 ],
 "metadata": {
  "kernelspec": {
   "display_name": "Python 3",
   "language": "python",
   "name": "python3"
  },
  "language_info": {
   "codemirror_mode": {
    "name": "ipython",
    "version": 3
   },
   "file_extension": ".py",
   "mimetype": "text/x-python",
   "name": "python",
   "nbconvert_exporter": "python",
   "pygments_lexer": "ipython3",
   "version": "3.9.2"
  }
 },
 "nbformat": 4,
 "nbformat_minor": 4
}
