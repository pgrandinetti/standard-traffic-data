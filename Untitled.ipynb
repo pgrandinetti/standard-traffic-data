{
 "cells": [
  {
   "cell_type": "markdown",
   "metadata": {},
   "source": [
    "# Title\n",
    "Pietro Grandinetti,...\n",
    "\n",
    "Date"
   ]
  },
  {
   "cell_type": "markdown",
   "metadata": {},
   "source": [
    "## Introduction\n",
    "\n",
    "In this article I am going to try out statistical inference techniques with the goal to draw insights from a pretty large dataset.\n",
    "\n",
    "I will touch on several subjects, from Python and PostgreSQL, to data sampling, hypothesis testing and inference, while driven by a business point of view. In other terms, I will put myself at the place of the Data Scientist who's been given the task to provide its business with data-driven, actionable insights.\n",
    "\n",
    "The content will thus be interesting for those of you who work on any of the following topics:\n",
    "- Python development\n",
    "- Database programming and optimization\n",
    "- Inferential Statistics\n",
    "- Data Science"
   ]
  },
  {
   "cell_type": "markdown",
   "metadata": {},
   "source": [
    "## The data (and the story behind it)\n",
    "\n",
    "Raw data is the fuel behind the most important innovations of these days. It's a pity that many organizations keep their data secret. On the one hand, I understand their reasons; on the other, history has shown that open-source contributions drive innovation like, or even more than, competition.\n",
    "\n",
    "That's why we set on a mission to publish everything we do and make it reproducible. One of the first things we did was to take a complicated machinery developed by researchers at the Communication Systems Department\n",
    "of Sophia-Antipolis, France, that was already open-sourced and we made it more easily accessible and 100% reproducible.\n",
    "\n",
    "The result is... _a lot_ of data.\n",
    "\n",
    "This is a system that simulates road traffic in the Principality of Monaco for ten hours, starting from 4am. It basically is a fairly large network of roads (think of a graph) inside which vehicles of any type and pedestrians  move (think of objects moving from node to node of a graph).\n",
    "\n",
    "The key is that every vehicle is equipped with a GPS-like sensor. Therefore, at the end of the simulation, we can retrieve instantaneous positions and speed information for each vehicle. That sounds like a great dataset!\n",
    "\n",
    "We've done this already, put all data in CSV format as well as loaded them into a PostgreSQL database. Then (suprise!), we simply published the data on the internet. You can download all of them on your computer without even asking. And you can reproduce the experiment (or run your own) in a couple of clicks. Careful though, it's many gigabytes of data-- may take a while. I would recommend to first read this through [this article](url) that shows some interesting exploratory data analysis done over a subset of the data. **ADD LINK**"
   ]
  },
  {
   "cell_type": "markdown",
   "metadata": {},
   "source": [
    "## Data Settings\n",
    "\n",
    "The dataset is definitely great, though it presents an obvious obstacle to start with: it's a bit too large!\n",
    "\n",
    "In fact, I am not even sure how many records are there. For sure, it's fixed size, therefore I could theoretically download the CSV, wait for probably a few hours, then run a `wc -l` to know its size, wait several minutes and then I'd get the number. And then... what?\n",
    "\n",
    "I suspect the dataset contains about 100 million rows, but this information is useless. I also know it's a CSV of around 8 GB (I can see the file size in the browser when it asks me to confirm the download), but this information is not very useful either.\n",
    "\n",
    "I was not given a cluster of computers with a lot of memory. I am using my laptop with 8G of fast memory. Even if I download the entire file, how am I supposed to load it into memory?\n",
    "\n",
    "The same problem applies to the PostgreSQL database. For sure the database has a lot of advantages over the CSV file (and the unique disadvantage that you need to know a bit of SQL!), but it comes with problems too. First of all, to maintain it costs money. I was forbidden by my team to run a `select count(*)` which would consume a lot of memory and maybe even take down the CPU of the server that hosts the DB. In fact, I suspect that our database administrator has disabled queries like that one. Imagine if I were to take down the entire server!\n",
    "\n",
    "No reason to worry too much though. This is a fairly common situation for data scientists. Whether you were given 1 billion tweets, 500 million pictures, or 100 million payment transactions, you won't be able to analyze the dataset in its entirety.\n",
    "\n",
    "You and I need a hat."
   ]
  },
  {
   "cell_type": "markdown",
   "metadata": {},
   "source": [
    "## Choose the right hat (Statistical Settings)\n",
    "\n",
    "I need to wear the statistician hat to work on this task.\n",
    "\n",
    "The database will be the _population_ that I have to study. I will have to come up with _hypothesis_ about this population, driven by _samples_ and _reject_ (or not) them via statistical _testing_ and _evidence_.\n",
    "\n",
    "Statisticians never assume to know the entire population. Think about healthcare studies: when a company wants to evaluate the effectiveness of a new drug, they certainly don't assume to know how the entire world's population would react to it. They take a sample (volunteers usually), test the drug on this small sample and then make conclusions based on statistical evidence.\n",
    "\n",
    "This is the correct Data Science approach for large dataset, and it's the one I'll use."
   ]
  },
  {
   "cell_type": "markdown",
   "metadata": {},
   "source": [
    "## My questions to the dataset\n",
    "\n",
    "Let's get down to business now.\n",
    "\n",
    "My approach to statistical analysis is to ask questions. These questions will drive sampling and light exploration, and then shape the hypotheses. Once I have some meaningful hypotheses, I will work on them statistically (via hypothesis testing).\n",
    "\n",
    "Here are my initial questions for this dataset.\n",
    "\n",
    "**What is the maximum capacity of the city?**\n",
    "\n",
    "In fact, I don't know if traffic gets ever so bad that the network reaches its capacity. Nobody told me that, and I suspect it's not the case.\n",
    "My question refers more to the maximum number of objects that are moving in the network _at the same time_. Again, I can't just scan the whole population to get the \"true\" answer, hence I will need to resort to some different technique and come up with a data-driven approximation of the \"true\" answer.\n",
    "\n",
    "**From where do most vehicles enter the network?**\n",
    "\n",
    "I think it can be very useful to present at my next team meeting a 2D map of the city that shows the hotspots where a lot of objects enter the city.\n",
    "\n",
    "**What are the most congested spots?**\n",
    "\n",
    "I am still thinking about a 2D map of the city. It would surely be useful to know where traffic gets the worst. I believe this can be interpreted in multiple ways: I could say that it's bad traffic if there a lot of cars, or if the speed is very low. This point will probably drive further analysis.\n",
    "\n",
    "**What is the highest speed vehicles travel at?**\n",
    "\n",
    "Again, not the \"true\" highest speed. Think statistically.\n",
    "\n",
    "**What is the average speed vehicles travel at?**\n",
    "\n",
    "Similar concept to the previous question.\n",
    "\n",
    "**Hypothesis: A vehicle is 95% likely to travel at an average speed of 20 km/h. True or False?**\n",
    "\n",
    "**What are the lengths of the 10 longest queues of vehicles? Where are they?**\n",
    "\n",
    "I believe the answer to this question will require some extra computational power."
   ]
  },
  {
   "cell_type": "markdown",
   "metadata": {},
   "source": [
    "## Preliminaries\n",
    "\n",
    "I am definitely going to need `pandas`. I will also need a connection to the database, and I will use `psycopg2` for managing it.\n",
    "Then, I will need `scipy` for the statistical part.\n",
    "\n",
    "I will of course need a few more modules and libraries."
   ]
  },
  {
   "cell_type": "code",
   "execution_count": null,
   "metadata": {},
   "outputs": [],
   "source": [
    "!pip install pandas\n",
    "!pip install psycopg2\n",
    "!pip install numpy"
   ]
  },
  {
   "cell_type": "code",
   "execution_count": 1,
   "metadata": {},
   "outputs": [],
   "source": [
    "import os\n",
    "import time\n",
    "\n",
    "import pandas as pd\n",
    "import numpy as np\n",
    "import matplotlib.pyplot as plt\n",
    "import psycopg2\n",
    "\n",
    "import concurrent.futures"
   ]
  },
  {
   "cell_type": "markdown",
   "metadata": {},
   "source": [
    "I follow the best practice to have credentials and other environment variables in a `.env` file. Before executing this notebook, I do `$source .env` which is why now I can find them into `os.environ`. That's how I am going to initialize the database connection."
   ]
  },
  {
   "cell_type": "code",
   "execution_count": null,
   "metadata": {},
   "outputs": [],
   "source": [
    "def db_conn():\n",
    "    return psycopg2.connect(\n",
    "        host=os.environ['DB_HOST'],\n",
    "        port=os.environ['DB_PORT'],\n",
    "        password=os.environ['DB_PASSWORD'],\n",
    "        user=os.environ['DB_USER'],\n",
    "        dbname=os.environ['DB_NAME']\n",
    "    )\n",
    "connection = db_conn()\n",
    "assert connection"
   ]
  },
  {
   "cell_type": "markdown",
   "metadata": {},
   "source": [
    "That's it for the preliminaries! Let me know go ahead and talk about the cornerstone of this article, _the sampling procedure_."
   ]
  },
  {
   "cell_type": "markdown",
   "metadata": {},
   "source": [
    "## Sampling from the population"
   ]
  },
  {
   "cell_type": "markdown",
   "metadata": {},
   "source": [
    "_Sampling_ literally means to extract a few elements from the population. The most famous example of it is probably the [Urn problem](https://en.wikipedia.org/wiki/Urn_problem).\n",
    "\n",
    "With respect to urns and health studies I am in a advantageous position. Here the population sits in a database therefore I can take as many samples as we want. There are however a few gotchas to keep in mind:\n",
    "\n",
    "- I shouldn't rely on the fact that \"it's a database so I can look at the whole\". In fact, I cannot. Not only because the size is very large, but rather because it's unknown. Somebody may put more data in there, at any time.\n",
    "- I have be careful on the load I put on the database CPU. Hundreds, or low thousands of records should be fine.\n",
    "- The samples have to be taken as randomly as possible. As you know, it's not easy to have real randomness in computer systems.\n",
    "\n",
    "Luckily, PostgreSQL is here for the rescue.\n",
    "\n",
    "From version 9.5, PostgreSQL supports an operator called [TABLESAMPLE](https://www.postgresql.org/docs/9.5/sql-select.html). Like the name suggests, this allows to take a sample of a table.\n",
    "\n",
    "Few, very important things to keep in mind:\n",
    "\n",
    "- `TABLESAMPLE` can be applied either with `SYSTEM` or with `BERNOULLI` as sampling method. The first one is _very_ fast, because it's based on blocks/pages, but because of this it's not really random. The latter is slower, but offer better randomization, and is the one I will use.\n",
    "- It requires a real number between 0 and 100, that represents the percentage of the table to sample. However, the result will not be the _exact_ percentage of rows, just a close number.\n",
    "- `TABLESAMPLE` is applied _before_ the `WHERE` clause. Hence, if I want to have 100 rows all respecting a certain condition, I have to sample more to try to get close to 100 after the `WHERE` is applied.\n",
    "\n",
    "This is a very brief overview and you should definitely read up the documentation for more details. There are some takeways for the experiments I will be working on.\n",
    "\n",
    "To start with, `TABLESAMPLE` can be _seeded_. This is common practice in numerical simulation, to initialize all pseudo-random algorithms with a seed, so that the experiment is reproducible. However, in this case I think it's unnecessary -- it doesn't fit well the inferential set-up, in my opinion. I will not seed the samples, hence keep in mind that when you run the notebook the results may vary slightly. **?TODO?**\n",
    "\n",
    "The second point I want to make is about the percentage used to select the sample. I want to underline that the percentage doesn't offer guarantee on the total number of records in the database, nor it does about the number of rows I will get in output! PostgreSQL _tries_ to select that percentage of rows, but for efficiency reasons it may actually be a different value. In other words, if I use 0.1 and I get back 1000 records, it doesn't mean that there are 10,000 records in total. In fact, if I run the same command again I may get a slightly different number."
   ]
  },
  {
   "cell_type": "markdown",
   "metadata": {},
   "source": [
    "Before continuing, let's see `TABLESAMPLE` in action with `BERNOULLI` sampling method. I will ask PostgreSQL to give me 0.001% of the population of vehicle IDs."
   ]
  },
  {
   "cell_type": "code",
   "execution_count": 3,
   "metadata": {},
   "outputs": [
    {
     "name": "stdout",
     "output_type": "stream",
     "text": [
      "CPU times: user 112 ms, sys: 7.73 ms, total: 119 ms\n",
      "Wall time: 2min 8s\n",
      "<class 'pandas.core.frame.DataFrame'>\n",
      "RangeIndex: 70 entries, 0 to 69\n",
      "Data columns (total 2 columns):\n",
      " #   Column         Non-Null Count  Dtype  \n",
      "---  ------         --------------  -----  \n",
      " 0   timestep_time  70 non-null     float64\n",
      " 1   vehicle_id     59 non-null     object \n",
      "dtypes: float64(1), object(1)\n",
      "memory usage: 1.2+ KB\n"
     ]
    }
   ],
   "source": [
    "query = \"\"\"\n",
    "    SELECT timestep_time\n",
    "           , vehicle_id\n",
    "    FROM most_0400_1300_1_5\n",
    "    TABLESAMPLE BERNOULLI (0.0001)\n",
    "\"\"\"\n",
    "df = %time pd.read_sql(query, connection)\n",
    "df.info()"
   ]
  },
  {
   "cell_type": "markdown",
   "metadata": {},
   "source": [
    "I captured the execution time with the `%time` magic. As you can see, the _Wall time_, that is the time experienced by me waiting for output, is over 2 minutes. And this for fetching just ~70 records!\n",
    "\n",
    "Compare it with `TABLESAMPLE SYSTEM`:"
   ]
  },
  {
   "cell_type": "code",
   "execution_count": 4,
   "metadata": {},
   "outputs": [
    {
     "name": "stdout",
     "output_type": "stream",
     "text": [
      "CPU times: user 5.98 ms, sys: 351 µs, total: 6.33 ms\n",
      "Wall time: 189 ms\n",
      "<class 'pandas.core.frame.DataFrame'>\n",
      "RangeIndex: 70 entries, 0 to 69\n",
      "Data columns (total 2 columns):\n",
      " #   Column         Non-Null Count  Dtype  \n",
      "---  ------         --------------  -----  \n",
      " 0   timestep_time  70 non-null     float64\n",
      " 1   vehicle_id     69 non-null     object \n",
      "dtypes: float64(1), object(1)\n",
      "memory usage: 1.2+ KB\n"
     ]
    }
   ],
   "source": [
    "query = \"\"\"\n",
    "    SELECT timestep_time\n",
    "           , vehicle_id\n",
    "    FROM most_0400_1300_1_5\n",
    "    TABLESAMPLE SYSTEM (0.0001)\n",
    "\"\"\"\n",
    "df = %time pd.read_sql(query, connection)\n",
    "df.info()"
   ]
  },
  {
   "cell_type": "markdown",
   "metadata": {},
   "source": [
    "In this case I received the result after just 189 ms. As I said, however, `SYSTEM` fetches pages of data therefore providing not-so-great of randomization.\n",
    "\n",
    "Now, let's move on to running the experiments and collect the results."
   ]
  },
  {
   "cell_type": "markdown",
   "metadata": {},
   "source": [
    "### Run and save the experimental data\n",
    "\n",
    "My idea is to run 10 sampling experiments on the population, while trying to get around 1,000 samples in each of them.\n",
    "\n",
    "Experiments are usually very expensive: you need to find volunteers, pay them, set up everything carefully because you might not get a second chance.\n",
    "I am definitely in a advantageous position, because my experiments consist of queries sent to a database over the network. Still, I want to be careful and therefore will save the results in a file, so I can refer to that file later, without needing to query the database again.\n",
    "\n",
    "This can take awhile, as I've shown above with a single query. That's fine though. I still want to try to speed up things and therefore will execute the 10 experiments in a threads pool. Some care is required because I don't want to overstress the database. For what I know, maybe it only accepts one connection at the time!\n",
    "I think, however, that 10 threads won't be a problem and that, in the worst case, the database will queue the ten connections and respond sequentially. That's OK, I'll go grab some coffee in the meantime.\n",
    "\n",
    "The code below goes along this lines:\n",
    "\n",
    "- A thread pool runs the ten experiments.\n",
    "- Wait then collect the resuls in ten dataframes.\n",
    "- Append the experiment number to each dataframe in a new column.\n",
    "- Concatenate all dataframe in one, and save it onto a CSV file.\n",
    "\n",
    "There are two other points I want to make:\n",
    "\n",
    "First, there exists a [package](https://github.com/MagicStack/asyncpg) for async queries to PostgreSQL databases, which may be worth looking into. I haven't done it yet, as the efficiency of the data collection part is not very critical for this article.\n",
    "\n",
    "Second, on the same subject, the ThreadPoolExecutor may not be the best option for this task. Some test is needed, in my opinion. It's well known that ThreadPool is recommended to I/O-bound operations, and database queries surely fall into this bucket. However, to make things more complicated there's the `connection` object and the pandas `read_sql` function.\n",
    "\n",
    "I had initially created only one `connection` and passed it as argument of each thread, but this somehow made the whole execution sequential. This pattern is commonly used in Web Services (and API), where you definitely don't want to create a new connection for every piece of code that you run to handle an incoming request; it's better to create the connection once and then pass it around.\n",
    "\n",
    "This didn't work here, as if the `psycopg2` connection object queues the queries in the same connection internally; this is just my guess and I haven't verified it yet. Either way, I decided to make the threads so that each of them creates a new connection, but I also limited the number of workers in the pool to 5. If everything makes sense then the total time for running 10 experiments with 5 workers in a ThreadPool should be the same as running two single queries, sequentially, which means ~4 minutes."
   ]
  },
  {
   "cell_type": "code",
   "execution_count": 49,
   "metadata": {},
   "outputs": [],
   "source": [
    "def single_experiment():\n",
    "    query = \"\"\"\n",
    "        SELECT timestep_time\n",
    "               , vehicle_id\n",
    "               , vehicle_speed\n",
    "               , vehicle_x\n",
    "               , vehicle_y\n",
    "               , vehicle_z\n",
    "               , vehicle_type\n",
    "        FROM most_0400_1400_1_5        -- the largest table\n",
    "        TABLESAMPLE BERNOULLI (0.005)\n",
    "        WHERE vehicle_type is not NULL -- skip pedestrians\n",
    "        ;\n",
    "    \"\"\"\n",
    "    with db_conn() as conn:\n",
    "        df = pd.read_sql(query, conn)\n",
    "    return df"
   ]
  },
  {
   "cell_type": "code",
   "execution_count": 50,
   "metadata": {},
   "outputs": [
    {
     "name": "stdout",
     "output_type": "stream",
     "text": [
      "CPU times: user 184 ms, sys: 65.8 ms, total: 249 ms\n",
      "Wall time: 4min 22s\n"
     ]
    }
   ],
   "source": [
    "%%time\n",
    "n_experiments = 10\n",
    "workers = 5\n",
    "with concurrent.futures.ThreadPoolExecutor(max_workers=workers) as executor:\n",
    "    futures = [executor.submit(single_experiment)\n",
    "               for _ in range(n_experiments)]"
   ]
  },
  {
   "cell_type": "code",
   "execution_count": 51,
   "metadata": {},
   "outputs": [],
   "source": [
    "filep = '/home/pietro/statinf_10exp.csv'\n",
    "dframes = [f.result() for f in futures]\n",
    "for i, df in enumerate(dframes):\n",
    "    df['experiment'] = i + 1\n",
    "df_tot = pd.concat(dframes)\n",
    "df_tot.to_csv(filep, index=False)"
   ]
  },
  {
   "cell_type": "code",
   "execution_count": 17,
   "metadata": {},
   "outputs": [
    {
     "name": "stdout",
     "output_type": "stream",
     "text": [
      "Number of samples: 30608\n"
     ]
    }
   ],
   "source": [
    "print(f'Number of samples: {df_tot.shape[0]}')"
   ]
  },
  {
   "cell_type": "markdown",
   "metadata": {},
   "source": [
    "OK. The sampled data is saved, so I can reference to it. It seems that I got much more data than I wanted: good.\n",
    "\n",
    "Now I can finally start the statistical analysis. For real!"
   ]
  },
  {
   "cell_type": "code",
   "execution_count": 2,
   "metadata": {},
   "outputs": [],
   "source": [
    "filep = '/home/pietro/statinf_10exp.csv'\n",
    "df_tot = pd.read_csv(filep)"
   ]
  },
  {
   "cell_type": "markdown",
   "metadata": {},
   "source": [
    "## Question: What is the average speed vehicles travel at?"
   ]
  },
  {
   "cell_type": "markdown",
   "metadata": {},
   "source": [
    "The average speed of any vehicle in a city is standard, basic indicator of whether traffic is fluid or not. There are a lot of caveats to this statement, because the speed is heavily affected by the type of vehicle, the type of road and the time in the day. Despite these many variables, average speed is still a good indicator.\n",
    "\n",
    "The sampling method I used to get ten samples from the poulation is such that the samples don't have a pattern with respect to vehicle type, road type and timestamp. Thus, I can assume that the distribution of vehicles, roads and timestamps in their categories is a fair representation of the real (population's) distribution.\n",
    "\n",
    "Before anything else, I want to take a quick look at one of the experiments and the vehicles' speed values therein."
   ]
  },
  {
   "cell_type": "code",
   "execution_count": 3,
   "metadata": {},
   "outputs": [
    {
     "name": "stdout",
     "output_type": "stream",
     "text": [
      "Number of samples in experiment 1: 3111\n"
     ]
    },
    {
     "data": {
      "text/html": [
       "<div>\n",
       "<style scoped>\n",
       "    .dataframe tbody tr th:only-of-type {\n",
       "        vertical-align: middle;\n",
       "    }\n",
       "\n",
       "    .dataframe tbody tr th {\n",
       "        vertical-align: top;\n",
       "    }\n",
       "\n",
       "    .dataframe thead th {\n",
       "        text-align: right;\n",
       "    }\n",
       "</style>\n",
       "<table border=\"1\" class=\"dataframe\">\n",
       "  <thead>\n",
       "    <tr style=\"text-align: right;\">\n",
       "      <th></th>\n",
       "      <th>timestep_time</th>\n",
       "      <th>vehicle_id</th>\n",
       "      <th>vehicle_speed</th>\n",
       "      <th>vehicle_x</th>\n",
       "      <th>vehicle_y</th>\n",
       "      <th>vehicle_z</th>\n",
       "      <th>vehicle_type</th>\n",
       "      <th>experiment</th>\n",
       "      <th>vehicle_speed [km/h]</th>\n",
       "    </tr>\n",
       "  </thead>\n",
       "  <tbody>\n",
       "    <tr>\n",
       "      <th>0</th>\n",
       "      <td>43545.0</td>\n",
       "      <td>pedestrian_3-1_2290_tr</td>\n",
       "      <td>0.07</td>\n",
       "      <td>5386.15</td>\n",
       "      <td>2883.33</td>\n",
       "      <td>54.10</td>\n",
       "      <td>passenger1</td>\n",
       "      <td>1</td>\n",
       "      <td>0.252</td>\n",
       "    </tr>\n",
       "    <tr>\n",
       "      <th>1</th>\n",
       "      <td>43545.0</td>\n",
       "      <td>pedestrian_3-1_3011_tr</td>\n",
       "      <td>0.02</td>\n",
       "      <td>4318.94</td>\n",
       "      <td>1494.53</td>\n",
       "      <td>44.16</td>\n",
       "      <td>passenger2b</td>\n",
       "      <td>1</td>\n",
       "      <td>0.072</td>\n",
       "    </tr>\n",
       "    <tr>\n",
       "      <th>2</th>\n",
       "      <td>43550.0</td>\n",
       "      <td>pedestrian_3-1_4234_tr</td>\n",
       "      <td>0.03</td>\n",
       "      <td>4102.45</td>\n",
       "      <td>1406.34</td>\n",
       "      <td>125.78</td>\n",
       "      <td>passenger2a</td>\n",
       "      <td>1</td>\n",
       "      <td>0.108</td>\n",
       "    </tr>\n",
       "    <tr>\n",
       "      <th>3</th>\n",
       "      <td>43550.0</td>\n",
       "      <td>pedestrian_GW1-1_202_tr</td>\n",
       "      <td>0.00</td>\n",
       "      <td>4721.84</td>\n",
       "      <td>1522.93</td>\n",
       "      <td>8.25</td>\n",
       "      <td>passenger2b</td>\n",
       "      <td>1</td>\n",
       "      <td>0.000</td>\n",
       "    </tr>\n",
       "    <tr>\n",
       "      <th>4</th>\n",
       "      <td>43555.0</td>\n",
       "      <td>pedestrian_GW1-1_217_tr</td>\n",
       "      <td>0.04</td>\n",
       "      <td>4562.51</td>\n",
       "      <td>2204.12</td>\n",
       "      <td>73.47</td>\n",
       "      <td>passenger2a</td>\n",
       "      <td>1</td>\n",
       "      <td>0.144</td>\n",
       "    </tr>\n",
       "  </tbody>\n",
       "</table>\n",
       "</div>"
      ],
      "text/plain": [
       "   timestep_time               vehicle_id  vehicle_speed  vehicle_x  \\\n",
       "0        43545.0   pedestrian_3-1_2290_tr           0.07    5386.15   \n",
       "1        43545.0   pedestrian_3-1_3011_tr           0.02    4318.94   \n",
       "2        43550.0   pedestrian_3-1_4234_tr           0.03    4102.45   \n",
       "3        43550.0  pedestrian_GW1-1_202_tr           0.00    4721.84   \n",
       "4        43555.0  pedestrian_GW1-1_217_tr           0.04    4562.51   \n",
       "\n",
       "   vehicle_y  vehicle_z vehicle_type  experiment  vehicle_speed [km/h]  \n",
       "0    2883.33      54.10   passenger1           1                 0.252  \n",
       "1    1494.53      44.16  passenger2b           1                 0.072  \n",
       "2    1406.34     125.78  passenger2a           1                 0.108  \n",
       "3    1522.93       8.25  passenger2b           1                 0.000  \n",
       "4    2204.12      73.47  passenger2a           1                 0.144  "
      ]
     },
     "execution_count": 3,
     "metadata": {},
     "output_type": "execute_result"
    }
   ],
   "source": [
    "exp_1_rows = df_tot['experiment'] == 1\n",
    "df1 = df_tot.loc[exp_1_rows].copy()\n",
    "print(f'Number of samples in experiment 1: {df1.shape[0]}')\n",
    "df1['vehicle_speed [km/h]'] = df1['vehicle_speed'].apply(lambda x: x * 3.6)\n",
    "df1.head()"
   ]
  },
  {
   "cell_type": "code",
   "execution_count": 4,
   "metadata": {},
   "outputs": [],
   "source": [
    "def step_2_time(step):\n",
    "    \"\"\"Converts timestamp in seconds from midnight to H:M:S string format.\"\"\"\n",
    "    return time.strftime('%H:%M:%S', time.gmtime(step))"
   ]
  },
  {
   "cell_type": "code",
   "execution_count": 6,
   "metadata": {},
   "outputs": [
    {
     "name": "stdout",
     "output_type": "stream",
     "text": [
      "Mean speed value: 3.91 km/h\n",
      "Speed standard deviation: 13.16 km/h\n",
      "Mean speed value (only > 1 km/h values): 38.54 km/h\n",
      "Speed standard deviation (only > 1 km/h values): 20.6 km/h\n"
     ]
    },
    {
     "data": {
      "image/png": "[encoded data removed]",
      "text/plain": [
       "<Figure size 1440x360 with 3 Axes>"
      ]
     },
     "metadata": {
      "needs_background": "light"
     },
     "output_type": "display_data"
    }
   ],
   "source": [
    "fig, axes = plt.subplots(nrows=1, ncols=3, figsize=(20, 5))\n",
    "ax0 = axes[0]\n",
    "ax1 = axes[1]\n",
    "ax2 = axes[2]\n",
    "\n",
    "xticks = [20e3, 25e3, 30e3, 35e3, 40e3, 45e3]\n",
    "_ = df1.plot.scatter(y='vehicle_speed [km/h]',\n",
    "                     x='timestep_time',\n",
    "                     xticks=xticks,\n",
    "                     ax=ax0)\n",
    "_ = ax0.set_xlabel('time [H:M:S]')\n",
    "_ = ax0.set_xticklabels([step_2_time(tick) for tick in xticks])\n",
    "_ = ax0.set_title('Complete scatter plot of vehicles speed values')\n",
    "\n",
    "df_tmp = df1.loc[df1['vehicle_speed [km/h]'] > 1]\n",
    "_ = df_tmp.boxplot('vehicle_speed [km/h]', ax=ax1)\n",
    "_ = ax1.set_title('Boxplot of vehicle speed values (> 1 km/h only)')\n",
    "\n",
    "_ = df1.boxplot('vehicle_speed [km/h]', ax=ax2)\n",
    "_ = ax2.set_title('Complete boxplot of vehicle speed values')\n",
    "\n",
    "mu = np.round(np.mean(df1['vehicle_speed [km/h]']), 2)\n",
    "dev = np.round(np.std(df1['vehicle_speed [km/h]']), 2)\n",
    "print(f'Mean speed value: {mu} km/h')\n",
    "print(f'Speed standard deviation: {dev} km/h')\n",
    "mu_1 = np.round(np.mean(df_tmp['vehicle_speed [km/h]']), 2)\n",
    "dev_1 = np.round(np.std(df_tmp['vehicle_speed [km/h]']), 2)\n",
    "print(f'Mean speed value (only > 1 km/h values): {mu_1} km/h')\n",
    "print(f'Speed standard deviation (only > 1 km/h values): {dev_1} km/h')"
   ]
  },
  {
   "cell_type": "markdown",
   "metadata": {},
   "source": [
    "This very, very brief exploratory analysis reveals a few things worth noting:\n",
    "\n",
    "**There are a lot of time instants where a lot of vehicles have speed equals to zero!** This actually makes sense: in a city, the stop-and-go dynamics is the most common. That being said, it's important to keep this in mind because zeros will inevitably drive down the overall average, while not being necessarily bad, or wrong things.\n",
    "\n",
    "With a timeseries dataset I could go deeper into this and find alternatives that take this problem into account. I could, for instance, consider the average for each vehicle computed over a few consecutive time steps; the idea is that if the average was low for many consecutive time instants, then it would mean something's not working well; if it was for one time instant only (or few of them) then it's a normal occurrence.\n",
    "\n",
    "But with a data sampling approach I don't get access to full timeseries. The dataset looks more like a random walk inside the population. **TODO - Add paragraph about the other datasets CSV**\n",
    "\n",
    "**On the other hand, non-zero values do make sense**. When I briefly looked at this sample distribution with a boxplot by first removing speed values lower than 1 km/h, then I can tell that such distribution is reasonable. This is the plot in the center of the figure above. For an explanation of boxplot I recommend the [Wikipedia page](https://en.wikipedia.org/wiki/Box_plot).\n",
    "\n",
    "**When including zero values, nothing makes sense anymore**. I added a third plot (far right) that is a boxplot of the whole sample (hence, not removing any speed value). The very high number of zero values makes the distribution so skewed that it doesn't offer any meaningul insight (the box is collapsed somewhere near the zero). This is a repetition of the concept expressed in the first point above.\n",
    "\n",
    "**The standard deviation is big anyway**. No matter if I include zero-valued speed samples or not, the standard deviation turns out to be a pretty big number. The so-called _coefficient of variation_, computed by dividing the standard deviation over the mean value, is much higher than 1 --hence very large. I already know that this will make my confidence interval less _confident_, but at the same time it's a good descriptor of the population."
   ]
  },
  {
   "cell_type": "markdown",
   "metadata": {},
   "source": [
    "This brief analysis was done on just one of the ten samples that I got. By using it I found that the average vehicle speed is 3.91 km/h (or 38.5 km/h if speed values lower than 1 km/h were excluded) with a standard deviation of 13.16 km/h (or 20.6 km/h).\n",
    "\n",
    "This sample contains 3111 samples. It's a very small number, as I know that the overall database contains more than 80 million datapoints. However, according to theory, we know that the sample mean is an estimator of the population mean (the true mean), and the sample standard deviation is an estimator for the population std (the true std), by a factor equal to `sqrt(3111)`.\n",
    "\n",
    "I could then stop here and start making inferential reasoning with this data. However, thanks to the Central Limit Theorem, we also know that the mean of the sample means is the better estimator of the true population mean, as it converges to the center of the population.\n",
    "\n",
    "In other words: every time I collect a sample (\"sample\" in the general sense, it can be a sample of 3111 datapoints), this comes with a sample mean. **Such mean is also a realization of a random variable**, for the very simple reason that I can keep collecting samples and compute the sample mean for each of them.\n",
    "The collection of all these sample means is the distribution of the sample means. And (finally) the Central Limit Theorem says that a lot of samples will make the average of the sample means distribution equal to the true population average.\n",
    "\n",
    "This was a lot of words simply to say that is definitely worth looking at the other 9 extracted samples, and to their average values, to see what's the distribution of the ten sampled means."
   ]
  },
  {
   "cell_type": "markdown",
   "metadata": {},
   "source": [
    "The next thing I want to do now is to take a look at the individual samples' mean values (for the speed). I am just curious to see if they all have similar values or there are outliers."
   ]
  },
  {
   "cell_type": "code",
   "execution_count": 7,
   "metadata": {},
   "outputs": [
    {
     "name": "stdout",
     "output_type": "stream",
     "text": [
      "Number of samples in experiment 1: 3111\n",
      "Number of samples in experiment 2: 3063\n",
      "Number of samples in experiment 3: 3021\n",
      "Number of samples in experiment 4: 3069\n",
      "Number of samples in experiment 5: 3051\n",
      "Number of samples in experiment 6: 3093\n",
      "Number of samples in experiment 7: 3109\n",
      "Number of samples in experiment 8: 3044\n",
      "Number of samples in experiment 9: 3053\n",
      "Number of samples in experiment 10: 2994\n",
      "Sample means (10 samples): [3.91, 3.97, 4.01, 3.84, 3.47, 3.87, 4.4, 3.83, 4.01, 4.1]\n",
      "Sample means (10 samples, only > 1 km/h values): [38.54, 37.89, 38.16, 38.0, 36.75, 38.43, 39.45, 38.92, 40.83, 40.8]\n"
     ]
    }
   ],
   "source": [
    "all_mu = []\n",
    "all_std = []\n",
    "all_mu_1 = []\n",
    "all_std_1 = []\n",
    "for i in range(1, 11):\n",
    "    exp_x_rows = df_tot['experiment'] == i\n",
    "    df_ = df_tot.loc[exp_x_rows].copy()\n",
    "    print(f'Number of samples in experiment {i}: {df_.shape[0]}')\n",
    "    df_['vehicle_speed [km/h]'] = df_['vehicle_speed'].apply(lambda x: x * 3.6)\n",
    "    mu_ = np.round(np.mean(df_['vehicle_speed [km/h]']), 2)\n",
    "    all_mu.append(mu_)\n",
    "    dev_ = np.round(np.std(df_['vehicle_speed [km/h]']), 2)\n",
    "    all_std.append(dev_)\n",
    "    df_tmp_ = df_.loc[df_['vehicle_speed [km/h]'] > 1]\n",
    "    mu_1_ = np.round(np.mean(df_tmp_['vehicle_speed [km/h]']), 2)\n",
    "    all_mu_1.append(mu_1_)\n",
    "    dev_1_ = np.round(np.std(df_tmp_['vehicle_speed [km/h]']), 2)\n",
    "    all_std_1.append(dev_1_)\n",
    "    \n",
    "print(f'Sample means (10 samples): {all_mu}')\n",
    "print(f'Sample means (10 samples, only > 1 km/h values): {all_mu_1}')"
   ]
  },
  {
   "cell_type": "markdown",
   "metadata": {},
   "source": [
    "The values are consistent each with the others. This means that the _adjustment_ each new sample does to the previous ones, to steer the overall mean towards the real population's mean, is not very big. Even then, it's worth in my opinion to take a look at how confidence increases with the increase of the samples.\n",
    "\n",
    "To look at this, I will plot the distribution of the first sample and draw a line at its sample average. Then I will merge the first two samples, plot the resulting distribution and look at its average. Then, the same with the first three samples; and so on until I have merged all of them.\n",
    "\n",
    "What I expect is a slight change to the average everytime I add one more sample, and these small changes are such that eventually the average will be very close to the tru (unknown) population's average."
   ]
  },
  {
   "cell_type": "markdown",
   "metadata": {},
   "source": [
    "### Confused? Read this!\n",
    "\n",
    "As I was reading this notebook again, I realized this could be a good place to pause for a minute and clarify a few things. I suspect you may have the following question: _What is this guy doing with all these \"samples\", \"populations\", \"averages\" and whatnot?_\n",
    "\n",
    "In fact, I am going through a very simple statistical result, one that everybody knows well. I will now draw the comparison between what I am doing here and the most famous statistical benchmark: flipping a 2-sided coin.\n",
    "\n",
    "The experiment with a coin is very simple: you flip the coin ten times and you count how many tails vs heads you got. Thus, you run one experiment and you get 7 heads vs 3 tails. Weird, but can happen.\n",
    "\n",
    "If you stopped there you would conclude that flipping a coin has 70% probability to give head. Or, if we assign 1 to head and 0 to tail, you would conclude that the average value of the coin is 0.7.\n",
    "\n",
    "But you know that's just one experiment.\n",
    "\n",
    "So you do it again: 6 tails, 4 heads. Average 0.4.\n",
    "\n",
    "And again: 3 tails, 7 heads. Average 0.7.\n",
    "\n",
    "And again: 2 heads, 8 tails. Average 0.2.\n",
    "\n",
    "And again. And again. And ... again.\n",
    "\n",
    "Every time you run one experiment and compute the average of that experiment, that's just the sample average. If you collect all such sample averages, then you have another sample: the sample of the averages of the experiments.\n",
    "\n",
    "The crucial point (stated by the Central Limit Theorem) is that **the mean value of all such averages is a very close estimate of the true average of a coin**. Which we know it's 0.5. Go ahead, take a coin and run a lot of experiments (you do need many of them to converge to 0.5) and check yourself.\n",
    "\n",
    "These are the ideas that I am applying here!"
   ]
  },
  {
   "cell_type": "markdown",
   "metadata": {},
   "source": [
    "**Back to the analysis.** What I am going to do next is a lot of barplot. A barplot can show quickly how the distribution of values look like. I will do one bar plot for the first sample only, another for the first and second sample merged, and so on.\n",
    "\n",
    "There's a caveat though. Speed values are real number. Barplot is a categorical plot, hence if I do it directly on the dataframe then it's like that I will have a lot of \"categories\" with one value only. For example, a vehicle's detected speed can be 20.23 km/h and that's a very specific value. It's likely that there's only one occurrence of such a value.\n",
    "\n",
    "To solve this problem I will just truncate the speed values to their integer part. Brutal, but I think it will be fine for this use case."
   ]
  },
  {
   "cell_type": "code",
   "execution_count": 77,
   "metadata": {},
   "outputs": [
    {
     "data": {
      "image/png": "[encoded data removed]",
      "text/plain": [
       "<Figure size 432x288 with 1 Axes>"
      ]
     },
     "metadata": {
      "needs_background": "light"
     },
     "output_type": "display_data"
    }
   ],
   "source": [
    "label = 'vehicle_speed [km/h]'\n",
    "df1_ = df1.loc[df1[label] > 1].copy()\n",
    "df1_['speed_int'] = df1_[label].apply(lambda x: int(x))\n",
    "toplot = pd.value_counts(df1_['speed_int']).sort_index()\n",
    "x = list(toplot.index)\n",
    "y = list(toplot)\n",
    "avg = np.round(np.mean(x), 2)\n",
    "ax = plt.bar(x=x, height=y)\n",
    "_ = plt.title(f'One sample (mean = {avg})')\n",
    "_ = plt.xticks(list(range(0, 121, 10)))\n",
    "_ = plt.yticks(list(range(0, 25, 3)))\n",
    "_ = plt.axvline(x=avg, color='red')"
   ]
  },
  {
   "cell_type": "markdown",
   "metadata": {},
   "source": [
    "## Question 1: What is the maximum capacity of the network?"
   ]
  },
  {
   "cell_type": "markdown",
   "metadata": {},
   "source": [
    "Let me state the objective of this question once again. I want to know, with a certain statistical confidence, what is the maximum number of vehicles travelling the network at the same time. In absence of more information, I will assume that is also the maximum capacity of the city (even though it may not really be packed up yet)."
   ]
  },
  {
   "cell_type": "markdown",
   "metadata": {},
   "source": [
    "Before getting into any confidence interval calculation and hypothesis testing, let's take a look at a portion of the data that I have, as in a brief exploratory analysis.\n",
    "\n",
    "I will take the subset of the samples given by the first experiment only and look at the distribution of the network capacity there."
   ]
  },
  {
   "cell_type": "code",
   "execution_count": 31,
   "metadata": {},
   "outputs": [
    {
     "name": "stdout",
     "output_type": "stream",
     "text": [
      "Samples in experiment 1: 3111\n",
      "Unique time steps in experiment 1: 2260\n"
     ]
    }
   ],
   "source": [
    "exp_1_rows = df_tot['experiment'] == 1\n",
    "df1 = df_tot.loc[exp_1_rows]\n",
    "print(f'Samples in experiment 1: {df1.shape[0]}')\n",
    "df1_grouped = df1.groupby('timestep_time')\n",
    "print(f'Unique time steps in experiment 1: {len(df1_grouped.groups)}')"
   ]
  },
  {
   "cell_type": "markdown",
   "metadata": {},
   "source": [
    "Mm. I need to stop right here. Can you see the problem?\n",
    "\n",
    "In the first experiment I collected 3111 samples. Among them, there are 2260 unique timesteps. Overall, it looks like the `TABLESAMPLE BERNOULLI` did a great job at diversifying!\n",
    "\n",
    "But in this specific case, this raise an issue. I was going to count the number of vehicles for each unique timesteps, but with the numbers so close (3111 samples and 2260 unique timesteps) it is likely that each sampled timestep only contains information about one vehicle.\n",
    "\n",
    "Let's take a look at the maximum size of the timestep groups."
   ]
  },
  {
   "cell_type": "code",
   "execution_count": 32,
   "metadata": {},
   "outputs": [
    {
     "name": "stdout",
     "output_type": "stream",
     "text": [
      "Largest timestep group size: 6\n"
     ]
    }
   ],
   "source": [
    "max_l = max(len(v) for v in df1_grouped.groups.values())\n",
    "print(f'Largest timestep group size: {max_l}')"
   ]
  },
  {
   "cell_type": "markdown",
   "metadata": {},
   "source": [
    "This means that the largest number of samples I got for the same timestep is six. And that implies that if I count the number of vehicles at every timestep I will get at most six of them. But this clearly isn't the maximum network capacity, it's just a sampling issue!"
   ]
  },
  {
   "cell_type": "markdown",
   "metadata": {},
   "source": [
    "I need a different approach. What if I think from a vehicle point of view, instead of a timestep point of view?\n",
    "\n",
    "I could find unique vehicle IDs, then for each of them find the first and last timestep in the dataset that vehicle appears in. This should give me the window of timesteps that vehicle was inside the network.\n",
    "Then I could overlap this window with the other vehicle's window, so to find the largest intersection of them all. That would give me the largest number of vehicles that _might_ be inside the network at the same time.\n",
    "\n",
    "Why _might_? Because I have no way to know whether a vehicle exited the network and then entered it again. I will have to make the assumption that this doesn't happen.\n",
    "\n",
    "All this sounds a bit too much for a \"brief\" exploratory look, not to mention that I am not sure what type of statistical confidence I could infer from it. Anyway, let me try."
   ]
  },
  {
   "cell_type": "code",
   "execution_count": 91,
   "metadata": {},
   "outputs": [
    {
     "name": "stdout",
     "output_type": "stream",
     "text": [
      "Unique vehicles in experiment 1: 2872\n",
      "Max vehicle time experiment 1: 20375\n",
      "Number of vehicles detected in more than 1 timestep (experiment 1): 229\n"
     ]
    }
   ],
   "source": [
    "def find_min_max_time_veh(vehicle_id: str,\n",
    "                          df: pd.DataFrame) -> tuple:\n",
    "    \"\"\"Finds the min and max timestep for the given vehicle_id\"\"\"\n",
    "    afilter = df['vehicle_id'] == vehicle_id\n",
    "    filtered = df.loc[afilter]\n",
    "    min_ = min(filtered['timestep_time'])\n",
    "    max_ = max(filtered['timestep_time'])\n",
    "    return (min_, max_)\n",
    "\n",
    "\n",
    "def veh_time_inside(min_: float, max_: float) -> int:\n",
    "    \"\"\"Number of steps a vehicle was inside the network.\n",
    "    *Note* It assumes the vehicle didn't leave and come back.\n",
    "    \"\"\"\n",
    "    return int(max_ - min_)\n",
    "\n",
    "df1_grouped_veh = df1.groupby('vehicle_id')\n",
    "print(f'Unique vehicles in experiment 1: {len(df1_grouped_veh.groups)}')\n",
    "\n",
    "all_times = df1_grouped_veh.apply(lambda x: find_min_max_time_veh(x.iloc[0]['vehicle_id'], df1))\n",
    "new_df = pd.DataFrame({\n",
    "    'vehicle_id': all_times.index,\n",
    "    'min_': [t[0] for t in all_times],\n",
    "    'max_': [t[1] for t in all_times]\n",
    "})\n",
    "new_df['window'] = new_df.apply(lambda x: veh_time_inside(x['min_'], x['max_']), axis=1)\n",
    "max_time_inside = max(new_df['window'])\n",
    "print(f'Max vehicle time experiment 1: {max_time_inside}')\n",
    "num_veh_traced = sum(new_df['window'] > 0)\n",
    "print(f'Number of vehicles detected in more than 1 timestep (experiment 1): {num_veh_traced}')"
   ]
  },
  {
   "cell_type": "markdown",
   "metadata": {},
   "source": [
    "Here's what I have got:\n",
    "\n",
    "- In experiment 1, 229 vehicles were samples more than once.\n",
    "- In experiment 1, the largest number of steps a vehicle is inside the network is 20375. That's seconds, so more than 5 hours. I bet is a bus.\n",
    "\n",
    "Let's think about the extreme case. Even if the time windows for those 229 vehicles overlapped, I could only conclude that the network handles 229 vehicles at the same time. That's obviously too low.\n",
    "\n",
    "And even if those time window were exactly the same for 200 vehicles more for every other experiment, that would mean there are around 2000 vehicles at the same in the network but... with what statistical confidence could I say it? It sounds like plain coincidence.\n",
    "\n",
    "Again, it feels as if I don't have enough data to answer this question."
   ]
  },
  {
   "cell_type": "markdown",
   "metadata": {},
   "source": [
    "I will then go back to the source of data. Overall, the problem I am having so far is that the collected data seems to be taken from a GPS system can can cover the whole city but can only look at some random vehicles in every time steps.\n",
    "\n",
    "In other words, it cannot follow a vehicle.\n",
    "\n",
    "Can I get data that instead is more similar to a in-vehicle GPS system? For sure, but then I have to be careful because doing it for _all_ vehicles would result in too much data to transmit, load in memory and analyze.\n",
    "\n",
    "I am going to try to select samples from the database as if they were taken by a satellite. The satellite can take \"screenshot\" of the systems at given time instants. No system is perfect though, so the satellite can't really know _everything_. I can count though, so let's have it count the number of vehicles in those time instants.\n",
    "\n",
    "Like before, I will run multiple experiments (data extractions, really). The code is similar to the one used before, so let me skip the details this time."
   ]
  },
  {
   "cell_type": "code",
   "execution_count": 111,
   "metadata": {},
   "outputs": [],
   "source": [
    "def satellite_experiment():\n",
    "    query = \"\"\"\n",
    "        SELECT timestep_time\n",
    "               , count(vehicle_id) as num_veh\n",
    "        FROM most_0400_1400_1_5\n",
    "        WHERE timestep_time in (\n",
    "            -- Randomly choose at what timesteps the system\n",
    "            -- can be \"photographed\".\n",
    "            SELECT distinct timestep_time\n",
    "            FROM most_0400_1400_1_5\n",
    "            TABLESAMPLE BERNOULLI (0.01)\n",
    "        )\n",
    "        GROUP BY timestep_time\n",
    "        ;\n",
    "    \"\"\"\n",
    "    with db_conn() as conn:\n",
    "        df_sat = pd.read_sql(query, conn)\n",
    "    return df_sat"
   ]
  },
  {
   "cell_type": "code",
   "execution_count": 112,
   "metadata": {},
   "outputs": [
    {
     "name": "stdout",
     "output_type": "stream",
     "text": [
      "CPU times: user 194 ms, sys: 48 ms, total: 242 ms\n",
      "Wall time: 6min 22s\n"
     ]
    }
   ],
   "source": [
    "%%time\n",
    "n_sat_experiments = 10\n",
    "sat_workers = 10\n",
    "with concurrent.futures.ThreadPoolExecutor(max_workers=sat_workers) as executor:\n",
    "    futures = [executor.submit(satellite_experiment)\n",
    "               for _ in range(n_sat_experiments)]"
   ]
  },
  {
   "cell_type": "code",
   "execution_count": 113,
   "metadata": {},
   "outputs": [],
   "source": [
    "filep = '/home/pietro/statinf_satexp.csv'\n",
    "dframes = [f.result() for f in futures]\n",
    "for i, df in enumerate(dframes):\n",
    "    df['experiment'] = i + 1\n",
    "df_sat = pd.concat(dframes)\n",
    "df_sat.to_csv(filep, index=False)"
   ]
  },
  {
   "cell_type": "code",
   "execution_count": 116,
   "metadata": {},
   "outputs": [
    {
     "data": {
      "text/plain": [
       "18648"
      ]
     },
     "execution_count": 116,
     "metadata": {},
     "output_type": "execute_result"
    }
   ],
   "source": [
    "max(df_sat['num_veh'])"
   ]
  },
  {
   "cell_type": "code",
   "execution_count": 117,
   "metadata": {},
   "outputs": [
    {
     "data": {
      "text/plain": [
       "(42278, 3)"
      ]
     },
     "execution_count": 117,
     "metadata": {},
     "output_type": "execute_result"
    }
   ],
   "source": [
    "df_sat.shape"
   ]
  },
  {
   "cell_type": "code",
   "execution_count": null,
   "metadata": {},
   "outputs": [],
   "source": []
  }
 ],
 "metadata": {
  "kernelspec": {
   "display_name": "Python 3",
   "language": "python",
   "name": "python3"
  },
  "language_info": {
   "codemirror_mode": {
    "name": "ipython",
    "version": 3
   },
   "file_extension": ".py",
   "mimetype": "text/x-python",
   "name": "python",
   "nbconvert_exporter": "python",
   "pygments_lexer": "ipython3",
   "version": "3.9.1"
  }
 },
 "nbformat": 4,
 "nbformat_minor": 4
}
