{
 "cells": [
  {
   "cell_type": "markdown",
   "metadata": {},
   "source": [
    "# Analysis of Urban-Traffic Simulated Data – part I\n",
    "##### Ruggero Fabbiano – 24 November 2020"
   ]
  },
  {
   "cell_type": "markdown",
   "metadata": {},
   "source": [
    " "
   ]
  },
  {
   "cell_type": "markdown",
   "metadata": {},
   "source": [
    "## Summary\n",
    "\n",
    "With this notebook we start the exploration of a set of urban-traffic data obtained via the [SUMo simulator](https://www.eclipse.org/sumo/), an open-source microscopic traffic simulator that can take representations of real-world cities as input scenarios and can produce a variety of output data (vehicle state, road state, pollution information, etc.).\n",
    "\n",
    "Here below we provide, for ease of comprehension, a brief summary of the scenario used and the output data generated, as well as the objectives of this first exploratory analysis.\n",
    "\n",
    "#### Scenario\n",
    "The scenario used for this simulation is the [**MoST** (_Monaco SUMo traffic_) scenario](https://github.com/lcodeca/MoSTScenario), which models the agglomeration area of the Principality of Monaco covering an area of about 70 km² (greater area). The simulated time can span at most from 4 AM to 2 PM, with a morning congestion towards the city modeled via a Gaussian vehicle demand of 20,000 objects, with average at 8:15 AM and standard deviation equal to 90'. <font color=\"blue\">We have simulations spanning several time intervals, however the one used throughout this notebook covers time from 4 AM to 6 AM.</font> *Also, we made the choice to set a time step equal to 1 s, and saving the output each 5 s.*\n",
    "\n",
    "#### Output\n",
    "Among the possibilities SUMo offers for data generation, we chose the FCD (_floating car data_) output, which is focused on the vehicle information. To help you better understand the analysis that follow, here below a resume of the data that the floating-car output generates:\n",
    "\n",
    "* `timestep_time` [s] – the current simulation time (0 corresponds to the beginning of the day)\n",
    "* `vehicle_id` / `person_id` – a unique object identifier\n",
    "* `vehicle_angle` / `person_angle` [°] – orientation of the object in navigational standard (0-360°)\n",
    "* `vehicle_lane` – the ID of the lane the vehicle is currently moving onto\n",
    "* `vehicle_pos` / `person_pos` [m] – running position of the object from the start of the current lane\n",
    "* `vehicle_slope` / `person_slope` [°] – slope of the object lane at object position\n",
    "* `vehicle_speed` / `person_speed` [m/s] – absolute speed of the object\n",
    "* `vehicle_type` – the type of the vehicle (private vehicle, Uber, delivery truck etc.)\n",
    "* `vehicle_x` / `person_x` [m] – absolute _x_ coordinate / longitude of the object\n",
    "* `vehicle_y` / `person_y` [m] – absolute _y_ coordinate / latitude of the object\n",
    "* `vehicle_z` / `person_z` [m] – elevation of the object\n",
    "* `person_edge` – edge the virtual footpath where the person is moving on is connected to\n",
    "\n",
    "##### Goal\n",
    "The first part of the analysis focuses on checking if we can reduce the sparsity of the dataset, thus having to handle a lighter and more compact dataframe. <font color=\"fuchsia\">Then, we start investigating the data by checking their properties described in the MoST article.</font> <font color=\"blue\">A deeper analysis will be the object of a following notebook.</font>"
   ]
  },
  {
   "cell_type": "markdown",
   "metadata": {},
   "source": [
    " ***"
   ]
  },
  {
   "cell_type": "markdown",
   "metadata": {},
   "source": [
    "## Import Packages and Data"
   ]
  },
  {
   "cell_type": "markdown",
   "metadata": {},
   "source": [
    "Let's be sure we have all the necessary packages installed:"
   ]
  },
  {
   "cell_type": "code",
   "execution_count": 3,
   "metadata": {},
   "outputs": [],
   "source": [
    "!pip install pandas\n",
    "!pip install datetime\n",
    "!pip install numpy\n",
    "!pip install matplotlib\n",
    "!pip install seaborn\n",
    "!pip install wget"
   ]
  },
  {
   "cell_type": "markdown",
   "metadata": {},
   "source": [
    "We can now import them:"
   ]
  },
  {
   "cell_type": "code",
   "execution_count": 1,
   "metadata": {},
   "outputs": [],
   "source": [
    "import pandas as pd\n",
    "import datetime\n",
    "import numpy as np\n",
    "import matplotlib.pyplot as plt\n",
    "import seaborn as sns\n",
    "\n",
    "%matplotlib inline\n",
    "plt.style.use('bmh')"
   ]
  },
  {
   "cell_type": "markdown",
   "metadata": {},
   "source": [
    "Now to the data.\n",
    "\n",
    "Let's define the local path to the CSV file, as well as the remote one; we will then be able to load the local file if present, or download it otherwise."
   ]
  },
  {
   "cell_type": "code",
   "execution_count": 2,
   "metadata": {},
   "outputs": [],
   "source": [
    "out_file = 'most_0400_0600_1_5.csv'\n",
    "local_fp = './' + out_file\n",
    "remote_fp = 'https://standard-traffic-data.s3.us-east-2.amazonaws.com/' + out_file"
   ]
  },
  {
   "cell_type": "code",
   "execution_count": 3,
   "metadata": {},
   "outputs": [
    {
     "name": "stderr",
     "output_type": "stream",
     "text": [
      "File './most_0400_0600_1_5.csv' already there; not retrieving.\n"
     ]
    }
   ],
   "source": [
    "!wget -nc $remote_fp -O $local_fp"
   ]
  },
  {
   "cell_type": "code",
   "execution_count": 4,
   "metadata": {},
   "outputs": [
    {
     "name": "stdout",
     "output_type": "stream",
     "text": [
      "<class 'pandas.core.frame.DataFrame'>\n",
      "RangeIndex: 2067350 entries, 0 to 2067349\n",
      "Data columns (total 20 columns):\n",
      "timestep_time    float64\n",
      "vehicle_angle    float64\n",
      "vehicle_id       object\n",
      "vehicle_lane     object\n",
      "vehicle_pos      float64\n",
      "vehicle_slope    float64\n",
      "vehicle_speed    float64\n",
      "vehicle_type     object\n",
      "vehicle_x        float64\n",
      "vehicle_y        float64\n",
      "vehicle_z        float64\n",
      "person_angle     float64\n",
      "person_edge      object\n",
      "person_id        object\n",
      "person_pos       float64\n",
      "person_slope     float64\n",
      "person_speed     float64\n",
      "person_x         float64\n",
      "person_y         float64\n",
      "person_z         float64\n",
      "dtypes: float64(15), object(5)\n",
      "memory usage: 315.5+ MB\n"
     ]
    }
   ],
   "source": [
    "data = pd.read_csv(out_file, sep=';', low_memory=False)\n",
    "data.info()"
   ]
  },
  {
   "cell_type": "markdown",
   "metadata": {},
   "source": [
    "We now have our dataset ready.\n",
    "In the next section we're going to see if we can reduce its memory usage without information loss."
   ]
  },
  {
   "cell_type": "markdown",
   "metadata": {},
   "source": [
    "## Data cleaning"
   ]
  },
  {
   "cell_type": "markdown",
   "metadata": {},
   "source": [
    "### Drop empty rows"
   ]
  },
  {
   "cell_type": "markdown",
   "metadata": {},
   "source": [
    "<font color =\"green\">\n",
    "\n",
    "It's generally useful to wipe rows of the dataset that contain just null values (whichever representation of null is there).\n",
    "\n",
    "In this case though, no row will ever be entirely null, because the `timestep_time` feature is always given.\n",
    "\n",
    "I could potentially filter out all rows that have all features null, excluding `timestep_time`. However, I think it's worth keeping them: they can show to us at what timestep we start seeing traffic.\n",
    "    \n",
    "</font>"
   ]
  },
  {
   "cell_type": "markdown",
   "metadata": {},
   "source": [
    "<font color =\"gray\">\n",
    "    \n",
    "Son d'accordo in generale sull'operazione preliminare sui NAN; non l'ho ritenuto necessario in questo caso visto che i dati provengono da una simulazione e non sono grezzi. Riguardo all'arrivo del primo oggetto avendo essi una distribuzione normale ho ipotizzato che statisticamente le linee che potremmo \"risparmiare\" sarebbero poche (ed effettivamente sia nel 4-6 che nel 4-8 il primo oggetto arriva al 2° istante).\n",
    "\n",
    "In ogni caso ho aggiunto il _sanity check_ memorizzando prima gli \"istanti d'interesse\" (vedi sotto).\n",
    "\n",
    "</font>"
   ]
  },
  {
   "cell_type": "markdown",
   "metadata": {},
   "source": [
    "Let's start by doing a sanity check over the timestep feature (that should always be not null):"
   ]
  },
  {
   "cell_type": "code",
   "execution_count": 54,
   "metadata": {},
   "outputs": [],
   "source": [
    "assert data.shape == data.dropna(how='all').shape"
   ]
  },
  {
   "cell_type": "markdown",
   "metadata": {},
   "source": [
    "We can now check some relevant time steps, like the first one, the last one and the time the first object appears, so that we can later drop all the rows with no active object:"
   ]
  },
  {
   "cell_type": "code",
   "execution_count": 5,
   "metadata": {},
   "outputs": [],
   "source": [
    "def t_format(timestep):\n",
    "    return str(datetime.timedelta(seconds=timestep))"
   ]
  },
  {
   "cell_type": "code",
   "execution_count": 6,
   "metadata": {},
   "outputs": [],
   "source": [
    "t_s = data['timestep_time'].iloc[0] # first data timestep\n",
    "t_e = data['timestep_time'].iloc[-1] # last data timestep\n",
    "\n",
    "i_first = data[['vehicle_id', 'person_id']].first_valid_index()\n",
    "t_o = data['timestep_time'].iloc[i_first] # timestep of first object start"
   ]
  },
  {
   "cell_type": "markdown",
   "metadata": {},
   "source": [
    "We're now ready to drop the empty rows:"
   ]
  },
  {
   "cell_type": "code",
   "execution_count": 7,
   "metadata": {},
   "outputs": [],
   "source": [
    "data.drop(data.index[:i_first], inplace=True)\n",
    "data.reset_index(drop=True, inplace=True)"
   ]
  },
  {
   "cell_type": "markdown",
   "metadata": {},
   "source": [
    "### Feature cleaning"
   ]
  },
  {
   "cell_type": "markdown",
   "metadata": {},
   "source": [
    "<font color =\"green\">\n",
    "\n",
    "This idea deserves a verbal explanation, and it's not entirely clear to me.\n",
    "\n",
    "Here's my (tentative) understanding:\n",
    "- You consider features in pairs of columns, by looking for similar feature names.\n",
    "\n",
    "Let's consider the first predicata only: `bothNAN`:\n",
    "  - For each pair of columns, you keep elements of the first column only in the positions where the second column is null\n",
    "  - At this point you have a Sequence (list-like). You call isna() on this sequence, which will yield a list of boolean values.\n",
    "  - Each of these values will be True if the corresponding first column's element is null and the second column's element is also null.\n",
    "  - Then you check if **any** of the values in such list of booleans is True.\n",
    "  - Eventually, you will know if there was at least one position in those two columns where both were null. **At least one**.\n",
    "  \n",
    "Later on, if the result value for a pair of column was False, meaning that there wasn't any row in the dataset where those two columns are both null, you fill the null of the first column with the values from the second (which won't be null).\n",
    "\n",
    "I can't see the idea behind this. Why would the missing values in `vehicle_angle` be in `person_angle`?\n",
    "\n",
    "</font>"
   ]
  },
  {
   "cell_type": "markdown",
   "metadata": {},
   "source": [
    "<font color =\"gray\">\n",
    "\n",
    "Riguardo alla parte non chiara, l'assunzione (banale) non è che i valori mancanti in una colonna son nell’altra, ma più che altro i valori non sono \"mancanti\" ma divisi fra due colonne diverse, una `vehicle_` e l'altra `person_`.\n",
    "\n",
    "L’obiettivo era verificare quest'ipotesi e capire si possono quindi accorpare due colonne, diverse ma che contengono la stessa informazione, risparmiando così un sacco di valori nulli e la metà delle colonne, con conseguente gran risparmio di memoria nel caricare il _dataframe_ (circa il 50 %, piuttosto importante viste le dimensioni del _data set_ – e la memoria del mio computer :)). A proposito di ciò, era questo il pre-trattamento che dicevo si poteva fare a monte prima del caricamento del CSV.\n",
    "\n",
    "Lascia stare la vecchia implementazione, che era _logicamente_ non ottimale (riformulata qui sotto), ma l'idea di fondo qui è assicurarsi che non ci siano valori in entrambe le colonne per ogni coppia, di modo da poter fonderle senza paura di perdere delle informazioni.\n",
    "\n",
    "</font>"
   ]
  },
  {
   "cell_type": "markdown",
   "metadata": {},
   "source": [
    "<font color =\"green\">\n",
    "\n",
    "Site notes:\n",
    "\n",
    "1. Calling isna -> values -> any should be redundant. I think you can just use any() on the data frame.\n",
    "Example:\n",
    "\n",
    "```\n",
    "d1 = pd.DataFrame.from_dict({'a': [1, 2, np.nan, 3, 4], 'b': [9, np.nan, 13, 6, 11]})\n",
    "print(d1.head())\n",
    "both_nan = d1['a'][d1['b'].isna()].isna().any()\n",
    "print('column \"a\": ', both_nan)\n",
    "```\n",
    "\n",
    "</font>"
   ]
  },
  {
   "cell_type": "markdown",
   "metadata": {},
   "source": [
    "<font color =\"gray\">\n",
    "\n",
    "Sì sì `values` è chiaramente inutile, un refuso di quando l'avevo chiamato su tutto il _dataframe_ usato per evitare di ottenere una serie:\n",
    "```\n",
    "data[(data['vehicle_lane'].notna()) & (data['person_edge'].notna())].any()\n",
    "```\n",
    "\n",
    "</font>"
   ]
  },
  {
   "cell_type": "markdown",
   "metadata": {},
   "source": [
    "<font color =\"green\">\n",
    "\n",
    "3. Assuming my understading is correct, here's a much simpler way to do it. And much more readable\n",
    "```\n",
    "np.where((d1['a'].isna()) & (d1['b'].isna()), True, False).any()\n",
    "```\n",
    "\n",
    "</font>\n",
    "    \n",
    "<font color =\"gray\">OK</font>"
   ]
  },
  {
   "cell_type": "markdown",
   "metadata": {},
   "source": [
    "<font color =\"green\">\n",
    "\n",
    "2. Save the features that you will want to drop/fill in a variable, depending on the true/false result. And then execute your next block of code based on this additional variable. Right now you execute it just looking at the visual output of the previous cell, but this requires editing it manually.\n",
    "\n",
    "</font>\n",
    "\n",
    "<font color =\"gray\">\n",
    "\n",
    "Buona idea effettivamente. Credo sia abitudine dai _notebook_ che ho visto durante i miei corsi, più orientati a mostrare visualmente una cosa e spiegare che cosa fanno basato esclusivamente su quello che abbiamo visto prima...\n",
    "\n",
    "</font>"
   ]
  },
  {
   "cell_type": "markdown",
   "metadata": {},
   "source": [
    "We can now focus on the features. If we look back at the feature names it looks like some of them are repeated twice, both for persons and vehicles. We can probably merge them to reduce the size of the dataset."
   ]
  },
  {
   "cell_type": "markdown",
   "metadata": {},
   "source": [
    "Before doing that, we need to be sure that the information is divided into the couple of features, so that we won't lose any data.\n",
    "\n",
    "The suspects seem to be `angle`, `id`, `pos`, `slope`, `speed`, `x`, `y`, and `z`. Let's check them:"
   ]
  },
  {
   "cell_type": "code",
   "execution_count": 9,
   "metadata": {},
   "outputs": [
    {
     "data": {
      "text/plain": [
       "['angle', 'id', 'pos', 'slope', 'speed', 'x', 'y', 'z']"
      ]
     },
     "execution_count": 9,
     "metadata": {},
     "output_type": "execute_result"
    }
   ],
   "source": [
    "features = ['angle', 'id', 'pos', 'slope', 'speed', 'x', 'y', 'z']\n",
    "mergeable_features = [f for f in features if\n",
    "                      np.where((data['vehicle_'+f].notna()) & (data['person_'+f].notna()), False, True).any()]\n",
    "\n",
    "mergeable_features"
   ]
  },
  {
   "cell_type": "markdown",
   "metadata": {},
   "source": [
    "The vector obtained above tells us which features have information split between the two columns of the couple; in such case we can safely merge them without losing any information. "
   ]
  },
  {
   "cell_type": "code",
   "execution_count": 10,
   "metadata": {},
   "outputs": [
    {
     "name": "stdout",
     "output_type": "stream",
     "text": [
      "<class 'pandas.core.frame.DataFrame'>\n",
      "RangeIndex: 2067349 entries, 0 to 2067348\n",
      "Data columns (total 12 columns):\n",
      "timestep_time    float64\n",
      "vehicle_angle    float64\n",
      "vehicle_id       object\n",
      "vehicle_lane     object\n",
      "vehicle_pos      float64\n",
      "vehicle_slope    float64\n",
      "vehicle_speed    float64\n",
      "vehicle_type     object\n",
      "vehicle_x        float64\n",
      "vehicle_y        float64\n",
      "vehicle_z        float64\n",
      "person_edge      object\n",
      "dtypes: float64(8), object(4)\n",
      "memory usage: 189.3+ MB\n"
     ]
    }
   ],
   "source": [
    "for f in mergeable_features:\n",
    "    data['vehicle_'+f].fillna(data['person_'+f], inplace=True)\n",
    "    data.drop('person_'+f, axis='columns', inplace=True)\n",
    "\n",
    "data.info()"
   ]
  },
  {
   "cell_type": "markdown",
   "metadata": {},
   "source": [
    "Also `vehicle_lane` and `person_edge` seem to carry the same information (where in the network the object currently is); let's repeat the process for this couple of features:"
   ]
  },
  {
   "cell_type": "code",
   "execution_count": 11,
   "metadata": {},
   "outputs": [
    {
     "name": "stdout",
     "output_type": "stream",
     "text": [
      "<class 'pandas.core.frame.DataFrame'>\n",
      "RangeIndex: 2067349 entries, 0 to 2067348\n",
      "Data columns (total 11 columns):\n",
      "timestep_time    float64\n",
      "vehicle_angle    float64\n",
      "vehicle_id       object\n",
      "vehicle_lane     object\n",
      "vehicle_pos      float64\n",
      "vehicle_slope    float64\n",
      "vehicle_speed    float64\n",
      "vehicle_type     object\n",
      "vehicle_x        float64\n",
      "vehicle_y        float64\n",
      "vehicle_z        float64\n",
      "dtypes: float64(8), object(3)\n",
      "memory usage: 173.5+ MB\n"
     ]
    }
   ],
   "source": [
    "if np.where((data['vehicle_lane'].notna()) & (data['person_edge'].notna()), False, True).any():\n",
    "    data['vehicle_lane'].fillna(data['person_edge'], inplace=True)\n",
    "    data.drop('person_edge', axis='columns', inplace=True)\n",
    "\n",
    "data.info()"
   ]
  },
  {
   "cell_type": "markdown",
   "metadata": {},
   "source": [
    "We can now rename the features to make them more understandeable (the `vehicle` prefix does not make any sense anymore), and take a look at our more compact dataframe:"
   ]
  },
  {
   "cell_type": "code",
   "execution_count": 12,
   "metadata": {},
   "outputs": [
    {
     "data": {
      "text/html": [
       "<div>\n",
       "<style scoped>\n",
       "    .dataframe tbody tr th:only-of-type {\n",
       "        vertical-align: middle;\n",
       "    }\n",
       "\n",
       "    .dataframe tbody tr th {\n",
       "        vertical-align: top;\n",
       "    }\n",
       "\n",
       "    .dataframe thead th {\n",
       "        text-align: right;\n",
       "    }\n",
       "</style>\n",
       "<table border=\"1\" class=\"dataframe\">\n",
       "  <thead>\n",
       "    <tr style=\"text-align: right;\">\n",
       "      <th></th>\n",
       "      <th>t</th>\n",
       "      <th>angle</th>\n",
       "      <th>ID</th>\n",
       "      <th>lane_edge</th>\n",
       "      <th>position</th>\n",
       "      <th>slope</th>\n",
       "      <th>speed</th>\n",
       "      <th>v_type</th>\n",
       "      <th>x</th>\n",
       "      <th>y</th>\n",
       "      <th>z</th>\n",
       "    </tr>\n",
       "  </thead>\n",
       "  <tbody>\n",
       "    <tr>\n",
       "      <th>0</th>\n",
       "      <td>14405.0</td>\n",
       "      <td>80.89</td>\n",
       "      <td>bus_M1:France.0</td>\n",
       "      <td>152927_1</td>\n",
       "      <td>12.10</td>\n",
       "      <td>3.01</td>\n",
       "      <td>0.00</td>\n",
       "      <td>bus</td>\n",
       "      <td>1085.69</td>\n",
       "      <td>197.96</td>\n",
       "      <td>54.34</td>\n",
       "    </tr>\n",
       "    <tr>\n",
       "      <th>1</th>\n",
       "      <td>14410.0</td>\n",
       "      <td>71.94</td>\n",
       "      <td>bus_M1:France.0</td>\n",
       "      <td>152927_1</td>\n",
       "      <td>23.63</td>\n",
       "      <td>1.31</td>\n",
       "      <td>3.97</td>\n",
       "      <td>bus</td>\n",
       "      <td>1096.59</td>\n",
       "      <td>201.56</td>\n",
       "      <td>54.75</td>\n",
       "    </tr>\n",
       "    <tr>\n",
       "      <th>2</th>\n",
       "      <td>14415.0</td>\n",
       "      <td>57.57</td>\n",
       "      <td>bus_M1:France.0</td>\n",
       "      <td>152927_1</td>\n",
       "      <td>57.99</td>\n",
       "      <td>0.66</td>\n",
       "      <td>8.49</td>\n",
       "      <td>bus</td>\n",
       "      <td>1126.83</td>\n",
       "      <td>217.57</td>\n",
       "      <td>55.32</td>\n",
       "    </tr>\n",
       "    <tr>\n",
       "      <th>3</th>\n",
       "      <td>14420.0</td>\n",
       "      <td>32.10</td>\n",
       "      <td>bus_M1:France.0</td>\n",
       "      <td>152927_1</td>\n",
       "      <td>113.32</td>\n",
       "      <td>0.63</td>\n",
       "      <td>12.78</td>\n",
       "      <td>bus</td>\n",
       "      <td>1167.22</td>\n",
       "      <td>253.89</td>\n",
       "      <td>55.41</td>\n",
       "    </tr>\n",
       "    <tr>\n",
       "      <th>4</th>\n",
       "      <td>14425.0</td>\n",
       "      <td>53.85</td>\n",
       "      <td>bus_M1:Eze.0</td>\n",
       "      <td>-153460_1</td>\n",
       "      <td>18.12</td>\n",
       "      <td>1.73</td>\n",
       "      <td>3.09</td>\n",
       "      <td>bus</td>\n",
       "      <td>44.23</td>\n",
       "      <td>1368.97</td>\n",
       "      <td>358.63</td>\n",
       "    </tr>\n",
       "  </tbody>\n",
       "</table>\n",
       "</div>"
      ],
      "text/plain": [
       "         t  angle               ID  lane_edge  position  slope  speed v_type  \\\n",
       "0  14405.0  80.89  bus_M1:France.0   152927_1     12.10   3.01   0.00    bus   \n",
       "1  14410.0  71.94  bus_M1:France.0   152927_1     23.63   1.31   3.97    bus   \n",
       "2  14415.0  57.57  bus_M1:France.0   152927_1     57.99   0.66   8.49    bus   \n",
       "3  14420.0  32.10  bus_M1:France.0   152927_1    113.32   0.63  12.78    bus   \n",
       "4  14425.0  53.85     bus_M1:Eze.0  -153460_1     18.12   1.73   3.09    bus   \n",
       "\n",
       "         x        y       z  \n",
       "0  1085.69   197.96   54.34  \n",
       "1  1096.59   201.56   54.75  \n",
       "2  1126.83   217.57   55.32  \n",
       "3  1167.22   253.89   55.41  \n",
       "4    44.23  1368.97  358.63  "
      ]
     },
     "execution_count": 12,
     "metadata": {},
     "output_type": "execute_result"
    }
   ],
   "source": [
    "data.rename(columns={'timestep_time': \"t\", 'vehicle_angle': \"angle\", 'vehicle_id': \"ID\", 'vehicle_pos': \"position\",\n",
    "                     'vehicle_slope': \"slope\", 'vehicle_speed': \"speed\", 'vehicle_x': \"x\", 'vehicle_y': \"y\",\n",
    "                     'vehicle_z': \"z\", 'vehicle_lane': \"lane_edge\", 'vehicle_type': \"v_type\", }, inplace=True)\n",
    "data.head()"
   ]
  },
  {
   "cell_type": "markdown",
   "metadata": {},
   "source": [
    "## Exploratory Data Analysis"
   ]
  },
  {
   "cell_type": "markdown",
   "metadata": {},
   "source": [
    "Let's verify the starting and ending time of the simulation, and when the first vehicle (or person) appears:"
   ]
  },
  {
   "cell_type": "markdown",
   "metadata": {},
   "source": [
    "<font color =\"green\">\n",
    "\n",
    "You are assuming the CSV is sorted :)\n",
    "To be safe, better to use `pd.min` and `pd.max`\n",
    "\n",
    "</font>\n",
    "\n",
    "<font color =\"gray\">\n",
    "\n",
    "Capisco l'idea (e ovviamente nessun problema a usare min./max.), ma in questo caso è un po' come un postulato che è lecito presupporre no? I dati vengono da una simulazione, non son grezzi, e conosciamo il formato dell'output perché lo produciamo noi.\n",
    "\n",
    "</font>"
   ]
  },
  {
   "cell_type": "code",
   "execution_count": 13,
   "metadata": {},
   "outputs": [
    {
     "name": "stdout",
     "output_type": "stream",
     "text": [
      "Data time interval: 4:00:00 – 5:59:55\n",
      "First object appears at 4:00:05\n"
     ]
    }
   ],
   "source": [
    "print(\"Data time interval:\", t_format(t_s), \"–\", t_format(t_e))\n",
    "print(\"First object appears at\", t_format(t_o))"
   ]
  },
  {
   "cell_type": "markdown",
   "metadata": {},
   "source": [
    "Let's see now how many objects are active for each time step; given the traffic distribution (normal with _μ_ at 8:15 AM and _σ_ equal to 90'), we would expect them to be substantially increasing since around 5 AM."
   ]
  },
  {
   "cell_type": "code",
   "execution_count": 145,
   "metadata": {},
   "outputs": [
    {
     "data": {
      "image/png": "[encoded data removed]",
      "text/plain": [
       "<Figure size 432x288 with 1 Axes>"
      ]
     },
     "metadata": {
      "needs_background": "light"
     },
     "output_type": "display_data"
    }
   ],
   "source": [
    "ax = plt.figure().add_axes([0, 0, 1, 1])\n",
    "\n",
    "ax.plot(data.groupby(['t']).count()['ID'])\n",
    "\n",
    "# ax.set_title('Active objects')\n",
    "ax.set_xlabel('time')\n",
    "ax.set_ylabel('number of active objects')\n",
    "\n",
    "labels = []\n",
    "for tick in ax.get_xticks():\n",
    "    labels.append(t_format(tick)[:-3])\n",
    "ax.set_xticklabels(labels);"
   ]
  },
  {
   "cell_type": "markdown",
   "metadata": {},
   "source": [
    "<font color=\"green\">\n",
    "Side Note: I think the code below is more standard for plotting data frames.\n",
    "</font>"
   ]
  },
  {
   "cell_type": "markdown",
   "metadata": {},
   "source": [
    "<font color=\"gray\">\n",
    "\n",
    "Ho qualche osservazione su questo punto:\n",
    "* Osservazione sullo _standard code_ un po' come per la storia del _linting_, :) ma lasciamola per due chiacchiere a voce\n",
    "* La mia idea era non di fare il grafico cumulato, ma vedere quali erano i periodi più pieni di veicoli diciamo\n",
    "* Perché assegni il plot?\n",
    "* Il tuo codice non mi funziona (vedi sotto), e anche nella _signature_ della funzione non vedo effettivamente `xlabel` e `ylabel`!\n",
    "\n",
    "</font>"
   ]
  },
  {
   "cell_type": "code",
   "execution_count": 147,
   "metadata": {},
   "outputs": [
    {
     "ename": "AttributeError",
     "evalue": "'Line2D' object has no property 'xlabel'",
     "output_type": "error",
     "traceback": [
      "\u001b[1;31m---------------------------------------------------------------------------\u001b[0m",
      "\u001b[1;31mAttributeError\u001b[0m                            Traceback (most recent call last)",
      "\u001b[1;32m<ipython-input-147-dbd0b7ba45af>\u001b[0m in \u001b[0;36m<module>\u001b[1;34m\u001b[0m\n\u001b[0;32m      4\u001b[0m _ = cumulated.plot(x=cumulated.index, y='ID',\n\u001b[0;32m      5\u001b[0m                    \u001b[0mkind\u001b[0m\u001b[1;33m=\u001b[0m\u001b[1;34m'line'\u001b[0m\u001b[1;33m,\u001b[0m \u001b[0mxticks\u001b[0m\u001b[1;33m=\u001b[0m\u001b[0mx_ticks\u001b[0m\u001b[1;33m,\u001b[0m\u001b[1;33m\u001b[0m\u001b[1;33m\u001b[0m\u001b[0m\n\u001b[1;32m----> 6\u001b[1;33m                    xlabel='t [sec from midnight]', ylabel='num objects')\n\u001b[0m",
      "\u001b[1;32mC:\\Users\\Rugge\\Anaconda\\lib\\site-packages\\pandas\\plotting\\_core.py\u001b[0m in \u001b[0;36m__call__\u001b[1;34m(self, kind, ax, figsize, use_index, title, grid, legend, style, logx, logy, loglog, xticks, yticks, xlim, ylim, rot, fontsize, colormap, table, yerr, xerr, label, secondary_y, **kwds)\u001b[0m\n\u001b[0;32m   2740\u001b[0m                            \u001b[0mcolormap\u001b[0m\u001b[1;33m=\u001b[0m\u001b[0mcolormap\u001b[0m\u001b[1;33m,\u001b[0m \u001b[0mtable\u001b[0m\u001b[1;33m=\u001b[0m\u001b[0mtable\u001b[0m\u001b[1;33m,\u001b[0m \u001b[0myerr\u001b[0m\u001b[1;33m=\u001b[0m\u001b[0myerr\u001b[0m\u001b[1;33m,\u001b[0m\u001b[1;33m\u001b[0m\u001b[1;33m\u001b[0m\u001b[0m\n\u001b[0;32m   2741\u001b[0m                            \u001b[0mxerr\u001b[0m\u001b[1;33m=\u001b[0m\u001b[0mxerr\u001b[0m\u001b[1;33m,\u001b[0m \u001b[0mlabel\u001b[0m\u001b[1;33m=\u001b[0m\u001b[0mlabel\u001b[0m\u001b[1;33m,\u001b[0m \u001b[0msecondary_y\u001b[0m\u001b[1;33m=\u001b[0m\u001b[0msecondary_y\u001b[0m\u001b[1;33m,\u001b[0m\u001b[1;33m\u001b[0m\u001b[1;33m\u001b[0m\u001b[0m\n\u001b[1;32m-> 2742\u001b[1;33m                            **kwds)\n\u001b[0m\u001b[0;32m   2743\u001b[0m     \u001b[0m__call__\u001b[0m\u001b[1;33m.\u001b[0m\u001b[0m__doc__\u001b[0m \u001b[1;33m=\u001b[0m \u001b[0mplot_series\u001b[0m\u001b[1;33m.\u001b[0m\u001b[0m__doc__\u001b[0m\u001b[1;33m\u001b[0m\u001b[1;33m\u001b[0m\u001b[0m\n\u001b[0;32m   2744\u001b[0m \u001b[1;33m\u001b[0m\u001b[0m\n",
      "\u001b[1;32mC:\\Users\\Rugge\\Anaconda\\lib\\site-packages\\pandas\\plotting\\_core.py\u001b[0m in \u001b[0;36mplot_series\u001b[1;34m(data, kind, ax, figsize, use_index, title, grid, legend, style, logx, logy, loglog, xticks, yticks, xlim, ylim, rot, fontsize, colormap, table, yerr, xerr, label, secondary_y, **kwds)\u001b[0m\n\u001b[0;32m   1996\u001b[0m                  \u001b[0myerr\u001b[0m\u001b[1;33m=\u001b[0m\u001b[0myerr\u001b[0m\u001b[1;33m,\u001b[0m \u001b[0mxerr\u001b[0m\u001b[1;33m=\u001b[0m\u001b[0mxerr\u001b[0m\u001b[1;33m,\u001b[0m\u001b[1;33m\u001b[0m\u001b[1;33m\u001b[0m\u001b[0m\n\u001b[0;32m   1997\u001b[0m                  \u001b[0mlabel\u001b[0m\u001b[1;33m=\u001b[0m\u001b[0mlabel\u001b[0m\u001b[1;33m,\u001b[0m \u001b[0msecondary_y\u001b[0m\u001b[1;33m=\u001b[0m\u001b[0msecondary_y\u001b[0m\u001b[1;33m,\u001b[0m\u001b[1;33m\u001b[0m\u001b[1;33m\u001b[0m\u001b[0m\n\u001b[1;32m-> 1998\u001b[1;33m                  **kwds)\n\u001b[0m\u001b[0;32m   1999\u001b[0m \u001b[1;33m\u001b[0m\u001b[0m\n\u001b[0;32m   2000\u001b[0m \u001b[1;33m\u001b[0m\u001b[0m\n",
      "\u001b[1;32mC:\\Users\\Rugge\\Anaconda\\lib\\site-packages\\pandas\\plotting\\_core.py\u001b[0m in \u001b[0;36m_plot\u001b[1;34m(data, x, y, subplots, ax, kind, **kwds)\u001b[0m\n\u001b[0;32m   1799\u001b[0m         \u001b[0mplot_obj\u001b[0m \u001b[1;33m=\u001b[0m \u001b[0mklass\u001b[0m\u001b[1;33m(\u001b[0m\u001b[0mdata\u001b[0m\u001b[1;33m,\u001b[0m \u001b[0msubplots\u001b[0m\u001b[1;33m=\u001b[0m\u001b[0msubplots\u001b[0m\u001b[1;33m,\u001b[0m \u001b[0max\u001b[0m\u001b[1;33m=\u001b[0m\u001b[0max\u001b[0m\u001b[1;33m,\u001b[0m \u001b[0mkind\u001b[0m\u001b[1;33m=\u001b[0m\u001b[0mkind\u001b[0m\u001b[1;33m,\u001b[0m \u001b[1;33m**\u001b[0m\u001b[0mkwds\u001b[0m\u001b[1;33m)\u001b[0m\u001b[1;33m\u001b[0m\u001b[1;33m\u001b[0m\u001b[0m\n\u001b[0;32m   1800\u001b[0m \u001b[1;33m\u001b[0m\u001b[0m\n\u001b[1;32m-> 1801\u001b[1;33m     \u001b[0mplot_obj\u001b[0m\u001b[1;33m.\u001b[0m\u001b[0mgenerate\u001b[0m\u001b[1;33m(\u001b[0m\u001b[1;33m)\u001b[0m\u001b[1;33m\u001b[0m\u001b[1;33m\u001b[0m\u001b[0m\n\u001b[0m\u001b[0;32m   1802\u001b[0m     \u001b[0mplot_obj\u001b[0m\u001b[1;33m.\u001b[0m\u001b[0mdraw\u001b[0m\u001b[1;33m(\u001b[0m\u001b[1;33m)\u001b[0m\u001b[1;33m\u001b[0m\u001b[1;33m\u001b[0m\u001b[0m\n\u001b[0;32m   1803\u001b[0m     \u001b[1;32mreturn\u001b[0m \u001b[0mplot_obj\u001b[0m\u001b[1;33m.\u001b[0m\u001b[0mresult\u001b[0m\u001b[1;33m\u001b[0m\u001b[1;33m\u001b[0m\u001b[0m\n",
      "\u001b[1;32mC:\\Users\\Rugge\\Anaconda\\lib\\site-packages\\pandas\\plotting\\_core.py\u001b[0m in \u001b[0;36mgenerate\u001b[1;34m(self)\u001b[0m\n\u001b[0;32m    249\u001b[0m         \u001b[0mself\u001b[0m\u001b[1;33m.\u001b[0m\u001b[0m_compute_plot_data\u001b[0m\u001b[1;33m(\u001b[0m\u001b[1;33m)\u001b[0m\u001b[1;33m\u001b[0m\u001b[1;33m\u001b[0m\u001b[0m\n\u001b[0;32m    250\u001b[0m         \u001b[0mself\u001b[0m\u001b[1;33m.\u001b[0m\u001b[0m_setup_subplots\u001b[0m\u001b[1;33m(\u001b[0m\u001b[1;33m)\u001b[0m\u001b[1;33m\u001b[0m\u001b[1;33m\u001b[0m\u001b[0m\n\u001b[1;32m--> 251\u001b[1;33m         \u001b[0mself\u001b[0m\u001b[1;33m.\u001b[0m\u001b[0m_make_plot\u001b[0m\u001b[1;33m(\u001b[0m\u001b[1;33m)\u001b[0m\u001b[1;33m\u001b[0m\u001b[1;33m\u001b[0m\u001b[0m\n\u001b[0m\u001b[0;32m    252\u001b[0m         \u001b[0mself\u001b[0m\u001b[1;33m.\u001b[0m\u001b[0m_add_table\u001b[0m\u001b[1;33m(\u001b[0m\u001b[1;33m)\u001b[0m\u001b[1;33m\u001b[0m\u001b[1;33m\u001b[0m\u001b[0m\n\u001b[0;32m    253\u001b[0m         \u001b[0mself\u001b[0m\u001b[1;33m.\u001b[0m\u001b[0m_make_legend\u001b[0m\u001b[1;33m(\u001b[0m\u001b[1;33m)\u001b[0m\u001b[1;33m\u001b[0m\u001b[1;33m\u001b[0m\u001b[0m\n",
      "\u001b[1;32mC:\\Users\\Rugge\\Anaconda\\lib\\site-packages\\pandas\\plotting\\_core.py\u001b[0m in \u001b[0;36m_make_plot\u001b[1;34m(self)\u001b[0m\n\u001b[0;32m    994\u001b[0m                              \u001b[0mstacking_id\u001b[0m\u001b[1;33m=\u001b[0m\u001b[0mstacking_id\u001b[0m\u001b[1;33m,\u001b[0m\u001b[1;33m\u001b[0m\u001b[1;33m\u001b[0m\u001b[0m\n\u001b[0;32m    995\u001b[0m                              \u001b[0mis_errorbar\u001b[0m\u001b[1;33m=\u001b[0m\u001b[0mis_errorbar\u001b[0m\u001b[1;33m,\u001b[0m\u001b[1;33m\u001b[0m\u001b[1;33m\u001b[0m\u001b[0m\n\u001b[1;32m--> 996\u001b[1;33m                              **kwds)\n\u001b[0m\u001b[0;32m    997\u001b[0m             \u001b[0mself\u001b[0m\u001b[1;33m.\u001b[0m\u001b[0m_add_legend_handle\u001b[0m\u001b[1;33m(\u001b[0m\u001b[0mnewlines\u001b[0m\u001b[1;33m[\u001b[0m\u001b[1;36m0\u001b[0m\u001b[1;33m]\u001b[0m\u001b[1;33m,\u001b[0m \u001b[0mlabel\u001b[0m\u001b[1;33m,\u001b[0m \u001b[0mindex\u001b[0m\u001b[1;33m=\u001b[0m\u001b[0mi\u001b[0m\u001b[1;33m)\u001b[0m\u001b[1;33m\u001b[0m\u001b[1;33m\u001b[0m\u001b[0m\n\u001b[0;32m    998\u001b[0m \u001b[1;33m\u001b[0m\u001b[0m\n",
      "\u001b[1;32mC:\\Users\\Rugge\\Anaconda\\lib\\site-packages\\pandas\\plotting\\_core.py\u001b[0m in \u001b[0;36m_plot\u001b[1;34m(cls, ax, x, y, style, column_num, stacking_id, **kwds)\u001b[0m\n\u001b[0;32m   1009\u001b[0m             \u001b[0mcls\u001b[0m\u001b[1;33m.\u001b[0m\u001b[0m_initialize_stacker\u001b[0m\u001b[1;33m(\u001b[0m\u001b[0max\u001b[0m\u001b[1;33m,\u001b[0m \u001b[0mstacking_id\u001b[0m\u001b[1;33m,\u001b[0m \u001b[0mlen\u001b[0m\u001b[1;33m(\u001b[0m\u001b[0my\u001b[0m\u001b[1;33m)\u001b[0m\u001b[1;33m)\u001b[0m\u001b[1;33m\u001b[0m\u001b[1;33m\u001b[0m\u001b[0m\n\u001b[0;32m   1010\u001b[0m         \u001b[0my_values\u001b[0m \u001b[1;33m=\u001b[0m \u001b[0mcls\u001b[0m\u001b[1;33m.\u001b[0m\u001b[0m_get_stacked_values\u001b[0m\u001b[1;33m(\u001b[0m\u001b[0max\u001b[0m\u001b[1;33m,\u001b[0m \u001b[0mstacking_id\u001b[0m\u001b[1;33m,\u001b[0m \u001b[0my\u001b[0m\u001b[1;33m,\u001b[0m \u001b[0mkwds\u001b[0m\u001b[1;33m[\u001b[0m\u001b[1;34m'label'\u001b[0m\u001b[1;33m]\u001b[0m\u001b[1;33m)\u001b[0m\u001b[1;33m\u001b[0m\u001b[1;33m\u001b[0m\u001b[0m\n\u001b[1;32m-> 1011\u001b[1;33m         \u001b[0mlines\u001b[0m \u001b[1;33m=\u001b[0m \u001b[0mMPLPlot\u001b[0m\u001b[1;33m.\u001b[0m\u001b[0m_plot\u001b[0m\u001b[1;33m(\u001b[0m\u001b[0max\u001b[0m\u001b[1;33m,\u001b[0m \u001b[0mx\u001b[0m\u001b[1;33m,\u001b[0m \u001b[0my_values\u001b[0m\u001b[1;33m,\u001b[0m \u001b[0mstyle\u001b[0m\u001b[1;33m=\u001b[0m\u001b[0mstyle\u001b[0m\u001b[1;33m,\u001b[0m \u001b[1;33m**\u001b[0m\u001b[0mkwds\u001b[0m\u001b[1;33m)\u001b[0m\u001b[1;33m\u001b[0m\u001b[1;33m\u001b[0m\u001b[0m\n\u001b[0m\u001b[0;32m   1012\u001b[0m         \u001b[0mcls\u001b[0m\u001b[1;33m.\u001b[0m\u001b[0m_update_stacker\u001b[0m\u001b[1;33m(\u001b[0m\u001b[0max\u001b[0m\u001b[1;33m,\u001b[0m \u001b[0mstacking_id\u001b[0m\u001b[1;33m,\u001b[0m \u001b[0my\u001b[0m\u001b[1;33m)\u001b[0m\u001b[1;33m\u001b[0m\u001b[1;33m\u001b[0m\u001b[0m\n\u001b[0;32m   1013\u001b[0m         \u001b[1;32mreturn\u001b[0m \u001b[0mlines\u001b[0m\u001b[1;33m\u001b[0m\u001b[1;33m\u001b[0m\u001b[0m\n",
      "\u001b[1;32mC:\\Users\\Rugge\\Anaconda\\lib\\site-packages\\pandas\\plotting\\_core.py\u001b[0m in \u001b[0;36m_plot\u001b[1;34m(cls, ax, x, y, style, is_errorbar, **kwds)\u001b[0m\n\u001b[0;32m    599\u001b[0m             \u001b[1;32melse\u001b[0m\u001b[1;33m:\u001b[0m\u001b[1;33m\u001b[0m\u001b[1;33m\u001b[0m\u001b[0m\n\u001b[0;32m    600\u001b[0m                 \u001b[0margs\u001b[0m \u001b[1;33m=\u001b[0m \u001b[1;33m(\u001b[0m\u001b[0mx\u001b[0m\u001b[1;33m,\u001b[0m \u001b[0my\u001b[0m\u001b[1;33m)\u001b[0m\u001b[1;33m\u001b[0m\u001b[1;33m\u001b[0m\u001b[0m\n\u001b[1;32m--> 601\u001b[1;33m             \u001b[1;32mreturn\u001b[0m \u001b[0max\u001b[0m\u001b[1;33m.\u001b[0m\u001b[0mplot\u001b[0m\u001b[1;33m(\u001b[0m\u001b[1;33m*\u001b[0m\u001b[0margs\u001b[0m\u001b[1;33m,\u001b[0m \u001b[1;33m**\u001b[0m\u001b[0mkwds\u001b[0m\u001b[1;33m)\u001b[0m\u001b[1;33m\u001b[0m\u001b[1;33m\u001b[0m\u001b[0m\n\u001b[0m\u001b[0;32m    602\u001b[0m \u001b[1;33m\u001b[0m\u001b[0m\n\u001b[0;32m    603\u001b[0m     \u001b[1;32mdef\u001b[0m \u001b[0m_get_index_name\u001b[0m\u001b[1;33m(\u001b[0m\u001b[0mself\u001b[0m\u001b[1;33m)\u001b[0m\u001b[1;33m:\u001b[0m\u001b[1;33m\u001b[0m\u001b[1;33m\u001b[0m\u001b[0m\n",
      "\u001b[1;32mC:\\Users\\Rugge\\Anaconda\\lib\\site-packages\\matplotlib\\axes\\_axes.py\u001b[0m in \u001b[0;36mplot\u001b[1;34m(self, scalex, scaley, data, *args, **kwargs)\u001b[0m\n\u001b[0;32m   1664\u001b[0m         \"\"\"\n\u001b[0;32m   1665\u001b[0m         \u001b[0mkwargs\u001b[0m \u001b[1;33m=\u001b[0m \u001b[0mcbook\u001b[0m\u001b[1;33m.\u001b[0m\u001b[0mnormalize_kwargs\u001b[0m\u001b[1;33m(\u001b[0m\u001b[0mkwargs\u001b[0m\u001b[1;33m,\u001b[0m \u001b[0mmlines\u001b[0m\u001b[1;33m.\u001b[0m\u001b[0mLine2D\u001b[0m\u001b[1;33m.\u001b[0m\u001b[0m_alias_map\u001b[0m\u001b[1;33m)\u001b[0m\u001b[1;33m\u001b[0m\u001b[1;33m\u001b[0m\u001b[0m\n\u001b[1;32m-> 1666\u001b[1;33m         \u001b[0mlines\u001b[0m \u001b[1;33m=\u001b[0m \u001b[1;33m[\u001b[0m\u001b[1;33m*\u001b[0m\u001b[0mself\u001b[0m\u001b[1;33m.\u001b[0m\u001b[0m_get_lines\u001b[0m\u001b[1;33m(\u001b[0m\u001b[1;33m*\u001b[0m\u001b[0margs\u001b[0m\u001b[1;33m,\u001b[0m \u001b[0mdata\u001b[0m\u001b[1;33m=\u001b[0m\u001b[0mdata\u001b[0m\u001b[1;33m,\u001b[0m \u001b[1;33m**\u001b[0m\u001b[0mkwargs\u001b[0m\u001b[1;33m)\u001b[0m\u001b[1;33m]\u001b[0m\u001b[1;33m\u001b[0m\u001b[1;33m\u001b[0m\u001b[0m\n\u001b[0m\u001b[0;32m   1667\u001b[0m         \u001b[1;32mfor\u001b[0m \u001b[0mline\u001b[0m \u001b[1;32min\u001b[0m \u001b[0mlines\u001b[0m\u001b[1;33m:\u001b[0m\u001b[1;33m\u001b[0m\u001b[1;33m\u001b[0m\u001b[0m\n\u001b[0;32m   1668\u001b[0m             \u001b[0mself\u001b[0m\u001b[1;33m.\u001b[0m\u001b[0madd_line\u001b[0m\u001b[1;33m(\u001b[0m\u001b[0mline\u001b[0m\u001b[1;33m)\u001b[0m\u001b[1;33m\u001b[0m\u001b[1;33m\u001b[0m\u001b[0m\n",
      "\u001b[1;32mC:\\Users\\Rugge\\Anaconda\\lib\\site-packages\\matplotlib\\axes\\_base.py\u001b[0m in \u001b[0;36m__call__\u001b[1;34m(self, *args, **kwargs)\u001b[0m\n\u001b[0;32m    223\u001b[0m                 \u001b[0mthis\u001b[0m \u001b[1;33m+=\u001b[0m \u001b[0margs\u001b[0m\u001b[1;33m[\u001b[0m\u001b[1;36m0\u001b[0m\u001b[1;33m]\u001b[0m\u001b[1;33m,\u001b[0m\u001b[1;33m\u001b[0m\u001b[1;33m\u001b[0m\u001b[0m\n\u001b[0;32m    224\u001b[0m                 \u001b[0margs\u001b[0m \u001b[1;33m=\u001b[0m \u001b[0margs\u001b[0m\u001b[1;33m[\u001b[0m\u001b[1;36m1\u001b[0m\u001b[1;33m:\u001b[0m\u001b[1;33m]\u001b[0m\u001b[1;33m\u001b[0m\u001b[1;33m\u001b[0m\u001b[0m\n\u001b[1;32m--> 225\u001b[1;33m             \u001b[1;32myield\u001b[0m \u001b[1;32mfrom\u001b[0m \u001b[0mself\u001b[0m\u001b[1;33m.\u001b[0m\u001b[0m_plot_args\u001b[0m\u001b[1;33m(\u001b[0m\u001b[0mthis\u001b[0m\u001b[1;33m,\u001b[0m \u001b[0mkwargs\u001b[0m\u001b[1;33m)\u001b[0m\u001b[1;33m\u001b[0m\u001b[1;33m\u001b[0m\u001b[0m\n\u001b[0m\u001b[0;32m    226\u001b[0m \u001b[1;33m\u001b[0m\u001b[0m\n\u001b[0;32m    227\u001b[0m     \u001b[1;32mdef\u001b[0m \u001b[0mget_next_color\u001b[0m\u001b[1;33m(\u001b[0m\u001b[0mself\u001b[0m\u001b[1;33m)\u001b[0m\u001b[1;33m:\u001b[0m\u001b[1;33m\u001b[0m\u001b[1;33m\u001b[0m\u001b[0m\n",
      "\u001b[1;32mC:\\Users\\Rugge\\Anaconda\\lib\\site-packages\\matplotlib\\axes\\_base.py\u001b[0m in \u001b[0;36m_plot_args\u001b[1;34m(self, tup, kwargs)\u001b[0m\n\u001b[0;32m    403\u001b[0m                 \"non-matching shapes is deprecated.\")\n\u001b[0;32m    404\u001b[0m         \u001b[1;32mfor\u001b[0m \u001b[0mj\u001b[0m \u001b[1;32min\u001b[0m \u001b[0mrange\u001b[0m\u001b[1;33m(\u001b[0m\u001b[0mmax\u001b[0m\u001b[1;33m(\u001b[0m\u001b[0mncx\u001b[0m\u001b[1;33m,\u001b[0m \u001b[0mncy\u001b[0m\u001b[1;33m)\u001b[0m\u001b[1;33m)\u001b[0m\u001b[1;33m:\u001b[0m\u001b[1;33m\u001b[0m\u001b[1;33m\u001b[0m\u001b[0m\n\u001b[1;32m--> 405\u001b[1;33m             \u001b[0mseg\u001b[0m \u001b[1;33m=\u001b[0m \u001b[0mfunc\u001b[0m\u001b[1;33m(\u001b[0m\u001b[0mx\u001b[0m\u001b[1;33m[\u001b[0m\u001b[1;33m:\u001b[0m\u001b[1;33m,\u001b[0m \u001b[0mj\u001b[0m \u001b[1;33m%\u001b[0m \u001b[0mncx\u001b[0m\u001b[1;33m]\u001b[0m\u001b[1;33m,\u001b[0m \u001b[0my\u001b[0m\u001b[1;33m[\u001b[0m\u001b[1;33m:\u001b[0m\u001b[1;33m,\u001b[0m \u001b[0mj\u001b[0m \u001b[1;33m%\u001b[0m \u001b[0mncy\u001b[0m\u001b[1;33m]\u001b[0m\u001b[1;33m,\u001b[0m \u001b[0mkw\u001b[0m\u001b[1;33m,\u001b[0m \u001b[0mkwargs\u001b[0m\u001b[1;33m)\u001b[0m\u001b[1;33m\u001b[0m\u001b[1;33m\u001b[0m\u001b[0m\n\u001b[0m\u001b[0;32m    406\u001b[0m             \u001b[0mret\u001b[0m\u001b[1;33m.\u001b[0m\u001b[0mappend\u001b[0m\u001b[1;33m(\u001b[0m\u001b[0mseg\u001b[0m\u001b[1;33m)\u001b[0m\u001b[1;33m\u001b[0m\u001b[1;33m\u001b[0m\u001b[0m\n\u001b[0;32m    407\u001b[0m         \u001b[1;32mreturn\u001b[0m \u001b[0mret\u001b[0m\u001b[1;33m\u001b[0m\u001b[1;33m\u001b[0m\u001b[0m\n",
      "\u001b[1;32mC:\\Users\\Rugge\\Anaconda\\lib\\site-packages\\matplotlib\\axes\\_base.py\u001b[0m in \u001b[0;36m_makeline\u001b[1;34m(self, x, y, kw, kwargs)\u001b[0m\n\u001b[0;32m    310\u001b[0m         \u001b[0mdefault_dict\u001b[0m \u001b[1;33m=\u001b[0m \u001b[0mself\u001b[0m\u001b[1;33m.\u001b[0m\u001b[0m_getdefaults\u001b[0m\u001b[1;33m(\u001b[0m\u001b[0mset\u001b[0m\u001b[1;33m(\u001b[0m\u001b[1;33m)\u001b[0m\u001b[1;33m,\u001b[0m \u001b[0mkw\u001b[0m\u001b[1;33m)\u001b[0m\u001b[1;33m\u001b[0m\u001b[1;33m\u001b[0m\u001b[0m\n\u001b[0;32m    311\u001b[0m         \u001b[0mself\u001b[0m\u001b[1;33m.\u001b[0m\u001b[0m_setdefaults\u001b[0m\u001b[1;33m(\u001b[0m\u001b[0mdefault_dict\u001b[0m\u001b[1;33m,\u001b[0m \u001b[0mkw\u001b[0m\u001b[1;33m)\u001b[0m\u001b[1;33m\u001b[0m\u001b[1;33m\u001b[0m\u001b[0m\n\u001b[1;32m--> 312\u001b[1;33m         \u001b[0mseg\u001b[0m \u001b[1;33m=\u001b[0m \u001b[0mmlines\u001b[0m\u001b[1;33m.\u001b[0m\u001b[0mLine2D\u001b[0m\u001b[1;33m(\u001b[0m\u001b[0mx\u001b[0m\u001b[1;33m,\u001b[0m \u001b[0my\u001b[0m\u001b[1;33m,\u001b[0m \u001b[1;33m**\u001b[0m\u001b[0mkw\u001b[0m\u001b[1;33m)\u001b[0m\u001b[1;33m\u001b[0m\u001b[1;33m\u001b[0m\u001b[0m\n\u001b[0m\u001b[0;32m    313\u001b[0m         \u001b[1;32mreturn\u001b[0m \u001b[0mseg\u001b[0m\u001b[1;33m\u001b[0m\u001b[1;33m\u001b[0m\u001b[0m\n\u001b[0;32m    314\u001b[0m \u001b[1;33m\u001b[0m\u001b[0m\n",
      "\u001b[1;32mC:\\Users\\Rugge\\Anaconda\\lib\\site-packages\\matplotlib\\lines.py\u001b[0m in \u001b[0;36m__init__\u001b[1;34m(self, xdata, ydata, linewidth, linestyle, color, marker, markersize, markeredgewidth, markeredgecolor, markerfacecolor, markerfacecoloralt, fillstyle, antialiased, dash_capstyle, solid_capstyle, dash_joinstyle, solid_joinstyle, pickradius, drawstyle, markevery, **kwargs)\u001b[0m\n\u001b[0;32m    402\u001b[0m         \u001b[1;31m# update kwargs before updating data to give the caller a\u001b[0m\u001b[1;33m\u001b[0m\u001b[1;33m\u001b[0m\u001b[1;33m\u001b[0m\u001b[0m\n\u001b[0;32m    403\u001b[0m         \u001b[1;31m# chance to init axes (and hence unit support)\u001b[0m\u001b[1;33m\u001b[0m\u001b[1;33m\u001b[0m\u001b[1;33m\u001b[0m\u001b[0m\n\u001b[1;32m--> 404\u001b[1;33m         \u001b[0mself\u001b[0m\u001b[1;33m.\u001b[0m\u001b[0mupdate\u001b[0m\u001b[1;33m(\u001b[0m\u001b[0mkwargs\u001b[0m\u001b[1;33m)\u001b[0m\u001b[1;33m\u001b[0m\u001b[1;33m\u001b[0m\u001b[0m\n\u001b[0m\u001b[0;32m    405\u001b[0m         \u001b[0mself\u001b[0m\u001b[1;33m.\u001b[0m\u001b[0mpickradius\u001b[0m \u001b[1;33m=\u001b[0m \u001b[0mpickradius\u001b[0m\u001b[1;33m\u001b[0m\u001b[1;33m\u001b[0m\u001b[0m\n\u001b[0;32m    406\u001b[0m         \u001b[0mself\u001b[0m\u001b[1;33m.\u001b[0m\u001b[0mind_offset\u001b[0m \u001b[1;33m=\u001b[0m \u001b[1;36m0\u001b[0m\u001b[1;33m\u001b[0m\u001b[1;33m\u001b[0m\u001b[0m\n",
      "\u001b[1;32mC:\\Users\\Rugge\\Anaconda\\lib\\site-packages\\matplotlib\\artist.py\u001b[0m in \u001b[0;36mupdate\u001b[1;34m(self, props)\u001b[0m\n\u001b[0;32m    955\u001b[0m \u001b[1;33m\u001b[0m\u001b[0m\n\u001b[0;32m    956\u001b[0m         \u001b[1;32mwith\u001b[0m \u001b[0mcbook\u001b[0m\u001b[1;33m.\u001b[0m\u001b[0m_setattr_cm\u001b[0m\u001b[1;33m(\u001b[0m\u001b[0mself\u001b[0m\u001b[1;33m,\u001b[0m \u001b[0meventson\u001b[0m\u001b[1;33m=\u001b[0m\u001b[1;32mFalse\u001b[0m\u001b[1;33m)\u001b[0m\u001b[1;33m:\u001b[0m\u001b[1;33m\u001b[0m\u001b[1;33m\u001b[0m\u001b[0m\n\u001b[1;32m--> 957\u001b[1;33m             \u001b[0mret\u001b[0m \u001b[1;33m=\u001b[0m \u001b[1;33m[\u001b[0m\u001b[0m_update_property\u001b[0m\u001b[1;33m(\u001b[0m\u001b[0mself\u001b[0m\u001b[1;33m,\u001b[0m \u001b[0mk\u001b[0m\u001b[1;33m,\u001b[0m \u001b[0mv\u001b[0m\u001b[1;33m)\u001b[0m \u001b[1;32mfor\u001b[0m \u001b[0mk\u001b[0m\u001b[1;33m,\u001b[0m \u001b[0mv\u001b[0m \u001b[1;32min\u001b[0m \u001b[0mprops\u001b[0m\u001b[1;33m.\u001b[0m\u001b[0mitems\u001b[0m\u001b[1;33m(\u001b[0m\u001b[1;33m)\u001b[0m\u001b[1;33m]\u001b[0m\u001b[1;33m\u001b[0m\u001b[1;33m\u001b[0m\u001b[0m\n\u001b[0m\u001b[0;32m    958\u001b[0m \u001b[1;33m\u001b[0m\u001b[0m\n\u001b[0;32m    959\u001b[0m         \u001b[1;32mif\u001b[0m \u001b[0mlen\u001b[0m\u001b[1;33m(\u001b[0m\u001b[0mret\u001b[0m\u001b[1;33m)\u001b[0m\u001b[1;33m:\u001b[0m\u001b[1;33m\u001b[0m\u001b[1;33m\u001b[0m\u001b[0m\n",
      "\u001b[1;32mC:\\Users\\Rugge\\Anaconda\\lib\\site-packages\\matplotlib\\artist.py\u001b[0m in \u001b[0;36m<listcomp>\u001b[1;34m(.0)\u001b[0m\n\u001b[0;32m    955\u001b[0m \u001b[1;33m\u001b[0m\u001b[0m\n\u001b[0;32m    956\u001b[0m         \u001b[1;32mwith\u001b[0m \u001b[0mcbook\u001b[0m\u001b[1;33m.\u001b[0m\u001b[0m_setattr_cm\u001b[0m\u001b[1;33m(\u001b[0m\u001b[0mself\u001b[0m\u001b[1;33m,\u001b[0m \u001b[0meventson\u001b[0m\u001b[1;33m=\u001b[0m\u001b[1;32mFalse\u001b[0m\u001b[1;33m)\u001b[0m\u001b[1;33m:\u001b[0m\u001b[1;33m\u001b[0m\u001b[1;33m\u001b[0m\u001b[0m\n\u001b[1;32m--> 957\u001b[1;33m             \u001b[0mret\u001b[0m \u001b[1;33m=\u001b[0m \u001b[1;33m[\u001b[0m\u001b[0m_update_property\u001b[0m\u001b[1;33m(\u001b[0m\u001b[0mself\u001b[0m\u001b[1;33m,\u001b[0m \u001b[0mk\u001b[0m\u001b[1;33m,\u001b[0m \u001b[0mv\u001b[0m\u001b[1;33m)\u001b[0m \u001b[1;32mfor\u001b[0m \u001b[0mk\u001b[0m\u001b[1;33m,\u001b[0m \u001b[0mv\u001b[0m \u001b[1;32min\u001b[0m \u001b[0mprops\u001b[0m\u001b[1;33m.\u001b[0m\u001b[0mitems\u001b[0m\u001b[1;33m(\u001b[0m\u001b[1;33m)\u001b[0m\u001b[1;33m]\u001b[0m\u001b[1;33m\u001b[0m\u001b[1;33m\u001b[0m\u001b[0m\n\u001b[0m\u001b[0;32m    958\u001b[0m \u001b[1;33m\u001b[0m\u001b[0m\n\u001b[0;32m    959\u001b[0m         \u001b[1;32mif\u001b[0m \u001b[0mlen\u001b[0m\u001b[1;33m(\u001b[0m\u001b[0mret\u001b[0m\u001b[1;33m)\u001b[0m\u001b[1;33m:\u001b[0m\u001b[1;33m\u001b[0m\u001b[1;33m\u001b[0m\u001b[0m\n",
      "\u001b[1;32mC:\\Users\\Rugge\\Anaconda\\lib\\site-packages\\matplotlib\\artist.py\u001b[0m in \u001b[0;36m_update_property\u001b[1;34m(self, k, v)\u001b[0m\n\u001b[0;32m    951\u001b[0m                 \u001b[1;32mif\u001b[0m \u001b[1;32mnot\u001b[0m \u001b[0mcallable\u001b[0m\u001b[1;33m(\u001b[0m\u001b[0mfunc\u001b[0m\u001b[1;33m)\u001b[0m\u001b[1;33m:\u001b[0m\u001b[1;33m\u001b[0m\u001b[1;33m\u001b[0m\u001b[0m\n\u001b[0;32m    952\u001b[0m                     raise AttributeError('{!r} object has no property {!r}'\n\u001b[1;32m--> 953\u001b[1;33m                                          .format(type(self).__name__, k))\n\u001b[0m\u001b[0;32m    954\u001b[0m                 \u001b[1;32mreturn\u001b[0m \u001b[0mfunc\u001b[0m\u001b[1;33m(\u001b[0m\u001b[0mv\u001b[0m\u001b[1;33m)\u001b[0m\u001b[1;33m\u001b[0m\u001b[1;33m\u001b[0m\u001b[0m\n\u001b[0;32m    955\u001b[0m \u001b[1;33m\u001b[0m\u001b[0m\n",
      "\u001b[1;31mAttributeError\u001b[0m: 'Line2D' object has no property 'xlabel'"
     ]
    },
    {
     "data": {
      "image/png": "[encoded data removed]",
      "text/plain": [
       "<Figure size 432x288 with 1 Axes>"
      ]
     },
     "metadata": {
      "needs_background": "light"
     },
     "output_type": "display_data"
    }
   ],
   "source": [
    "grouped = data.groupby(['t']).count()['ID']\n",
    "cumulated = grouped.cumsum()\n",
    "x_ticks = range(int(cumulated.index.min()), int(cumulated.index.max()), 1000)\n",
    "_ = cumulated.plot(x=cumulated.index, y='ID',\n",
    "                   kind='line', xticks=x_ticks,\n",
    "                   xlabel='t [sec from midnight]', ylabel='num objects')"
   ]
  },
  {
   "cell_type": "markdown",
   "metadata": {},
   "source": [
    "Let's focus now on the life time of the objects in the simulation; given the size of the area, we expect a time spanning from a few minutes to probably less than an hour."
   ]
  },
  {
   "cell_type": "code",
   "execution_count": 14,
   "metadata": {},
   "outputs": [
    {
     "name": "stdout",
     "output_type": "stream",
     "text": [
      "Min. life time: 0 m 0 s\n",
      "Max. life time: 59 m 50 s\n"
     ]
    }
   ],
   "source": [
    "ID_per_t = data.groupby('ID').count()['t']\n",
    "Delta = np.diff(data['t'].unique())[0]\n",
    "\n",
    "print(F\"Min. life time: {int((ID_per_t.min()-1)*Delta/60)} m {int((ID_per_t.min()-1)*Delta % 60)} s\")\n",
    "print(F\"Max. life time: {int((ID_per_t.max()-1)*Delta/60)} m {int((ID_per_t.max()-1)*Delta % 60)} s\")"
   ]
  },
  {
   "cell_type": "markdown",
   "metadata": {},
   "source": [
    "Weirdly, it looks like some objects only appear in the simulation for one time step:"
   ]
  },
  {
   "cell_type": "code",
   "execution_count": 15,
   "metadata": {},
   "outputs": [
    {
     "data": {
      "text/plain": [
       "ID\n",
       "pedestrian_1-1-pt_3865       1\n",
       "pedestrian_1-1-pt_3865_tr    1\n",
       "pedestrian_1-1-pt_4564       1\n",
       "pedestrian_1-1-pt_4564_tr    1\n",
       "pedestrian_1-1-pt_7931       1\n",
       "pedestrian_1-1-pt_7931_tr    1\n",
       "pedestrian_1-1-pt_821        1\n",
       "pedestrian_1-1-pt_821_tr     1\n",
       "pedestrian_1-1-veh_522       1\n",
       "pedestrian_1-1-veh_522_tr    1\n",
       "pedestrian_1-2_3             1\n",
       "pedestrian_1-2_3_tr          1\n",
       "pedestrian_1-3_1755          1\n",
       "pedestrian_1-3_1755_tr       1\n",
       "pedestrian_1-GW1_2157        1\n",
       "pedestrian_1-GW1_2157_tr     1\n",
       "pedestrian_1-GW2_963         1\n",
       "pedestrian_1-GW2_963_tr      1\n",
       "pedestrian_GW1-1_2022        1\n",
       "pedestrian_GW1-1_2022_tr     1\n",
       "Name: t, dtype: int64"
      ]
     },
     "execution_count": 15,
     "metadata": {},
     "output_type": "execute_result"
    }
   ],
   "source": [
    "ID_per_t[ID_per_t==ID_per_t.min()]"
   ]
  },
  {
   "cell_type": "markdown",
   "metadata": {},
   "source": [
    "<font color=\"green\">We need to make an assumption, or give an explanation for this seemingly nonsense. Is it a \"bug\" in their simulation?</font>\n",
    "\n",
    "<font color=\"gray\">Un _bug_, o magari si allontanano da un nodo periferico? In qualche caso partenza e destinazione possono coincidere (tra l'altro son al 99 % pedoni, e se no veicoli speciali)? O son pedoni generati in un nodo che non ha corsie accessibili ai pedoni? In ogni caso credo che per rispondere servirebbe analizzarne il percorso col `--tripinfo-output` e/o altre opzioni (magari il log della simulazione?).</font>"
   ]
  },
  {
   "cell_type": "markdown",
   "metadata": {},
   "source": [
    "Let's count the total number of vehicles and pedestrians in the dataset; given the spanning time and the demand distributions, we should have not more than 10 % of the 20 thousands vehicles overall."
   ]
  },
  {
   "cell_type": "code",
   "execution_count": 159,
   "metadata": {},
   "outputs": [
    {
     "name": "stdout",
     "output_type": "stream",
     "text": [
      "11991 objects in the simulations, divided into 5843 pedestrians and 6148 vehicle of any type\n"
     ]
    }
   ],
   "source": [
    "p = len(data['ID'][data['v_type'].isna()].unique())\n",
    "v = len(data['ID'][data['v_type'].notna()].unique())\n",
    "\n",
    "print(F\"{p+v} objects in the simulations, divided into {p} pedestrians and {v} vehicles of any type\")\n",
    "\n",
    "# sanity check\n",
    "assert p+v == len(data['ID'].unique())"
   ]
  },
  {
   "cell_type": "markdown",
   "metadata": {},
   "source": [
    "<font color=\"gray\">This seems to me contradicting the assumption of a 20-thousand objects demand with normal distribution around 8:15 AM. It is worth noticing that `pedestrian` and `pedestrian_tr` is in some sense the same object, but still it makes too much (and in the 4-8 simulation it was even more than 20 k vehicles).</font>"
   ]
  },
  {
   "cell_type": "markdown",
   "metadata": {},
   "source": [
    "Let's take a look now at the object demand by time:"
   ]
  },
  {
   "cell_type": "code",
   "execution_count": 81,
   "metadata": {},
   "outputs": [
    {
     "data": {
      "image/png": "[encoded data removed]",
      "text/plain": [
       "<Figure size 600x400 with 1 Axes>"
      ]
     },
     "metadata": {
      "needs_background": "light"
     },
     "output_type": "display_data"
    }
   ],
   "source": [
    "new_obj_per_time = data.groupby('ID').min()['t'].value_counts().sort_index()\n",
    "\n",
    "fig = plt.figure(dpi=100)\n",
    "ax = fig.add_axes([0, 0, 1, 1])\n",
    "new_obj_per_time.plot.bar()\n",
    "\n",
    "tick_pos = np.linspace(0, len(new_obj_per_time)-1, 10, dtype=int)\n",
    "ax.set_xticks(tick_pos);\n",
    "ax.set_xticklabels([t_format(t) for t in new_obj_per_time.index[tick_pos]]);"
   ]
  },
  {
   "cell_type": "markdown",
   "metadata": {},
   "source": [
    "\n",
    "<font color=\"green\">\n",
    "\n",
    "Riguardo ai tuoi commenti alla vecchia versione qui sotto:\n",
    "\n",
    "</font>\n",
    "\n",
    "<font color=\"gray\">\n",
    "\n",
    "\"conosco\"  `apply`, ma evidentemente non abbastanza da capire come avrei potuto usarlo qua. Però ho pensato che con la soluzione qui sopra non è necessario; che ne pensi?\n",
    "\n",
    "</font>\n",
    "\n",
    "<font color=\"gray\">\n",
    "\n",
    "In ogni caso anche questo risultato mi sembra poco coerente con la distribuzione gaussiana... forse difficile da vedere nel tempo scelto? O sbaglio qualcosa io?\n",
    "\n",
    "</font>"
   ]
  },
  {
   "cell_type": "code",
   "execution_count": null,
   "metadata": {},
   "outputs": [],
   "source": [
    "timeSteps = data['t'].unique()\n",
    "newObjByTime = pd.Series(0, index=timeSteps)\n",
    "\n",
    "# I believe this is a good excuse to learn pd.apply and then remove this loop. It's very slow!!\n",
    "# I waited more than 2 minutes then I stopped it (that's why you see the error)\n",
    "# I added dropna otherwise you get an error at runtime.\n",
    "for obj in data['ID'].dropna().unique():\n",
    "    timeFirstAppeared = data[data['ID']==obj]['t'].values[0]\n",
    "    newObjByTime[timeFirstAppeared]+=1"
   ]
  }
 ],
 "metadata": {
  "kernelspec": {
   "display_name": "Python 3",
   "language": "python",
   "name": "python3"
  },
  "language_info": {
   "codemirror_mode": {
    "name": "ipython",
    "version": 3
   },
   "file_extension": ".py",
   "mimetype": "text/x-python",
   "name": "python",
   "nbconvert_exporter": "python",
   "pygments_lexer": "ipython3",
   "version": "3.7.3"
  }
 },
 "nbformat": 4,
 "nbformat_minor": 4
}
