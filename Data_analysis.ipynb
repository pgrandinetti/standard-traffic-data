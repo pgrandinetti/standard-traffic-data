{
 "cells": [
  {
   "cell_type": "markdown",
   "metadata": {},
   "source": [
    "# Analysis of Urban-Traffic Simulated Data – part I\n",
    "##### Ruggero Fabbiano – 24 November 2020"
   ]
  },
  {
   "cell_type": "markdown",
   "metadata": {},
   "source": [
    " "
   ]
  },
  {
   "cell_type": "markdown",
   "metadata": {},
   "source": [
    "## Summary\n",
    "\n",
    "With this notebook we start the exploration of a set of urban-traffic data obtained via the [SUMo simulator](https://www.eclipse.org/sumo/), an open-source microscopic traffic simulator that can take representations of real-world cities as input scenarios and can produce a variety of output data (vehicle state, road state, pollution information, etc.).\n",
    "\n",
    "Here below we provide, for ease of comprehension, a brief summary of the scenario used and the output data generated, as well as the objectives of this first exploratory analysis.\n",
    "\n",
    "#### Scenario\n",
    "The scenario used for this simulation is the [**MoST** (_Monaco SUMo traffic_) scenario](https://github.com/lcodeca/MoSTScenario), which models the agglomeration area of the Principality of Monaco, covering an area of about 70 km² (greater area) and spanning from 4 AM to 2 PM.\n",
    "\n",
    "Its first implementation showed a morning congestion towards the city modeled via a Gaussian vehicle demand of 20,000 objects, with average at 8:15 AM and standard deviation equal to 90'. <font color=\"blue\">We have simulations spanning several time intervals, however the one used throughout this notebook covers time from 4 AM to 6 AM.</font> Also, we made the choice to set a time step equal to 1 s, and saving the output each 5 s.\n",
    "\n",
    "#### Output\n",
    "Among the possibilities SUMo offers for data generation, we chose the FCD (_floating car data_) output, which is focused on the vehicle information. To help you better understand the analysis that follow, here below a resume of the data that the floating-car output generates:\n",
    "\n",
    "* `timestep_time` [s] – the current simulation time (0 corresponds to the beginning of the day)\n",
    "* `vehicle_id` / `person_id` – a unique object identifier\n",
    "* `vehicle_angle` / `person_angle` [°] – orientation of the object in navigational standard (0-360°)\n",
    "* `vehicle_lane` – the ID of the lane the vehicle is currently moving onto\n",
    "* `vehicle_pos` / `person_pos` [m] – running position of the object from the start of the current lane\n",
    "* `vehicle_slope` / `person_slope` [°] – slope of the object lane at object position\n",
    "* `vehicle_speed` / `person_speed` [m/s] – absolute speed of the object\n",
    "* `vehicle_type` – the type of the vehicle (private vehicle, Uber, delivery truck etc.)\n",
    "* `vehicle_x` / `person_x` [m] – absolute _x_ coordinate / longitude of the object\n",
    "* `vehicle_y` / `person_y` [m] – absolute _y_ coordinate / latitude of the object\n",
    "* `vehicle_z` / `person_z` [m] – elevation of the object\n",
    "* `person_edge` – edge the virtual footpath where the person is moving on is connected to\n",
    "\n",
    "### Goal\n",
    "The first part of the analysis focuses on checking if we can reduce the sparsity of the dataset, thus having to handle a lighter and more compact dataframe. Then, we start by investigating if the MoST properties described in the [2018 MoST article] (https://easychair.org/publications/download/x3nd) still hold true. <font color=\"blue\">A deeper analysis will be the object of a following notebook.</font>"
   ]
  },
  {
   "cell_type": "markdown",
   "metadata": {},
   "source": [
    " ***"
   ]
  },
  {
   "cell_type": "markdown",
   "metadata": {},
   "source": [
    "## Import Packages and Data"
   ]
  },
  {
   "cell_type": "markdown",
   "metadata": {},
   "source": [
    "Let's be sure we have all the necessary packages installed:"
   ]
  },
  {
   "cell_type": "code",
   "execution_count": 3,
   "metadata": {},
   "outputs": [],
   "source": [
    "!pip install pandas --upgrade\n",
    "!pip install datetime\n",
    "!pip install numpy\n",
    "!pip install matplotlib\n",
    "!pip install seaborn\n",
    "!pip install wget"
   ]
  },
  {
   "cell_type": "markdown",
   "metadata": {},
   "source": [
    "We can now import them:"
   ]
  },
  {
   "cell_type": "code",
   "execution_count": 3,
   "metadata": {},
   "outputs": [
    {
     "name": "stderr",
     "output_type": "stream",
     "text": [
      "C:\\Users\\Rugge\\Anaconda\\lib\\site-packages\\statsmodels\\tools\\_testing.py:19: FutureWarning: pandas.util.testing is deprecated. Use the functions in the public API at pandas.testing instead.\n",
      "  import pandas.util.testing as tm\n"
     ]
    }
   ],
   "source": [
    "import pandas as pd\n",
    "import datetime\n",
    "import numpy as np\n",
    "import matplotlib.pyplot as plt\n",
    "import seaborn as sns\n",
    "\n",
    "%matplotlib inline\n",
    "plt.style.use('bmh')"
   ]
  },
  {
   "cell_type": "markdown",
   "metadata": {},
   "source": [
    "Now to the data.\n",
    "\n",
    "Let's define the local path to the CSV file, as well as the remote one; we will then be able to load the local file if present, or download it otherwise."
   ]
  },
  {
   "cell_type": "code",
   "execution_count": 4,
   "metadata": {},
   "outputs": [],
   "source": [
    "out_file = 'most_0400_0600_1_5.csv'\n",
    "local_fp = './' + out_file\n",
    "remote_fp = 'https://standard-traffic-data.s3.us-east-2.amazonaws.com/' + out_file"
   ]
  },
  {
   "cell_type": "code",
   "execution_count": 5,
   "metadata": {},
   "outputs": [
    {
     "name": "stderr",
     "output_type": "stream",
     "text": [
      "File './most_0400_0600_1_5.csv' already there; not retrieving.\n"
     ]
    }
   ],
   "source": [
    "!wget -nc $remote_fp -O $local_fp"
   ]
  },
  {
   "cell_type": "code",
   "execution_count": 6,
   "metadata": {},
   "outputs": [
    {
     "name": "stdout",
     "output_type": "stream",
     "text": [
      "<class 'pandas.core.frame.DataFrame'>\n",
      "RangeIndex: 2067350 entries, 0 to 2067349\n",
      "Data columns (total 20 columns):\n",
      " #   Column         Dtype  \n",
      "---  ------         -----  \n",
      " 0   timestep_time  float64\n",
      " 1   vehicle_angle  float64\n",
      " 2   vehicle_id     object \n",
      " 3   vehicle_lane   object \n",
      " 4   vehicle_pos    float64\n",
      " 5   vehicle_slope  float64\n",
      " 6   vehicle_speed  float64\n",
      " 7   vehicle_type   object \n",
      " 8   vehicle_x      float64\n",
      " 9   vehicle_y      float64\n",
      " 10  vehicle_z      float64\n",
      " 11  person_angle   float64\n",
      " 12  person_edge    object \n",
      " 13  person_id      object \n",
      " 14  person_pos     float64\n",
      " 15  person_slope   float64\n",
      " 16  person_speed   float64\n",
      " 17  person_x       float64\n",
      " 18  person_y       float64\n",
      " 19  person_z       float64\n",
      "dtypes: float64(15), object(5)\n",
      "memory usage: 315.5+ MB\n"
     ]
    }
   ],
   "source": [
    "data = pd.read_csv(out_file, sep=';', low_memory=False)\n",
    "data.info()"
   ]
  },
  {
   "cell_type": "markdown",
   "metadata": {},
   "source": [
    "We now have our dataset ready.\n",
    "In the next section we're going to see if we can reduce its memory usage without information loss."
   ]
  },
  {
   "cell_type": "markdown",
   "metadata": {},
   "source": [
    "## Data cleaning"
   ]
  },
  {
   "cell_type": "markdown",
   "metadata": {},
   "source": [
    "### Drop empty rows"
   ]
  },
  {
   "cell_type": "markdown",
   "metadata": {},
   "source": [
    "Let's start by doing a sanity check over the timestep feature (that should always be not null):"
   ]
  },
  {
   "cell_type": "code",
   "execution_count": 7,
   "metadata": {},
   "outputs": [],
   "source": [
    "assert data.shape == data.dropna(how='all').shape"
   ]
  },
  {
   "cell_type": "markdown",
   "metadata": {},
   "source": [
    "We can now drop all the rows with no active object (i.e., with the timestep being the only not null value).\n",
    "Before doing so, let's extract some relevant time steps that can be useful in our further analysis:"
   ]
  },
  {
   "cell_type": "code",
   "execution_count": 8,
   "metadata": {},
   "outputs": [],
   "source": [
    "t_s = data['timestep_time'].iloc[0] # first timestep\n",
    "t_e = data['timestep_time'].iloc[-1] # last timestep\n",
    "\n",
    "i_first = data[['vehicle_id', 'person_id']].first_valid_index()\n",
    "t_o = data['timestep_time'].iloc[i_first] # first timestep with an object"
   ]
  },
  {
   "cell_type": "markdown",
   "metadata": {},
   "source": [
    "We're now ready to drop the empty rows:"
   ]
  },
  {
   "cell_type": "code",
   "execution_count": 9,
   "metadata": {},
   "outputs": [],
   "source": [
    "data.drop(data.index[:i_first], inplace=True)\n",
    "data.reset_index(drop=True, inplace=True)"
   ]
  },
  {
   "cell_type": "markdown",
   "metadata": {},
   "source": [
    "### Feature cleaning"
   ]
  },
  {
   "cell_type": "markdown",
   "metadata": {},
   "source": [
    "We can now focus on the features. If we look back at the feature names it looks like some of them are repeated twice, both for persons and vehicles. We can probably merge them to reduce the size of the dataset."
   ]
  },
  {
   "cell_type": "markdown",
   "metadata": {},
   "source": [
    "Before doing that, we need to be sure that the information is divided into the couple of features, so that we won't lose any data.\n",
    "\n",
    "The suspects seem to be `angle`, `id`, `pos`, `slope`, `speed`, `x`, `y`, and `z`. Let's check them:"
   ]
  },
  {
   "cell_type": "code",
   "execution_count": 10,
   "metadata": {},
   "outputs": [
    {
     "data": {
      "text/plain": [
       "['angle', 'id', 'pos', 'slope', 'speed', 'x', 'y', 'z']"
      ]
     },
     "execution_count": 10,
     "metadata": {},
     "output_type": "execute_result"
    }
   ],
   "source": [
    "features = ['angle', 'id', 'pos', 'slope', 'speed', 'x', 'y', 'z']\n",
    "mergeable_features = [f for f in features if\n",
    "                      np.where((data['vehicle_'+f].notna()) & (data['person_'+f].notna()), False, True).any()]\n",
    "\n",
    "mergeable_features"
   ]
  },
  {
   "cell_type": "markdown",
   "metadata": {},
   "source": [
    "The vector obtained above tells us which features have information split between the two columns of the couple; in such case we can safely merge them without losing any information. "
   ]
  },
  {
   "cell_type": "code",
   "execution_count": 11,
   "metadata": {},
   "outputs": [
    {
     "name": "stdout",
     "output_type": "stream",
     "text": [
      "<class 'pandas.core.frame.DataFrame'>\n",
      "RangeIndex: 2067349 entries, 0 to 2067348\n",
      "Data columns (total 12 columns):\n",
      " #   Column         Dtype  \n",
      "---  ------         -----  \n",
      " 0   timestep_time  float64\n",
      " 1   vehicle_angle  float64\n",
      " 2   vehicle_id     object \n",
      " 3   vehicle_lane   object \n",
      " 4   vehicle_pos    float64\n",
      " 5   vehicle_slope  float64\n",
      " 6   vehicle_speed  float64\n",
      " 7   vehicle_type   object \n",
      " 8   vehicle_x      float64\n",
      " 9   vehicle_y      float64\n",
      " 10  vehicle_z      float64\n",
      " 11  person_edge    object \n",
      "dtypes: float64(8), object(4)\n",
      "memory usage: 189.3+ MB\n"
     ]
    }
   ],
   "source": [
    "for f in mergeable_features:\n",
    "    data['vehicle_'+f].fillna(data['person_'+f], inplace=True)\n",
    "    data.drop('person_'+f, axis='columns', inplace=True)\n",
    "\n",
    "data.info()"
   ]
  },
  {
   "cell_type": "markdown",
   "metadata": {},
   "source": [
    "Also `vehicle_lane` and `person_edge` seem to carry the same information (where in the network the object currently is); let's repeat the process for this couple of features:"
   ]
  },
  {
   "cell_type": "code",
   "execution_count": 12,
   "metadata": {},
   "outputs": [
    {
     "name": "stdout",
     "output_type": "stream",
     "text": [
      "<class 'pandas.core.frame.DataFrame'>\n",
      "RangeIndex: 2067349 entries, 0 to 2067348\n",
      "Data columns (total 11 columns):\n",
      " #   Column         Dtype  \n",
      "---  ------         -----  \n",
      " 0   timestep_time  float64\n",
      " 1   vehicle_angle  float64\n",
      " 2   vehicle_id     object \n",
      " 3   vehicle_lane   object \n",
      " 4   vehicle_pos    float64\n",
      " 5   vehicle_slope  float64\n",
      " 6   vehicle_speed  float64\n",
      " 7   vehicle_type   object \n",
      " 8   vehicle_x      float64\n",
      " 9   vehicle_y      float64\n",
      " 10  vehicle_z      float64\n",
      "dtypes: float64(8), object(3)\n",
      "memory usage: 173.5+ MB\n"
     ]
    }
   ],
   "source": [
    "if np.where((data['vehicle_lane'].notna()) & (data['person_edge'].notna()), False, True).any():\n",
    "    data['vehicle_lane'].fillna(data['person_edge'], inplace=True)\n",
    "    data.drop('person_edge', axis='columns', inplace=True)\n",
    "\n",
    "data.info()"
   ]
  },
  {
   "cell_type": "markdown",
   "metadata": {},
   "source": [
    "We can now rename the features to make them more understandeable (the `vehicle` prefix does not make any sense anymore), and take a look at our more compact dataframe:"
   ]
  },
  {
   "cell_type": "code",
   "execution_count": 13,
   "metadata": {},
   "outputs": [
    {
     "data": {
      "text/html": [
       "<div>\n",
       "<style scoped>\n",
       "    .dataframe tbody tr th:only-of-type {\n",
       "        vertical-align: middle;\n",
       "    }\n",
       "\n",
       "    .dataframe tbody tr th {\n",
       "        vertical-align: top;\n",
       "    }\n",
       "\n",
       "    .dataframe thead th {\n",
       "        text-align: right;\n",
       "    }\n",
       "</style>\n",
       "<table border=\"1\" class=\"dataframe\">\n",
       "  <thead>\n",
       "    <tr style=\"text-align: right;\">\n",
       "      <th></th>\n",
       "      <th>t</th>\n",
       "      <th>angle</th>\n",
       "      <th>ID</th>\n",
       "      <th>lane_edge</th>\n",
       "      <th>position</th>\n",
       "      <th>slope</th>\n",
       "      <th>speed</th>\n",
       "      <th>v_type</th>\n",
       "      <th>x</th>\n",
       "      <th>y</th>\n",
       "      <th>z</th>\n",
       "    </tr>\n",
       "  </thead>\n",
       "  <tbody>\n",
       "    <tr>\n",
       "      <th>0</th>\n",
       "      <td>14405.0</td>\n",
       "      <td>80.89</td>\n",
       "      <td>bus_M1:France.0</td>\n",
       "      <td>152927_1</td>\n",
       "      <td>12.10</td>\n",
       "      <td>3.01</td>\n",
       "      <td>0.00</td>\n",
       "      <td>bus</td>\n",
       "      <td>1085.69</td>\n",
       "      <td>197.96</td>\n",
       "      <td>54.34</td>\n",
       "    </tr>\n",
       "    <tr>\n",
       "      <th>1</th>\n",
       "      <td>14410.0</td>\n",
       "      <td>71.94</td>\n",
       "      <td>bus_M1:France.0</td>\n",
       "      <td>152927_1</td>\n",
       "      <td>23.63</td>\n",
       "      <td>1.31</td>\n",
       "      <td>3.97</td>\n",
       "      <td>bus</td>\n",
       "      <td>1096.59</td>\n",
       "      <td>201.56</td>\n",
       "      <td>54.75</td>\n",
       "    </tr>\n",
       "    <tr>\n",
       "      <th>2</th>\n",
       "      <td>14415.0</td>\n",
       "      <td>57.57</td>\n",
       "      <td>bus_M1:France.0</td>\n",
       "      <td>152927_1</td>\n",
       "      <td>57.99</td>\n",
       "      <td>0.66</td>\n",
       "      <td>8.49</td>\n",
       "      <td>bus</td>\n",
       "      <td>1126.83</td>\n",
       "      <td>217.57</td>\n",
       "      <td>55.32</td>\n",
       "    </tr>\n",
       "    <tr>\n",
       "      <th>3</th>\n",
       "      <td>14420.0</td>\n",
       "      <td>32.10</td>\n",
       "      <td>bus_M1:France.0</td>\n",
       "      <td>152927_1</td>\n",
       "      <td>113.32</td>\n",
       "      <td>0.63</td>\n",
       "      <td>12.78</td>\n",
       "      <td>bus</td>\n",
       "      <td>1167.22</td>\n",
       "      <td>253.89</td>\n",
       "      <td>55.41</td>\n",
       "    </tr>\n",
       "    <tr>\n",
       "      <th>4</th>\n",
       "      <td>14425.0</td>\n",
       "      <td>53.85</td>\n",
       "      <td>bus_M1:Eze.0</td>\n",
       "      <td>-153460_1</td>\n",
       "      <td>18.12</td>\n",
       "      <td>1.73</td>\n",
       "      <td>3.09</td>\n",
       "      <td>bus</td>\n",
       "      <td>44.23</td>\n",
       "      <td>1368.97</td>\n",
       "      <td>358.63</td>\n",
       "    </tr>\n",
       "  </tbody>\n",
       "</table>\n",
       "</div>"
      ],
      "text/plain": [
       "         t  angle               ID  lane_edge  position  slope  speed v_type  \\\n",
       "0  14405.0  80.89  bus_M1:France.0   152927_1     12.10   3.01   0.00    bus   \n",
       "1  14410.0  71.94  bus_M1:France.0   152927_1     23.63   1.31   3.97    bus   \n",
       "2  14415.0  57.57  bus_M1:France.0   152927_1     57.99   0.66   8.49    bus   \n",
       "3  14420.0  32.10  bus_M1:France.0   152927_1    113.32   0.63  12.78    bus   \n",
       "4  14425.0  53.85     bus_M1:Eze.0  -153460_1     18.12   1.73   3.09    bus   \n",
       "\n",
       "         x        y       z  \n",
       "0  1085.69   197.96   54.34  \n",
       "1  1096.59   201.56   54.75  \n",
       "2  1126.83   217.57   55.32  \n",
       "3  1167.22   253.89   55.41  \n",
       "4    44.23  1368.97  358.63  "
      ]
     },
     "execution_count": 13,
     "metadata": {},
     "output_type": "execute_result"
    }
   ],
   "source": [
    "data.rename(columns={'timestep_time': \"t\", 'vehicle_angle': \"angle\", 'vehicle_id': \"ID\", 'vehicle_pos': \"position\",\n",
    "                     'vehicle_slope': \"slope\", 'vehicle_speed': \"speed\", 'vehicle_x': \"x\", 'vehicle_y': \"y\",\n",
    "                     'vehicle_z': \"z\", 'vehicle_lane': \"lane_edge\", 'vehicle_type': \"v_type\", }, inplace=True)\n",
    "data.head()"
   ]
  },
  {
   "cell_type": "markdown",
   "metadata": {},
   "source": [
    "## Exploratory Data Analysis"
   ]
  },
  {
   "cell_type": "markdown",
   "metadata": {},
   "source": [
    "Let's verify the starting and ending time of the simulation, and when the first vehicle (or person) appears:"
   ]
  },
  {
   "cell_type": "code",
   "execution_count": 14,
   "metadata": {},
   "outputs": [],
   "source": [
    "def t_format(timestep):\n",
    "    return str(datetime.timedelta(seconds=timestep))"
   ]
  },
  {
   "cell_type": "code",
   "execution_count": 15,
   "metadata": {},
   "outputs": [
    {
     "name": "stdout",
     "output_type": "stream",
     "text": [
      "Data time interval: 4:00:00 – 5:59:55\n",
      "First object appears at 4:00:05\n"
     ]
    }
   ],
   "source": [
    "print(\"Data time interval:\", t_format(t_s), \"–\", t_format(t_e))\n",
    "print(\"First object appears at\", t_format(t_o))"
   ]
  },
  {
   "cell_type": "markdown",
   "metadata": {},
   "source": [
    "Let's see now how many objects are active for each time step, and cumulative over time; if the traffic distribution is normal with _μ_ at 8:15 AM and _σ_ equal to 90', we would expect them to be substantially increasing since around 5 AM."
   ]
  },
  {
   "cell_type": "code",
   "execution_count": 16,
   "metadata": {},
   "outputs": [
    {
     "data": {
      "image/png": "[encoded data removed]",
      "text/plain": [
       "<Figure size 432x288 with 1 Axes>"
      ]
     },
     "metadata": {
      "needs_background": "light"
     },
     "output_type": "display_data"
    }
   ],
   "source": [
    "ax = plt.figure().add_axes([0, 0, 1, 1])\n",
    "\n",
    "ax.plot(data.groupby(['t']).count()['ID'])\n",
    "\n",
    "# ax.set_title('Active objects')\n",
    "ax.set_xlabel('time')\n",
    "ax.set_ylabel('number of active objects')\n",
    "\n",
    "labels = []\n",
    "for tick in ax.get_xticks():\n",
    "    labels.append(t_format(tick)[:-3])\n",
    "ax.set_xticklabels(labels);"
   ]
  },
  {
   "cell_type": "code",
   "execution_count": 18,
   "metadata": {},
   "outputs": [
    {
     "data": {
      "image/png": "[encoded data removed]",
      "text/plain": [
       "<Figure size 432x288 with 1 Axes>"
      ]
     },
     "metadata": {
      "needs_background": "light"
     },
     "output_type": "display_data"
    }
   ],
   "source": [
    "grouped = data.groupby(['t']).count()['ID']\n",
    "cumulated = grouped.cumsum()\n",
    "x_ticks = range(int(cumulated.index.min()), int(cumulated.index.max()), 1000)\n",
    "cumulated.plot(x=cumulated.index, y='ID', kind='line', xticks=x_ticks, xlabel='t [sec. from midnight]',\n",
    "               ylabel='number of objects');"
   ]
  },
  {
   "cell_type": "markdown",
   "metadata": {},
   "source": [
    "Let's focus now on the life time of the objects in the simulation; given the size of the area, we expect a time spanning from a few minutes to probably less than an hour."
   ]
  },
  {
   "cell_type": "code",
   "execution_count": 19,
   "metadata": {},
   "outputs": [
    {
     "name": "stdout",
     "output_type": "stream",
     "text": [
      "Min. life time: 0 m 0 s\n",
      "Max. life time: 59 m 50 s\n"
     ]
    }
   ],
   "source": [
    "ID_per_t = data.groupby('ID').count()['t']\n",
    "Delta = np.diff(data['t'].unique())[0]\n",
    "\n",
    "print(F\"Min. life time: {int((ID_per_t.min()-1)*Delta/60)} m {int((ID_per_t.min()-1)*Delta % 60)} s\")\n",
    "print(F\"Max. life time: {int((ID_per_t.max()-1)*Delta/60)} m {int((ID_per_t.max()-1)*Delta % 60)} s\")"
   ]
  },
  {
   "cell_type": "markdown",
   "metadata": {},
   "source": [
    "Weird, it looks like some objects only appear in the simulation for one time step:"
   ]
  },
  {
   "cell_type": "code",
   "execution_count": 25,
   "metadata": {},
   "outputs": [
    {
     "data": {
      "text/plain": [
       "ID\n",
       "pedestrian_1-1-pt_3865       1\n",
       "pedestrian_1-1-pt_3865_tr    1\n",
       "pedestrian_1-1-pt_4564       1\n",
       "pedestrian_1-1-pt_4564_tr    1\n",
       "pedestrian_1-1-pt_7931       1\n",
       "pedestrian_1-1-pt_7931_tr    1\n",
       "pedestrian_1-1-pt_821        1\n",
       "pedestrian_1-1-pt_821_tr     1\n",
       "pedestrian_1-1-veh_522       1\n",
       "pedestrian_1-1-veh_522_tr    1\n",
       "pedestrian_1-2_3             1\n",
       "pedestrian_1-2_3_tr          1\n",
       "pedestrian_1-3_1755          1\n",
       "pedestrian_1-3_1755_tr       1\n",
       "pedestrian_1-GW1_2157        1\n",
       "pedestrian_1-GW1_2157_tr     1\n",
       "pedestrian_1-GW2_963         1\n",
       "pedestrian_1-GW2_963_tr      1\n",
       "pedestrian_GW1-1_2022        1\n",
       "pedestrian_GW1-1_2022_tr     1\n",
       "Name: t, dtype: int64"
      ]
     },
     "execution_count": 25,
     "metadata": {},
     "output_type": "execute_result"
    }
   ],
   "source": [
    "ID_per_t[ID_per_t==ID_per_t.min()]"
   ]
  },
  {
   "cell_type": "markdown",
   "metadata": {},
   "source": [
    "Probably a bug of the model, or some borderline behaviour. Go get an idea of the issue, let's verify the total number of objects in the simulation (given the spanning time and the demand distributions, we should have not more than 10 % of the supposed 20 thousands vehicles overall):"
   ]
  },
  {
   "cell_type": "code",
   "execution_count": 159,
   "metadata": {},
   "outputs": [
    {
     "name": "stdout",
     "output_type": "stream",
     "text": [
      "11991 objects in the simulations, divided into 5843 pedestrians and 6148 vehicle of any type\n"
     ]
    }
   ],
   "source": [
    "p = len(data['ID'][data['v_type'].isna()].unique())\n",
    "v = len(data['ID'][data['v_type'].notna()].unique())\n",
    "\n",
    "print(F\"{p+v} objects in the simulations, divided into {p} pedestrians and {v} vehicles of any type\")\n",
    "\n",
    "# sanity check\n",
    "assert p+v == len(data['ID'].unique())"
   ]
  },
  {
   "cell_type": "markdown",
   "metadata": {},
   "source": [
    "They are even more than expected (20 thousands overall in the first MoST version). Let's check the percentage of objects with a life time shorter than 1 minute:"
   ]
  },
  {
   "cell_type": "code",
   "execution_count": 48,
   "metadata": {},
   "outputs": [
    {
     "name": "stdout",
     "output_type": "stream",
     "text": [
      "2.16 % of data objects live less than 1 minute\n"
     ]
    }
   ],
   "source": [
    "ghost_objects = ID_per_t[ID_per_t<60/Delta]\n",
    "ghost_percent = ghost_objects.count()/len(data['ID'].unique())*100\n",
    "\n",
    "print(F\"{ghost_percent:.2F} % of data objects live less than 1 minute\")"
   ]
  },
  {
   "cell_type": "markdown",
   "metadata": {},
   "source": [
    "A bit more than 2 %; we can drop them:"
   ]
  },
  {
   "cell_type": "code",
   "execution_count": 66,
   "metadata": {},
   "outputs": [],
   "source": [
    "data = data[~data['ID'].isin(ghost_objects.index)]"
   ]
  },
  {
   "cell_type": "markdown",
   "metadata": {},
   "source": [
    "Let's take a look now at the object demand by time:"
   ]
  },
  {
   "cell_type": "code",
   "execution_count": 238,
   "metadata": {},
   "outputs": [
    {
     "data": {
      "image/png": "[encoded data removed]",
      "text/plain": [
       "<Figure size 432x288 with 1 Axes>"
      ]
     },
     "metadata": {
      "needs_background": "light"
     },
     "output_type": "display_data"
    }
   ],
   "source": [
    "new_obj_per_time = data.groupby('ID')['t'].min().value_counts().sort_index()\n",
    "\n",
    "tick_pos = np.linspace(0, len(new_obj_per_time)-1, 10, dtype=int)\n",
    "\n",
    "ax = new_obj_per_time.plot.bar(xticks=tick_pos)\n",
    "\n",
    "# ax.set_xticklabels([t_format(t) for t in new_obj_per_time.index[tick_pos]]); temporary, to compare with line plot\n",
    "ax.set_xticklabels(new_obj_per_time.index[tick_pos]);"
   ]
  },
  {
   "cell_type": "code",
   "execution_count": 235,
   "metadata": {},
   "outputs": [
    {
     "data": {
      "image/png": "[encoded data removed]",
      "text/plain": [
       "<Figure size 432x288 with 1 Axes>"
      ]
     },
     "metadata": {
      "needs_background": "light"
     },
     "output_type": "display_data"
    }
   ],
   "source": [
    "ax=new_obj_per_time.plot() # it is different!!"
   ]
  },
  {
   "cell_type": "code",
   "execution_count": 258,
   "metadata": {},
   "outputs": [
    {
     "data": {
      "text/plain": [
       "<matplotlib.axes._subplots.AxesSubplot at 0x1c7efcded30>"
      ]
     },
     "execution_count": 258,
     "metadata": {},
     "output_type": "execute_result"
    },
    {
     "data": {
      "image/png": "[encoded data removed]",
      "text/plain": [
       "<Figure size 432x288 with 1 Axes>"
      ]
     },
     "metadata": {
      "needs_background": "light"
     },
     "output_type": "display_data"
    }
   ],
   "source": [
    "# kernel density estimation\n",
    "time_values = []\n",
    "for t,n in new_obj_per_time.items():\n",
    "    time_values.extend([t]*n)\n",
    "pd.Series(time_values).plot.kde()"
   ]
  },
  {
   "cell_type": "code",
   "execution_count": null,
   "metadata": {},
   "outputs": [],
   "source": []
  }
 ],
 "metadata": {
  "kernelspec": {
   "display_name": "Python 3",
   "language": "python",
   "name": "python3"
  },
  "language_info": {
   "codemirror_mode": {
    "name": "ipython",
    "version": 3
   },
   "file_extension": ".py",
   "mimetype": "text/x-python",
   "name": "python",
   "nbconvert_exporter": "python",
   "pygments_lexer": "ipython3",
   "version": "3.7.3"
  }
 },
 "nbformat": 4,
 "nbformat_minor": 4
}
