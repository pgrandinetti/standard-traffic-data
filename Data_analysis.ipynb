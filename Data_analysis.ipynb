{
 "cells": [
  {
   "cell_type": "markdown",
   "metadata": {},
   "source": [
    "# Title\n",
    "\n",
    "### Date\n",
    "### Author"
   ]
  },
  {
   "cell_type": "markdown",
   "metadata": {},
   "source": [
    "## Summary\n",
    "\n",
    "Blah Blah"
   ]
  },
  {
   "cell_type": "markdown",
   "metadata": {},
   "source": [
    "---"
   ]
  },
  {
   "cell_type": "markdown",
   "metadata": {},
   "source": [
    "### Import packages and data"
   ]
  },
  {
   "cell_type": "code",
   "execution_count": null,
   "metadata": {},
   "outputs": [],
   "source": [
    "!pip install matplotlib\n",
    "!pip install seaborn\n",
    "!pip install pandas"
   ]
  },
  {
   "cell_type": "code",
   "execution_count": 3,
   "metadata": {},
   "outputs": [],
   "source": [
    "import pandas as pd\n",
    "import matplotlib.pyplot as plt\n",
    "import numpy as np\n",
    "import seaborn as sns\n",
    "\n",
    "%matplotlib inline\n",
    "plt.style.use('bmh')"
   ]
  },
  {
   "cell_type": "code",
   "execution_count": 8,
   "metadata": {},
   "outputs": [],
   "source": [
    "# variables useful throughout the analysis\n",
    "local_fp = './data.csv'\n",
    "remote_fp = 'https://standard-traffic-data.s3.us-east-2.amazonaws.com/most_0400_0600_1_5.csv'"
   ]
  },
  {
   "cell_type": "code",
   "execution_count": 10,
   "metadata": {},
   "outputs": [
    {
     "name": "stdout",
     "output_type": "stream",
     "text": [
      "File `./data.csv' already there; not retrieving.\n"
     ]
    }
   ],
   "source": [
    "# get the dataset from remote, only if the local file does not exist\n",
    "# this will require your OS to have wget\n",
    "# otherwise check out this package: https://pypi.org/project/wget/\n",
    "!wget -nc $remote_fp -O $local_fp"
   ]
  },
  {
   "cell_type": "code",
   "execution_count": 61,
   "metadata": {},
   "outputs": [
    {
     "name": "stdout",
     "output_type": "stream",
     "text": [
      "<class 'pandas.core.frame.DataFrame'>\n",
      "RangeIndex: 2067350 entries, 0 to 2067349\n",
      "Data columns (total 20 columns):\n",
      " #   Column         Dtype  \n",
      "---  ------         -----  \n",
      " 0   timestep_time  float64\n",
      " 1   vehicle_angle  float64\n",
      " 2   vehicle_id     object \n",
      " 3   vehicle_lane   object \n",
      " 4   vehicle_pos    float64\n",
      " 5   vehicle_slope  float64\n",
      " 6   vehicle_speed  float64\n",
      " 7   vehicle_type   object \n",
      " 8   vehicle_x      float64\n",
      " 9   vehicle_y      float64\n",
      " 10  vehicle_z      float64\n",
      " 11  person_angle   float64\n",
      " 12  person_edge    object \n",
      " 13  person_id      object \n",
      " 14  person_pos     float64\n",
      " 15  person_slope   float64\n",
      " 16  person_speed   float64\n",
      " 17  person_x       float64\n",
      " 18  person_y       float64\n",
      " 19  person_z       float64\n",
      "dtypes: float64(15), object(5)\n",
      "memory usage: 315.5+ MB\n"
     ]
    }
   ],
   "source": [
    "data = pd.read_csv(local_fp, sep=';')\n",
    "data.info()"
   ]
  },
  {
   "cell_type": "markdown",
   "metadata": {},
   "source": [
    "It's generally useful to wipe rows of the dataset that contain just null values (whichever representation of null is there).\n",
    "\n",
    "In this case though, no row will ever be entirely null, because the `timestep_time` feature is always given.\n",
    "\n",
    "I could potentially filter out all rows that have all features null, excluding `timestep_time`. However, I think it's worth keeping them: they can show to us at what timestep we start seeing traffic."
   ]
  },
  {
   "cell_type": "code",
   "execution_count": 62,
   "metadata": {},
   "outputs": [],
   "source": [
    "# sanity check above the timestep feature\n",
    "# see also comment above\n",
    "data2 = data.dropna(how='all')\n",
    "assert data2.shape == data.shape"
   ]
  },
  {
   "cell_type": "markdown",
   "metadata": {},
   "source": [
    "### Feature cleaning"
   ]
  },
  {
   "cell_type": "markdown",
   "metadata": {},
   "source": [
    "##### Check if person/vehicle columns are complementary"
   ]
  },
  {
   "cell_type": "markdown",
   "metadata": {},
   "source": [
    "This idea deserves a verbal explanation, and it's not entirely clear to me.\n",
    "\n",
    "Here's my (tentative) understanding:\n",
    "- You consider features in pairs of columns, by looking for similar feature names.\n",
    "\n",
    "Let's consider the first predicata only: `bothNAN`:\n",
    "  - For each pair of columns, you keep elements of the first column only in the positions where the second column is null\n",
    "  - At this point you have a Sequence (list-like). You call isna() on this sequence, which will yield a list of boolean values.\n",
    "  - Each of these values will be True if the corresponding first column's element is null and the second column's element is also null.\n",
    "  - Then you check if **any** of the values in such list of booleans is True.\n",
    "  - Eventually, you will know if there was at least one position in those two columns where both were null. **At least one**.\n",
    "  \n",
    "Later on, if the result value for a pair of column was False, meaning that there wasn't any row in the dataset where those two columns are both null, you fill the null of the first column with the values from the second (which won't be null).\n",
    "\n",
    "I can't see the idea behind this. Why would the missing values in `vehicle_angle` be in `person_angle`?\n",
    "\n",
    "Site notes:\n",
    "\n",
    "1. Calling isna -> values -> any should be redundant. I think you can just use any() on the data frame.\n",
    "Example:\n",
    "\n",
    "```\n",
    "d1 = pd.DataFrame.from_dict({'a': [1, 2, np.nan, 3, 4], 'b': [9, np.nan, 13, 6, 11]})\n",
    "print(d1.head())\n",
    "both_nan = d1['a'][d1['b'].isna()].isna().any()\n",
    "print('column \"a\": ', both_nan)\n",
    "```\n",
    "3. Assuming my understading is correct, here's a much simpler way to do it. And much more readable\n",
    "```\n",
    "np.where((d1['a'].isna()) & (d1['b'].isna()), True, False).any()\n",
    "```\n",
    "2. Save the features that you will want to drop/fill in a variable, depending on the true/false result. And then execute your next block of code based on this additional variable. Right now you execute it just looking at the visual output of the previous cell, but this requires editing it manually.\n",
    "3. The property you're trying to prove here it's not valid in the dataset I downloaded from AWS (4am to 6am). See different output below.\n",
    "\n",
    "Whatever is that you're trying to prove here, prove it statistically!\n"
   ]
  },
  {
   "cell_type": "code",
   "execution_count": 63,
   "metadata": {},
   "outputs": [
    {
     "name": "stdout",
     "output_type": "stream",
     "text": [
      "angle: True False\n",
      "id: True False\n",
      "pos: True False\n",
      "slope: True False\n",
      "speed: True False\n",
      "x: True False\n",
      "y: True False\n",
      "z: True False\n"
     ]
    }
   ],
   "source": [
    "features = ['angle', 'id', 'pos', 'slope', 'speed', 'x', 'y', 'z']\n",
    "for suffix in features:\n",
    "    bothNAN = data['person_'+suffix][data['vehicle_'+suffix].isna()].isna().values.any()\n",
    "    bothValues = data['person_'+suffix][data['vehicle_'+suffix].notna()].notna().values.any()\n",
    "    print(suffix+\":\", bothNAN, bothValues)"
   ]
  },
  {
   "cell_type": "markdown",
   "metadata": {},
   "source": [
    "##### Merge complementary columns and drop redundant ones"
   ]
  },
  {
   "cell_type": "code",
   "execution_count": null,
   "metadata": {},
   "outputs": [],
   "source": [
    "for feature in features:\n",
    "    data['vehicle_'+feature].fillna(data['person_'+feature], inplace=True)\n",
    "    data.drop('person_'+feature, axis='columns', inplace=True)\n",
    "\n",
    "data.info()"
   ]
  },
  {
   "cell_type": "markdown",
   "metadata": {},
   "source": [
    "##### Check if same applies for \"vehicle_lane\" / \"person_edge\""
   ]
  },
  {
   "cell_type": "code",
   "execution_count": null,
   "metadata": {},
   "outputs": [],
   "source": [
    "bothNAN = data['person_edge'][data['vehicle_lane'].isna()].isna().values.any()\n",
    "bothValues = data['person_edge'][data['vehicle_lane'].notna()].notna().values.any()\n",
    "\n",
    "bothNAN, bothValues"
   ]
  },
  {
   "cell_type": "markdown",
   "metadata": {},
   "source": [
    "##### Merge and drop"
   ]
  },
  {
   "cell_type": "code",
   "execution_count": null,
   "metadata": {},
   "outputs": [],
   "source": [
    "data['vehicle_lane'].fillna(data['person_edge'], inplace=True)\n",
    "data.drop('person_edge', axis='columns', inplace=True)\n",
    "\n",
    "data.info()"
   ]
  },
  {
   "cell_type": "markdown",
   "metadata": {},
   "source": [
    "##### Rename features"
   ]
  },
  {
   "cell_type": "code",
   "execution_count": 77,
   "metadata": {},
   "outputs": [
    {
     "data": {
      "text/html": [
       "<div>\n",
       "<style scoped>\n",
       "    .dataframe tbody tr th:only-of-type {\n",
       "        vertical-align: middle;\n",
       "    }\n",
       "\n",
       "    .dataframe tbody tr th {\n",
       "        vertical-align: top;\n",
       "    }\n",
       "\n",
       "    .dataframe thead th {\n",
       "        text-align: right;\n",
       "    }\n",
       "</style>\n",
       "<table border=\"1\" class=\"dataframe\">\n",
       "  <thead>\n",
       "    <tr style=\"text-align: right;\">\n",
       "      <th></th>\n",
       "      <th>t</th>\n",
       "      <th>angle</th>\n",
       "      <th>ID</th>\n",
       "      <th>lane_edge</th>\n",
       "      <th>position</th>\n",
       "      <th>slope</th>\n",
       "      <th>speed</th>\n",
       "      <th>v_type</th>\n",
       "      <th>x</th>\n",
       "      <th>y</th>\n",
       "      <th>z</th>\n",
       "      <th>person_angle</th>\n",
       "      <th>person_edge</th>\n",
       "      <th>person_id</th>\n",
       "      <th>person_pos</th>\n",
       "      <th>person_slope</th>\n",
       "      <th>person_speed</th>\n",
       "      <th>person_x</th>\n",
       "      <th>person_y</th>\n",
       "      <th>person_z</th>\n",
       "    </tr>\n",
       "  </thead>\n",
       "  <tbody>\n",
       "    <tr>\n",
       "      <th>0</th>\n",
       "      <td>14400.0</td>\n",
       "      <td>NaN</td>\n",
       "      <td>NaN</td>\n",
       "      <td>NaN</td>\n",
       "      <td>NaN</td>\n",
       "      <td>NaN</td>\n",
       "      <td>NaN</td>\n",
       "      <td>NaN</td>\n",
       "      <td>NaN</td>\n",
       "      <td>NaN</td>\n",
       "      <td>NaN</td>\n",
       "      <td>NaN</td>\n",
       "      <td>NaN</td>\n",
       "      <td>NaN</td>\n",
       "      <td>NaN</td>\n",
       "      <td>NaN</td>\n",
       "      <td>NaN</td>\n",
       "      <td>NaN</td>\n",
       "      <td>NaN</td>\n",
       "      <td>NaN</td>\n",
       "    </tr>\n",
       "    <tr>\n",
       "      <th>1</th>\n",
       "      <td>14405.0</td>\n",
       "      <td>80.89</td>\n",
       "      <td>bus_M1:France.0</td>\n",
       "      <td>152927_1</td>\n",
       "      <td>12.10</td>\n",
       "      <td>3.01</td>\n",
       "      <td>0.00</td>\n",
       "      <td>bus</td>\n",
       "      <td>1085.69</td>\n",
       "      <td>197.96</td>\n",
       "      <td>54.34</td>\n",
       "      <td>NaN</td>\n",
       "      <td>NaN</td>\n",
       "      <td>NaN</td>\n",
       "      <td>NaN</td>\n",
       "      <td>NaN</td>\n",
       "      <td>NaN</td>\n",
       "      <td>NaN</td>\n",
       "      <td>NaN</td>\n",
       "      <td>NaN</td>\n",
       "    </tr>\n",
       "    <tr>\n",
       "      <th>2</th>\n",
       "      <td>14410.0</td>\n",
       "      <td>71.94</td>\n",
       "      <td>bus_M1:France.0</td>\n",
       "      <td>152927_1</td>\n",
       "      <td>23.63</td>\n",
       "      <td>1.31</td>\n",
       "      <td>3.97</td>\n",
       "      <td>bus</td>\n",
       "      <td>1096.59</td>\n",
       "      <td>201.56</td>\n",
       "      <td>54.75</td>\n",
       "      <td>NaN</td>\n",
       "      <td>NaN</td>\n",
       "      <td>NaN</td>\n",
       "      <td>NaN</td>\n",
       "      <td>NaN</td>\n",
       "      <td>NaN</td>\n",
       "      <td>NaN</td>\n",
       "      <td>NaN</td>\n",
       "      <td>NaN</td>\n",
       "    </tr>\n",
       "    <tr>\n",
       "      <th>3</th>\n",
       "      <td>14415.0</td>\n",
       "      <td>57.57</td>\n",
       "      <td>bus_M1:France.0</td>\n",
       "      <td>152927_1</td>\n",
       "      <td>57.99</td>\n",
       "      <td>0.66</td>\n",
       "      <td>8.49</td>\n",
       "      <td>bus</td>\n",
       "      <td>1126.83</td>\n",
       "      <td>217.57</td>\n",
       "      <td>55.32</td>\n",
       "      <td>NaN</td>\n",
       "      <td>NaN</td>\n",
       "      <td>NaN</td>\n",
       "      <td>NaN</td>\n",
       "      <td>NaN</td>\n",
       "      <td>NaN</td>\n",
       "      <td>NaN</td>\n",
       "      <td>NaN</td>\n",
       "      <td>NaN</td>\n",
       "    </tr>\n",
       "    <tr>\n",
       "      <th>4</th>\n",
       "      <td>14420.0</td>\n",
       "      <td>32.10</td>\n",
       "      <td>bus_M1:France.0</td>\n",
       "      <td>152927_1</td>\n",
       "      <td>113.32</td>\n",
       "      <td>0.63</td>\n",
       "      <td>12.78</td>\n",
       "      <td>bus</td>\n",
       "      <td>1167.22</td>\n",
       "      <td>253.89</td>\n",
       "      <td>55.41</td>\n",
       "      <td>NaN</td>\n",
       "      <td>NaN</td>\n",
       "      <td>NaN</td>\n",
       "      <td>NaN</td>\n",
       "      <td>NaN</td>\n",
       "      <td>NaN</td>\n",
       "      <td>NaN</td>\n",
       "      <td>NaN</td>\n",
       "      <td>NaN</td>\n",
       "    </tr>\n",
       "  </tbody>\n",
       "</table>\n",
       "</div>"
      ],
      "text/plain": [
       "         t  angle               ID lane_edge  position  slope  speed v_type  \\\n",
       "0  14400.0    NaN              NaN       NaN       NaN    NaN    NaN    NaN   \n",
       "1  14405.0  80.89  bus_M1:France.0  152927_1     12.10   3.01   0.00    bus   \n",
       "2  14410.0  71.94  bus_M1:France.0  152927_1     23.63   1.31   3.97    bus   \n",
       "3  14415.0  57.57  bus_M1:France.0  152927_1     57.99   0.66   8.49    bus   \n",
       "4  14420.0  32.10  bus_M1:France.0  152927_1    113.32   0.63  12.78    bus   \n",
       "\n",
       "         x       y      z  person_angle person_edge person_id  person_pos  \\\n",
       "0      NaN     NaN    NaN           NaN         NaN       NaN         NaN   \n",
       "1  1085.69  197.96  54.34           NaN         NaN       NaN         NaN   \n",
       "2  1096.59  201.56  54.75           NaN         NaN       NaN         NaN   \n",
       "3  1126.83  217.57  55.32           NaN         NaN       NaN         NaN   \n",
       "4  1167.22  253.89  55.41           NaN         NaN       NaN         NaN   \n",
       "\n",
       "   person_slope  person_speed  person_x  person_y  person_z  \n",
       "0           NaN           NaN       NaN       NaN       NaN  \n",
       "1           NaN           NaN       NaN       NaN       NaN  \n",
       "2           NaN           NaN       NaN       NaN       NaN  \n",
       "3           NaN           NaN       NaN       NaN       NaN  \n",
       "4           NaN           NaN       NaN       NaN       NaN  "
      ]
     },
     "execution_count": 77,
     "metadata": {},
     "output_type": "execute_result"
    }
   ],
   "source": [
    "data.rename(columns={'timestep_time': \"t\", 'vehicle_angle': \"angle\", 'vehicle_id': \"ID\", 'vehicle_pos': \"position\",\n",
    "                     'vehicle_slope': \"slope\", 'vehicle_speed': \"speed\", 'vehicle_x': \"x\", 'vehicle_y': \"y\",\n",
    "                     'vehicle_z': \"z\", 'vehicle_lane': \"lane_edge\", 'vehicle_type': \"v_type\", }, inplace=True)\n",
    "\n",
    "data.head()"
   ]
  },
  {
   "cell_type": "markdown",
   "metadata": {},
   "source": [
    "### Exploratory data analysis"
   ]
  },
  {
   "cell_type": "markdown",
   "metadata": {},
   "source": [
    "##### Starting and end times"
   ]
  },
  {
   "cell_type": "markdown",
   "metadata": {},
   "source": [
    "You are assuming the CSV is sorted :)\n",
    "To be safe, better to use `pd.min` and `pd.max`"
   ]
  },
  {
   "cell_type": "code",
   "execution_count": 78,
   "metadata": {},
   "outputs": [
    {
     "name": "stdout",
     "output_type": "stream",
     "text": [
      "Time interval: 4:00 - 5:59\n"
     ]
    }
   ],
   "source": [
    "t = data['t'].iloc[0]\n",
    "hI = int(t/3600)\n",
    "mI = int(t/60 % 60)\n",
    "\n",
    "t = data['t'].iloc[-1]\n",
    "hF = int(t/3600)\n",
    "mF = int(t/60 % 60)\n",
    "\n",
    "print(F\"Time interval: {hI}:{mI:02} - {hF}:{mF:02}\")"
   ]
  },
  {
   "cell_type": "markdown",
   "metadata": {},
   "source": [
    "##### Number of objects active at the same time"
   ]
  },
  {
   "cell_type": "code",
   "execution_count": 80,
   "metadata": {},
   "outputs": [
    {
     "name": "stderr",
     "output_type": "stream",
     "text": [
      "/home/pietro/.virtualenvs/stdTraffic/lib/python3.7/site-packages/ipykernel_launcher.py:13: UserWarning: FixedFormatter should only be used together with FixedLocator\n",
      "  del sys.path[0]\n"
     ]
    },
    {
     "data": {
      "image/png": "[encoded data removed]",
      "text/plain": [
       "<Figure size 1200x800 with 1 Axes>"
      ]
     },
     "metadata": {
      "needs_background": "light"
     },
     "output_type": "display_data"
    }
   ],
   "source": [
    "fig = plt.figure(dpi=200)\n",
    "ax = fig.add_axes([0, 0, 1, 1])\n",
    "\n",
    "ax.plot(data.groupby(['t']).count()['ID'])\n",
    "\n",
    "# ax.set_title('Active objects')\n",
    "ax.set_xlabel('time')\n",
    "ax.set_ylabel('number of active objects')\n",
    "\n",
    "labels = []\n",
    "for tick in ax.get_xticks():\n",
    "    labels.append(F\"{int(tick/3600)}:{int(tick/60 % 60):02}\")\n",
    "ax.set_xticklabels(labels);"
   ]
  },
  {
   "cell_type": "markdown",
   "metadata": {},
   "source": [
    "A cumulative (over time) view of the number of object in the simulation is always useful!\n",
    "\n",
    "Side Note: I think the code below is more standard for plotting data frames."
   ]
  },
  {
   "cell_type": "code",
   "execution_count": 90,
   "metadata": {},
   "outputs": [
    {
     "data": {
      "image/png": "[encoded data removed]",
      "text/plain": [
       "<Figure size 432x288 with 1 Axes>"
      ]
     },
     "metadata": {
      "needs_background": "light"
     },
     "output_type": "display_data"
    }
   ],
   "source": [
    "grouped = data.groupby(['t']).count()['ID']\n",
    "cumulated = grouped.cumsum()\n",
    "x_ticks = range(int(cumulated.index.min()), int(cumulated.index.max()), 1000)\n",
    "_ = cumulated.plot(x=cumulated.index, y='ID',\n",
    "                   kind='line', xticks=x_ticks,\n",
    "                   xlabel='t [sec from midnight]', ylabel='num objects')"
   ]
  },
  {
   "cell_type": "markdown",
   "metadata": {},
   "source": [
    "##### Min. and max. life time for object"
   ]
  },
  {
   "cell_type": "code",
   "execution_count": 91,
   "metadata": {},
   "outputs": [
    {
     "name": "stdout",
     "output_type": "stream",
     "text": [
      "Min. life time: 0 m 0 s\n",
      "Max. life time: 59 m 50 s\n"
     ]
    }
   ],
   "source": [
    "a = data.groupby('ID').count()['t']  # definitely need to define this once for all :)\n",
    "Delta = np.diff(data['t'].unique())[0]\n",
    "print(F\"Min. life time: {int((a.min()-1)*Delta/60)} m {int((a.min()-1)*Delta % 60)} s\")\n",
    "print(F\"Max. life time: {int((a.max()-1)*Delta/60)} m {int((a.max()-1)*Delta % 60)} s\")"
   ]
  },
  {
   "cell_type": "markdown",
   "metadata": {},
   "source": [
    "##### It looks like some objects only appear in the simulation once:"
   ]
  },
  {
   "cell_type": "markdown",
   "metadata": {},
   "source": [
    "We need to make an assumption, or give an explanation for this seemingly nonsense. Is it a \"bug\" in their simulation?"
   ]
  },
  {
   "cell_type": "code",
   "execution_count": 92,
   "metadata": {},
   "outputs": [
    {
     "data": {
      "text/plain": [
       "ID\n",
       "pedestrian_1-1-pt_3865_tr    1\n",
       "pedestrian_1-1-pt_4564_tr    1\n",
       "pedestrian_1-1-pt_7931_tr    1\n",
       "pedestrian_1-1-pt_821_tr     1\n",
       "pedestrian_1-1-veh_522_tr    1\n",
       "pedestrian_1-2_3_tr          1\n",
       "pedestrian_1-3_1755_tr       1\n",
       "pedestrian_1-GW1_2157_tr     1\n",
       "pedestrian_1-GW2_963_tr      1\n",
       "pedestrian_GW1-1_2022_tr     1\n",
       "Name: t, dtype: int64"
      ]
     },
     "execution_count": 92,
     "metadata": {},
     "output_type": "execute_result"
    }
   ],
   "source": [
    "a[a==a.min()]"
   ]
  },
  {
   "cell_type": "markdown",
   "metadata": {},
   "source": [
    "##### Number of vehicles, pedestrians and total objects in the simulation"
   ]
  },
  {
   "cell_type": "code",
   "execution_count": 93,
   "metadata": {},
   "outputs": [
    {
     "name": "stdout",
     "output_type": "stream",
     "text": [
      "6149 objects in the simulations, divided into 1 pedestrians and 6148 vehicle of any type\n"
     ]
    }
   ],
   "source": [
    "p = len(data['ID'][data['v_type'].isna()].unique())\n",
    "v = len(data['ID'][data['v_type'].notna()].unique())\n",
    "\n",
    "print(F\"{p+v} objects in the simulations, divided into {p} pedestrians and {v} vehicle of any type\")\n",
    "# sanity check\n",
    "assert p+v == len(data['ID'].unique())"
   ]
  },
  {
   "cell_type": "markdown",
   "metadata": {},
   "source": [
    "##### Object demand by time"
   ]
  },
  {
   "cell_type": "code",
   "execution_count": 103,
   "metadata": {},
   "outputs": [
    {
     "ename": "KeyboardInterrupt",
     "evalue": "",
     "output_type": "error",
     "traceback": [
      "\u001b[0;31m---------------------------------------------------------------------------\u001b[0m",
      "\u001b[0;31mKeyboardInterrupt\u001b[0m                         Traceback (most recent call last)",
      "\u001b[0;32m<ipython-input-103-4216f8d3f2d6>\u001b[0m in \u001b[0;36m<module>\u001b[0;34m\u001b[0m\n\u001b[1;32m      5\u001b[0m \u001b[0;31m# I added dropna otherwise you get an error at runtime.\u001b[0m\u001b[0;34m\u001b[0m\u001b[0;34m\u001b[0m\u001b[0m\n\u001b[1;32m      6\u001b[0m \u001b[0;32mfor\u001b[0m \u001b[0mobj\u001b[0m \u001b[0;32min\u001b[0m \u001b[0mdata\u001b[0m\u001b[0;34m[\u001b[0m\u001b[0;34m'ID'\u001b[0m\u001b[0;34m]\u001b[0m\u001b[0;34m.\u001b[0m\u001b[0mdropna\u001b[0m\u001b[0;34m(\u001b[0m\u001b[0;34m)\u001b[0m\u001b[0;34m.\u001b[0m\u001b[0munique\u001b[0m\u001b[0;34m(\u001b[0m\u001b[0;34m)\u001b[0m\u001b[0;34m:\u001b[0m\u001b[0;34m\u001b[0m\u001b[0m\n\u001b[0;32m----> 7\u001b[0;31m     \u001b[0mtimeFirstAppeared\u001b[0m \u001b[0;34m=\u001b[0m \u001b[0mdata\u001b[0m\u001b[0;34m[\u001b[0m\u001b[0mdata\u001b[0m\u001b[0;34m[\u001b[0m\u001b[0;34m'ID'\u001b[0m\u001b[0;34m]\u001b[0m\u001b[0;34m==\u001b[0m\u001b[0mobj\u001b[0m\u001b[0;34m]\u001b[0m\u001b[0;34m[\u001b[0m\u001b[0;34m't'\u001b[0m\u001b[0;34m]\u001b[0m\u001b[0;34m.\u001b[0m\u001b[0mvalues\u001b[0m\u001b[0;34m[\u001b[0m\u001b[0;36m0\u001b[0m\u001b[0;34m]\u001b[0m\u001b[0;34m\u001b[0m\u001b[0m\n\u001b[0m\u001b[1;32m      8\u001b[0m     \u001b[0mnewObjByTime\u001b[0m\u001b[0;34m[\u001b[0m\u001b[0mtimeFirstAppeared\u001b[0m\u001b[0;34m]\u001b[0m\u001b[0;34m+=\u001b[0m\u001b[0;36m1\u001b[0m\u001b[0;34m\u001b[0m\u001b[0m\n\u001b[1;32m      9\u001b[0m     \u001b[0;31m#print(str(i), end='\\r') # ?? what was this? \"i\" is not defined\u001b[0m\u001b[0;34m\u001b[0m\u001b[0;34m\u001b[0m\u001b[0m\n",
      "\u001b[0;32m~/.virtualenvs/stdTraffic/lib/python3.7/site-packages/pandas/core/ops/common.py\u001b[0m in \u001b[0;36mnew_method\u001b[0;34m(self, other)\u001b[0m\n\u001b[1;32m     63\u001b[0m         \u001b[0mother\u001b[0m \u001b[0;34m=\u001b[0m \u001b[0mitem_from_zerodim\u001b[0m\u001b[0;34m(\u001b[0m\u001b[0mother\u001b[0m\u001b[0;34m)\u001b[0m\u001b[0;34m\u001b[0m\u001b[0m\n\u001b[1;32m     64\u001b[0m \u001b[0;34m\u001b[0m\u001b[0m\n\u001b[0;32m---> 65\u001b[0;31m         \u001b[0;32mreturn\u001b[0m \u001b[0mmethod\u001b[0m\u001b[0;34m(\u001b[0m\u001b[0mself\u001b[0m\u001b[0;34m,\u001b[0m \u001b[0mother\u001b[0m\u001b[0;34m)\u001b[0m\u001b[0;34m\u001b[0m\u001b[0m\n\u001b[0m\u001b[1;32m     66\u001b[0m \u001b[0;34m\u001b[0m\u001b[0m\n\u001b[1;32m     67\u001b[0m     \u001b[0;32mreturn\u001b[0m \u001b[0mnew_method\u001b[0m\u001b[0;34m\u001b[0m\u001b[0m\n",
      "\u001b[0;32m~/.virtualenvs/stdTraffic/lib/python3.7/site-packages/pandas/core/ops/__init__.py\u001b[0m in \u001b[0;36mwrapper\u001b[0;34m(self, other)\u001b[0m\n\u001b[1;32m    368\u001b[0m         \u001b[0mrvalues\u001b[0m \u001b[0;34m=\u001b[0m \u001b[0mextract_array\u001b[0m\u001b[0;34m(\u001b[0m\u001b[0mother\u001b[0m\u001b[0;34m,\u001b[0m \u001b[0mextract_numpy\u001b[0m\u001b[0;34m=\u001b[0m\u001b[0;32mTrue\u001b[0m\u001b[0;34m)\u001b[0m\u001b[0;34m\u001b[0m\u001b[0m\n\u001b[1;32m    369\u001b[0m \u001b[0;34m\u001b[0m\u001b[0m\n\u001b[0;32m--> 370\u001b[0;31m         \u001b[0mres_values\u001b[0m \u001b[0;34m=\u001b[0m \u001b[0mcomparison_op\u001b[0m\u001b[0;34m(\u001b[0m\u001b[0mlvalues\u001b[0m\u001b[0;34m,\u001b[0m \u001b[0mrvalues\u001b[0m\u001b[0;34m,\u001b[0m \u001b[0mop\u001b[0m\u001b[0;34m)\u001b[0m\u001b[0;34m\u001b[0m\u001b[0m\n\u001b[0m\u001b[1;32m    371\u001b[0m \u001b[0;34m\u001b[0m\u001b[0m\n\u001b[1;32m    372\u001b[0m         \u001b[0;32mreturn\u001b[0m \u001b[0mself\u001b[0m\u001b[0;34m.\u001b[0m\u001b[0m_construct_result\u001b[0m\u001b[0;34m(\u001b[0m\u001b[0mres_values\u001b[0m\u001b[0;34m,\u001b[0m \u001b[0mname\u001b[0m\u001b[0;34m=\u001b[0m\u001b[0mres_name\u001b[0m\u001b[0;34m)\u001b[0m\u001b[0;34m\u001b[0m\u001b[0m\n",
      "\u001b[0;32m~/.virtualenvs/stdTraffic/lib/python3.7/site-packages/pandas/core/ops/array_ops.py\u001b[0m in \u001b[0;36mcomparison_op\u001b[0;34m(left, right, op)\u001b[0m\n\u001b[1;32m    242\u001b[0m \u001b[0;34m\u001b[0m\u001b[0m\n\u001b[1;32m    243\u001b[0m     \u001b[0;32melif\u001b[0m \u001b[0mis_object_dtype\u001b[0m\u001b[0;34m(\u001b[0m\u001b[0mlvalues\u001b[0m\u001b[0;34m.\u001b[0m\u001b[0mdtype\u001b[0m\u001b[0;34m)\u001b[0m\u001b[0;34m:\u001b[0m\u001b[0;34m\u001b[0m\u001b[0m\n\u001b[0;32m--> 244\u001b[0;31m         \u001b[0mres_values\u001b[0m \u001b[0;34m=\u001b[0m \u001b[0mcomp_method_OBJECT_ARRAY\u001b[0m\u001b[0;34m(\u001b[0m\u001b[0mop\u001b[0m\u001b[0;34m,\u001b[0m \u001b[0mlvalues\u001b[0m\u001b[0;34m,\u001b[0m \u001b[0mrvalues\u001b[0m\u001b[0;34m)\u001b[0m\u001b[0;34m\u001b[0m\u001b[0m\n\u001b[0m\u001b[1;32m    245\u001b[0m \u001b[0;34m\u001b[0m\u001b[0m\n\u001b[1;32m    246\u001b[0m     \u001b[0;32melse\u001b[0m\u001b[0;34m:\u001b[0m\u001b[0;34m\u001b[0m\u001b[0m\n",
      "\u001b[0;32m~/.virtualenvs/stdTraffic/lib/python3.7/site-packages/pandas/core/ops/array_ops.py\u001b[0m in \u001b[0;36mcomp_method_OBJECT_ARRAY\u001b[0;34m(op, x, y)\u001b[0m\n\u001b[1;32m     54\u001b[0m         \u001b[0mresult\u001b[0m \u001b[0;34m=\u001b[0m \u001b[0mlibops\u001b[0m\u001b[0;34m.\u001b[0m\u001b[0mvec_compare\u001b[0m\u001b[0;34m(\u001b[0m\u001b[0mx\u001b[0m\u001b[0;34m.\u001b[0m\u001b[0mravel\u001b[0m\u001b[0;34m(\u001b[0m\u001b[0;34m)\u001b[0m\u001b[0;34m,\u001b[0m \u001b[0my\u001b[0m\u001b[0;34m.\u001b[0m\u001b[0mravel\u001b[0m\u001b[0;34m(\u001b[0m\u001b[0;34m)\u001b[0m\u001b[0;34m,\u001b[0m \u001b[0mop\u001b[0m\u001b[0;34m)\u001b[0m\u001b[0;34m\u001b[0m\u001b[0m\n\u001b[1;32m     55\u001b[0m     \u001b[0;32melse\u001b[0m\u001b[0;34m:\u001b[0m\u001b[0;34m\u001b[0m\u001b[0m\n\u001b[0;32m---> 56\u001b[0;31m         \u001b[0mresult\u001b[0m \u001b[0;34m=\u001b[0m \u001b[0mlibops\u001b[0m\u001b[0;34m.\u001b[0m\u001b[0mscalar_compare\u001b[0m\u001b[0;34m(\u001b[0m\u001b[0mx\u001b[0m\u001b[0;34m.\u001b[0m\u001b[0mravel\u001b[0m\u001b[0;34m(\u001b[0m\u001b[0;34m)\u001b[0m\u001b[0;34m,\u001b[0m \u001b[0my\u001b[0m\u001b[0;34m,\u001b[0m \u001b[0mop\u001b[0m\u001b[0;34m)\u001b[0m\u001b[0;34m\u001b[0m\u001b[0m\n\u001b[0m\u001b[1;32m     57\u001b[0m     \u001b[0;32mreturn\u001b[0m \u001b[0mresult\u001b[0m\u001b[0;34m.\u001b[0m\u001b[0mreshape\u001b[0m\u001b[0;34m(\u001b[0m\u001b[0mx\u001b[0m\u001b[0;34m.\u001b[0m\u001b[0mshape\u001b[0m\u001b[0;34m)\u001b[0m\u001b[0;34m\u001b[0m\u001b[0m\n\u001b[1;32m     58\u001b[0m \u001b[0;34m\u001b[0m\u001b[0m\n",
      "\u001b[0;31mKeyboardInterrupt\u001b[0m: "
     ]
    }
   ],
   "source": [
    "timeSteps = data['t'].unique()\n",
    "newObjByTime = pd.Series(0, index=timeSteps)\n",
    "\n",
    "# I believe this is a good excuse to learn pd.apply and then remove this loop. It's very slow!!\n",
    "# I waited more than 2 minutes then I stopped it (that's why you see the error)\n",
    "# I added dropna otherwise you get an error at runtime.\n",
    "for obj in data['ID'].dropna().unique():\n",
    "    timeFirstAppeared = data[data['ID']==obj]['t'].values[0]\n",
    "    newObjByTime[timeFirstAppeared]+=1\n",
    "    #print(str(i), end='\\r') # ?? what was this? \"i\" is not defined\n",
    "\n",
    "fig = plt.figure(dpi=100)\n",
    "ax = fig.add_axes([0, 0, 1, 1])\n",
    "newObjByTime.plot.bar();\n",
    "\n",
    "times = np.linspace(0, len(timeSteps), 10, endpoint=False, dtype=int)\n",
    "ax.set_xticks(times);\n",
    "labels = [F\"{int(timeSteps[t]/3600)}:{int(timeSteps[t]/60 % 60):02}\" for t in times]\n",
    "ax.set_xticklabels(labels);"
   ]
  },
  {
   "cell_type": "code",
   "execution_count": 96,
   "metadata": {},
   "outputs": [
    {
     "data": {
      "text/html": [
       "<div>\n",
       "<style scoped>\n",
       "    .dataframe tbody tr th:only-of-type {\n",
       "        vertical-align: middle;\n",
       "    }\n",
       "\n",
       "    .dataframe tbody tr th {\n",
       "        vertical-align: top;\n",
       "    }\n",
       "\n",
       "    .dataframe thead th {\n",
       "        text-align: right;\n",
       "    }\n",
       "</style>\n",
       "<table border=\"1\" class=\"dataframe\">\n",
       "  <thead>\n",
       "    <tr style=\"text-align: right;\">\n",
       "      <th></th>\n",
       "      <th>t</th>\n",
       "      <th>angle</th>\n",
       "      <th>ID</th>\n",
       "      <th>lane_edge</th>\n",
       "      <th>position</th>\n",
       "      <th>slope</th>\n",
       "      <th>speed</th>\n",
       "      <th>v_type</th>\n",
       "      <th>x</th>\n",
       "      <th>y</th>\n",
       "      <th>z</th>\n",
       "      <th>person_angle</th>\n",
       "      <th>person_edge</th>\n",
       "      <th>person_id</th>\n",
       "      <th>person_pos</th>\n",
       "      <th>person_slope</th>\n",
       "      <th>person_speed</th>\n",
       "      <th>person_x</th>\n",
       "      <th>person_y</th>\n",
       "      <th>person_z</th>\n",
       "    </tr>\n",
       "  </thead>\n",
       "  <tbody>\n",
       "    <tr>\n",
       "      <th>0</th>\n",
       "      <td>14400.0</td>\n",
       "      <td>NaN</td>\n",
       "      <td>NaN</td>\n",
       "      <td>NaN</td>\n",
       "      <td>NaN</td>\n",
       "      <td>NaN</td>\n",
       "      <td>NaN</td>\n",
       "      <td>NaN</td>\n",
       "      <td>NaN</td>\n",
       "      <td>NaN</td>\n",
       "      <td>NaN</td>\n",
       "      <td>NaN</td>\n",
       "      <td>NaN</td>\n",
       "      <td>NaN</td>\n",
       "      <td>NaN</td>\n",
       "      <td>NaN</td>\n",
       "      <td>NaN</td>\n",
       "      <td>NaN</td>\n",
       "      <td>NaN</td>\n",
       "      <td>NaN</td>\n",
       "    </tr>\n",
       "    <tr>\n",
       "      <th>1</th>\n",
       "      <td>14405.0</td>\n",
       "      <td>80.89</td>\n",
       "      <td>bus_M1:France.0</td>\n",
       "      <td>152927_1</td>\n",
       "      <td>12.10</td>\n",
       "      <td>3.01</td>\n",
       "      <td>0.00</td>\n",
       "      <td>bus</td>\n",
       "      <td>1085.69</td>\n",
       "      <td>197.96</td>\n",
       "      <td>54.34</td>\n",
       "      <td>NaN</td>\n",
       "      <td>NaN</td>\n",
       "      <td>NaN</td>\n",
       "      <td>NaN</td>\n",
       "      <td>NaN</td>\n",
       "      <td>NaN</td>\n",
       "      <td>NaN</td>\n",
       "      <td>NaN</td>\n",
       "      <td>NaN</td>\n",
       "    </tr>\n",
       "    <tr>\n",
       "      <th>2</th>\n",
       "      <td>14410.0</td>\n",
       "      <td>71.94</td>\n",
       "      <td>bus_M1:France.0</td>\n",
       "      <td>152927_1</td>\n",
       "      <td>23.63</td>\n",
       "      <td>1.31</td>\n",
       "      <td>3.97</td>\n",
       "      <td>bus</td>\n",
       "      <td>1096.59</td>\n",
       "      <td>201.56</td>\n",
       "      <td>54.75</td>\n",
       "      <td>NaN</td>\n",
       "      <td>NaN</td>\n",
       "      <td>NaN</td>\n",
       "      <td>NaN</td>\n",
       "      <td>NaN</td>\n",
       "      <td>NaN</td>\n",
       "      <td>NaN</td>\n",
       "      <td>NaN</td>\n",
       "      <td>NaN</td>\n",
       "    </tr>\n",
       "    <tr>\n",
       "      <th>3</th>\n",
       "      <td>14415.0</td>\n",
       "      <td>57.57</td>\n",
       "      <td>bus_M1:France.0</td>\n",
       "      <td>152927_1</td>\n",
       "      <td>57.99</td>\n",
       "      <td>0.66</td>\n",
       "      <td>8.49</td>\n",
       "      <td>bus</td>\n",
       "      <td>1126.83</td>\n",
       "      <td>217.57</td>\n",
       "      <td>55.32</td>\n",
       "      <td>NaN</td>\n",
       "      <td>NaN</td>\n",
       "      <td>NaN</td>\n",
       "      <td>NaN</td>\n",
       "      <td>NaN</td>\n",
       "      <td>NaN</td>\n",
       "      <td>NaN</td>\n",
       "      <td>NaN</td>\n",
       "      <td>NaN</td>\n",
       "    </tr>\n",
       "    <tr>\n",
       "      <th>4</th>\n",
       "      <td>14420.0</td>\n",
       "      <td>32.10</td>\n",
       "      <td>bus_M1:France.0</td>\n",
       "      <td>152927_1</td>\n",
       "      <td>113.32</td>\n",
       "      <td>0.63</td>\n",
       "      <td>12.78</td>\n",
       "      <td>bus</td>\n",
       "      <td>1167.22</td>\n",
       "      <td>253.89</td>\n",
       "      <td>55.41</td>\n",
       "      <td>NaN</td>\n",
       "      <td>NaN</td>\n",
       "      <td>NaN</td>\n",
       "      <td>NaN</td>\n",
       "      <td>NaN</td>\n",
       "      <td>NaN</td>\n",
       "      <td>NaN</td>\n",
       "      <td>NaN</td>\n",
       "      <td>NaN</td>\n",
       "    </tr>\n",
       "  </tbody>\n",
       "</table>\n",
       "</div>"
      ],
      "text/plain": [
       "         t  angle               ID lane_edge  position  slope  speed v_type  \\\n",
       "0  14400.0    NaN              NaN       NaN       NaN    NaN    NaN    NaN   \n",
       "1  14405.0  80.89  bus_M1:France.0  152927_1     12.10   3.01   0.00    bus   \n",
       "2  14410.0  71.94  bus_M1:France.0  152927_1     23.63   1.31   3.97    bus   \n",
       "3  14415.0  57.57  bus_M1:France.0  152927_1     57.99   0.66   8.49    bus   \n",
       "4  14420.0  32.10  bus_M1:France.0  152927_1    113.32   0.63  12.78    bus   \n",
       "\n",
       "         x       y      z  person_angle person_edge person_id  person_pos  \\\n",
       "0      NaN     NaN    NaN           NaN         NaN       NaN         NaN   \n",
       "1  1085.69  197.96  54.34           NaN         NaN       NaN         NaN   \n",
       "2  1096.59  201.56  54.75           NaN         NaN       NaN         NaN   \n",
       "3  1126.83  217.57  55.32           NaN         NaN       NaN         NaN   \n",
       "4  1167.22  253.89  55.41           NaN         NaN       NaN         NaN   \n",
       "\n",
       "   person_slope  person_speed  person_x  person_y  person_z  \n",
       "0           NaN           NaN       NaN       NaN       NaN  \n",
       "1           NaN           NaN       NaN       NaN       NaN  \n",
       "2           NaN           NaN       NaN       NaN       NaN  \n",
       "3           NaN           NaN       NaN       NaN       NaN  \n",
       "4           NaN           NaN       NaN       NaN       NaN  "
      ]
     },
     "execution_count": 96,
     "metadata": {},
     "output_type": "execute_result"
    }
   ],
   "source": [
    "data.head()"
   ]
  },
  {
   "cell_type": "code",
   "execution_count": 44,
   "metadata": {},
   "outputs": [],
   "source": [
    "##### Let's isolate fast-wheeled vehicles to work on speed"
   ]
  },
  {
   "cell_type": "code",
   "execution_count": 104,
   "metadata": {},
   "outputs": [],
   "source": [
    "data['v_type'].unique()\n",
    "motoredObjects = ['hw_delivery', 'hw_trailer', 'bus', 'delivery', 'motorcycle', 'moped', 'taxi', 'uber', 'trailer',\n",
    "                  'hw_truck', 'hw_coach', 'coach', 'truck', 'hw_motorcycle']\n",
    "data2 = data[data['v_type'].isin(motoredObjects)]"
   ]
  },
  {
   "cell_type": "code",
   "execution_count": 106,
   "metadata": {},
   "outputs": [
    {
     "data": {
      "text/html": [
       "<div>\n",
       "<style scoped>\n",
       "    .dataframe tbody tr th:only-of-type {\n",
       "        vertical-align: middle;\n",
       "    }\n",
       "\n",
       "    .dataframe tbody tr th {\n",
       "        vertical-align: top;\n",
       "    }\n",
       "\n",
       "    .dataframe thead th {\n",
       "        text-align: right;\n",
       "    }\n",
       "</style>\n",
       "<table border=\"1\" class=\"dataframe\">\n",
       "  <thead>\n",
       "    <tr style=\"text-align: right;\">\n",
       "      <th></th>\n",
       "      <th>t</th>\n",
       "      <th>angle</th>\n",
       "      <th>ID</th>\n",
       "      <th>lane_edge</th>\n",
       "      <th>position</th>\n",
       "      <th>slope</th>\n",
       "      <th>speed</th>\n",
       "      <th>v_type</th>\n",
       "      <th>x</th>\n",
       "      <th>y</th>\n",
       "      <th>z</th>\n",
       "      <th>person_angle</th>\n",
       "      <th>person_edge</th>\n",
       "      <th>person_id</th>\n",
       "      <th>person_pos</th>\n",
       "      <th>person_slope</th>\n",
       "      <th>person_speed</th>\n",
       "      <th>person_x</th>\n",
       "      <th>person_y</th>\n",
       "      <th>person_z</th>\n",
       "    </tr>\n",
       "  </thead>\n",
       "  <tbody>\n",
       "    <tr>\n",
       "      <th>1</th>\n",
       "      <td>14405.0</td>\n",
       "      <td>80.89</td>\n",
       "      <td>bus_M1:France.0</td>\n",
       "      <td>152927_1</td>\n",
       "      <td>12.10</td>\n",
       "      <td>3.01</td>\n",
       "      <td>0.00</td>\n",
       "      <td>bus</td>\n",
       "      <td>1085.69</td>\n",
       "      <td>197.96</td>\n",
       "      <td>54.34</td>\n",
       "      <td>NaN</td>\n",
       "      <td>NaN</td>\n",
       "      <td>NaN</td>\n",
       "      <td>NaN</td>\n",
       "      <td>NaN</td>\n",
       "      <td>NaN</td>\n",
       "      <td>NaN</td>\n",
       "      <td>NaN</td>\n",
       "      <td>NaN</td>\n",
       "    </tr>\n",
       "    <tr>\n",
       "      <th>2</th>\n",
       "      <td>14410.0</td>\n",
       "      <td>71.94</td>\n",
       "      <td>bus_M1:France.0</td>\n",
       "      <td>152927_1</td>\n",
       "      <td>23.63</td>\n",
       "      <td>1.31</td>\n",
       "      <td>3.97</td>\n",
       "      <td>bus</td>\n",
       "      <td>1096.59</td>\n",
       "      <td>201.56</td>\n",
       "      <td>54.75</td>\n",
       "      <td>NaN</td>\n",
       "      <td>NaN</td>\n",
       "      <td>NaN</td>\n",
       "      <td>NaN</td>\n",
       "      <td>NaN</td>\n",
       "      <td>NaN</td>\n",
       "      <td>NaN</td>\n",
       "      <td>NaN</td>\n",
       "      <td>NaN</td>\n",
       "    </tr>\n",
       "    <tr>\n",
       "      <th>3</th>\n",
       "      <td>14415.0</td>\n",
       "      <td>57.57</td>\n",
       "      <td>bus_M1:France.0</td>\n",
       "      <td>152927_1</td>\n",
       "      <td>57.99</td>\n",
       "      <td>0.66</td>\n",
       "      <td>8.49</td>\n",
       "      <td>bus</td>\n",
       "      <td>1126.83</td>\n",
       "      <td>217.57</td>\n",
       "      <td>55.32</td>\n",
       "      <td>NaN</td>\n",
       "      <td>NaN</td>\n",
       "      <td>NaN</td>\n",
       "      <td>NaN</td>\n",
       "      <td>NaN</td>\n",
       "      <td>NaN</td>\n",
       "      <td>NaN</td>\n",
       "      <td>NaN</td>\n",
       "      <td>NaN</td>\n",
       "    </tr>\n",
       "    <tr>\n",
       "      <th>4</th>\n",
       "      <td>14420.0</td>\n",
       "      <td>32.10</td>\n",
       "      <td>bus_M1:France.0</td>\n",
       "      <td>152927_1</td>\n",
       "      <td>113.32</td>\n",
       "      <td>0.63</td>\n",
       "      <td>12.78</td>\n",
       "      <td>bus</td>\n",
       "      <td>1167.22</td>\n",
       "      <td>253.89</td>\n",
       "      <td>55.41</td>\n",
       "      <td>NaN</td>\n",
       "      <td>NaN</td>\n",
       "      <td>NaN</td>\n",
       "      <td>NaN</td>\n",
       "      <td>NaN</td>\n",
       "      <td>NaN</td>\n",
       "      <td>NaN</td>\n",
       "      <td>NaN</td>\n",
       "      <td>NaN</td>\n",
       "    </tr>\n",
       "    <tr>\n",
       "      <th>5</th>\n",
       "      <td>14425.0</td>\n",
       "      <td>53.85</td>\n",
       "      <td>bus_M1:Eze.0</td>\n",
       "      <td>-153460_1</td>\n",
       "      <td>18.12</td>\n",
       "      <td>1.73</td>\n",
       "      <td>3.09</td>\n",
       "      <td>bus</td>\n",
       "      <td>44.23</td>\n",
       "      <td>1368.97</td>\n",
       "      <td>358.63</td>\n",
       "      <td>NaN</td>\n",
       "      <td>NaN</td>\n",
       "      <td>NaN</td>\n",
       "      <td>NaN</td>\n",
       "      <td>NaN</td>\n",
       "      <td>NaN</td>\n",
       "      <td>NaN</td>\n",
       "      <td>NaN</td>\n",
       "      <td>NaN</td>\n",
       "    </tr>\n",
       "  </tbody>\n",
       "</table>\n",
       "</div>"
      ],
      "text/plain": [
       "         t  angle               ID  lane_edge  position  slope  speed v_type  \\\n",
       "1  14405.0  80.89  bus_M1:France.0   152927_1     12.10   3.01   0.00    bus   \n",
       "2  14410.0  71.94  bus_M1:France.0   152927_1     23.63   1.31   3.97    bus   \n",
       "3  14415.0  57.57  bus_M1:France.0   152927_1     57.99   0.66   8.49    bus   \n",
       "4  14420.0  32.10  bus_M1:France.0   152927_1    113.32   0.63  12.78    bus   \n",
       "5  14425.0  53.85     bus_M1:Eze.0  -153460_1     18.12   1.73   3.09    bus   \n",
       "\n",
       "         x        y       z  person_angle person_edge person_id  person_pos  \\\n",
       "1  1085.69   197.96   54.34           NaN         NaN       NaN         NaN   \n",
       "2  1096.59   201.56   54.75           NaN         NaN       NaN         NaN   \n",
       "3  1126.83   217.57   55.32           NaN         NaN       NaN         NaN   \n",
       "4  1167.22   253.89   55.41           NaN         NaN       NaN         NaN   \n",
       "5    44.23  1368.97  358.63           NaN         NaN       NaN         NaN   \n",
       "\n",
       "   person_slope  person_speed  person_x  person_y  person_z  \n",
       "1           NaN           NaN       NaN       NaN       NaN  \n",
       "2           NaN           NaN       NaN       NaN       NaN  \n",
       "3           NaN           NaN       NaN       NaN       NaN  \n",
       "4           NaN           NaN       NaN       NaN       NaN  \n",
       "5           NaN           NaN       NaN       NaN       NaN  "
      ]
     },
     "execution_count": 106,
     "metadata": {},
     "output_type": "execute_result"
    }
   ],
   "source": [
    "data2.head()"
   ]
  },
  {
   "cell_type": "code",
   "execution_count": 108,
   "metadata": {},
   "outputs": [
    {
     "data": {
      "text/plain": [
       "<AxesSubplot:xlabel='t'>"
      ]
     },
     "execution_count": 108,
     "metadata": {},
     "output_type": "execute_result"
    },
    {
     "data": {
      "image/png": "[encoded data removed]",
      "text/plain": [
       "<Figure size 432x288 with 1 Axes>"
      ]
     },
     "metadata": {
      "needs_background": "light"
     },
     "output_type": "display_data"
    }
   ],
   "source": [
    "data2.groupby('t').mean()['speed'].plot()\n",
    "# is this km/h?"
   ]
  },
  {
   "cell_type": "code",
   "execution_count": null,
   "metadata": {},
   "outputs": [],
   "source": []
  }
 ],
 "metadata": {
  "kernelspec": {
   "display_name": "Python 3",
   "language": "python",
   "name": "python3"
  },
  "language_info": {
   "codemirror_mode": {
    "name": "ipython",
    "version": 3
   },
   "file_extension": ".py",
   "mimetype": "text/x-python",
   "name": "python",
   "nbconvert_exporter": "python",
   "pygments_lexer": "ipython3",
   "version": "3.7.0"
  }
 },
 "nbformat": 4,
 "nbformat_minor": 4
}
