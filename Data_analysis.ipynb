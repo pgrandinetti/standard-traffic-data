{
 "cells": [
  {
   "cell_type": "markdown",
   "metadata": {},
   "source": [
    "### Import packages and data"
   ]
  },
  {
   "cell_type": "code",
   "execution_count": 5,
   "metadata": {},
   "outputs": [],
   "source": [
    "import pandas as pd\n",
    "import matplotlib.pyplot as plt\n",
    "import numpy as np\n",
    "import seaborn as sns\n",
    "\n",
    "%matplotlib inline\n",
    "plt.style.use('bmh')"
   ]
  },
  {
   "cell_type": "code",
   "execution_count": 6,
   "metadata": {},
   "outputs": [
    {
     "name": "stdout",
     "output_type": "stream",
     "text": [
      "<class 'pandas.core.frame.DataFrame'>\n",
      "RangeIndex: 518490 entries, 0 to 518489\n",
      "Data columns (total 20 columns):\n",
      "timestep_time    518490 non-null float64\n",
      "vehicle_angle    272911 non-null float64\n",
      "vehicle_id       272911 non-null object\n",
      "vehicle_lane     272911 non-null object\n",
      "vehicle_pos      272911 non-null float64\n",
      "vehicle_slope    272911 non-null float64\n",
      "vehicle_speed    272911 non-null float64\n",
      "vehicle_type     272911 non-null object\n",
      "vehicle_x        272911 non-null float64\n",
      "vehicle_y        272911 non-null float64\n",
      "vehicle_z        272911 non-null float64\n",
      "person_angle     245579 non-null float64\n",
      "person_edge      245579 non-null object\n",
      "person_id        245579 non-null object\n",
      "person_pos       245579 non-null float64\n",
      "person_slope     245579 non-null float64\n",
      "person_speed     245579 non-null float64\n",
      "person_x         245579 non-null float64\n",
      "person_y         245579 non-null float64\n",
      "person_z         245579 non-null float64\n",
      "dtypes: float64(15), object(5)\n",
      "memory usage: 79.1+ MB\n"
     ]
    }
   ],
   "source": [
    "data = pd.read_csv(R'MoST_scenario\\scenario\\8-8_30-1-10.csv', sep=';')\n",
    "\n",
    "data.info()"
   ]
  },
  {
   "cell_type": "markdown",
   "metadata": {},
   "source": [
    "### Feature cleaning"
   ]
  },
  {
   "cell_type": "markdown",
   "metadata": {},
   "source": [
    "##### Check if person/vehicle columns are complementary"
   ]
  },
  {
   "cell_type": "code",
   "execution_count": 7,
   "metadata": {},
   "outputs": [
    {
     "name": "stdout",
     "output_type": "stream",
     "text": [
      "angle: False False\n",
      "id: False False\n",
      "pos: False False\n",
      "slope: False False\n",
      "speed: False False\n",
      "x: False False\n",
      "y: False False\n",
      "z: False False\n"
     ]
    }
   ],
   "source": [
    "features = ['angle', 'id', 'pos', 'slope', 'speed', 'x', 'y', 'z']\n",
    "for suffix in features:\n",
    "    bothNAN = data['person_'+suffix][data['vehicle_'+suffix].isna()].isna().values.any()\n",
    "    bothValues = data['person_'+suffix][data['vehicle_'+suffix].notna()].notna().values.any()\n",
    "    print(suffix+\":\", bothNAN, bothValues)"
   ]
  },
  {
   "cell_type": "markdown",
   "metadata": {},
   "source": [
    "##### Merge complementary columns and drop redundant ones"
   ]
  },
  {
   "cell_type": "code",
   "execution_count": 8,
   "metadata": {},
   "outputs": [
    {
     "name": "stdout",
     "output_type": "stream",
     "text": [
      "<class 'pandas.core.frame.DataFrame'>\n",
      "RangeIndex: 518490 entries, 0 to 518489\n",
      "Data columns (total 12 columns):\n",
      "timestep_time    518490 non-null float64\n",
      "vehicle_angle    518490 non-null float64\n",
      "vehicle_id       518490 non-null object\n",
      "vehicle_lane     272911 non-null object\n",
      "vehicle_pos      518490 non-null float64\n",
      "vehicle_slope    518490 non-null float64\n",
      "vehicle_speed    518490 non-null float64\n",
      "vehicle_type     272911 non-null object\n",
      "vehicle_x        518490 non-null float64\n",
      "vehicle_y        518490 non-null float64\n",
      "vehicle_z        518490 non-null float64\n",
      "person_edge      245579 non-null object\n",
      "dtypes: float64(8), object(4)\n",
      "memory usage: 47.5+ MB\n"
     ]
    }
   ],
   "source": [
    "for feature in features:\n",
    "    data['vehicle_'+feature].fillna(data['person_'+feature], inplace=True)\n",
    "    data.drop('person_'+feature, axis='columns', inplace=True)\n",
    "\n",
    "data.info()"
   ]
  },
  {
   "cell_type": "markdown",
   "metadata": {},
   "source": [
    "##### Check if same applies for \"vehicle_lane\" / \"person_edge\""
   ]
  },
  {
   "cell_type": "code",
   "execution_count": 9,
   "metadata": {},
   "outputs": [
    {
     "data": {
      "text/plain": [
       "(False, False)"
      ]
     },
     "execution_count": 9,
     "metadata": {},
     "output_type": "execute_result"
    }
   ],
   "source": [
    "bothNAN = data['person_edge'][data['vehicle_lane'].isna()].isna().values.any()\n",
    "bothValues = data['person_edge'][data['vehicle_lane'].notna()].notna().values.any()\n",
    "\n",
    "bothNAN, bothValues"
   ]
  },
  {
   "cell_type": "markdown",
   "metadata": {},
   "source": [
    "##### Merge and drop"
   ]
  },
  {
   "cell_type": "code",
   "execution_count": 10,
   "metadata": {},
   "outputs": [
    {
     "name": "stdout",
     "output_type": "stream",
     "text": [
      "<class 'pandas.core.frame.DataFrame'>\n",
      "RangeIndex: 518490 entries, 0 to 518489\n",
      "Data columns (total 11 columns):\n",
      "timestep_time    518490 non-null float64\n",
      "vehicle_angle    518490 non-null float64\n",
      "vehicle_id       518490 non-null object\n",
      "vehicle_lane     518490 non-null object\n",
      "vehicle_pos      518490 non-null float64\n",
      "vehicle_slope    518490 non-null float64\n",
      "vehicle_speed    518490 non-null float64\n",
      "vehicle_type     272911 non-null object\n",
      "vehicle_x        518490 non-null float64\n",
      "vehicle_y        518490 non-null float64\n",
      "vehicle_z        518490 non-null float64\n",
      "dtypes: float64(8), object(3)\n",
      "memory usage: 43.5+ MB\n"
     ]
    }
   ],
   "source": [
    "data['vehicle_lane'].fillna(data['person_edge'], inplace=True)\n",
    "data.drop('person_edge', axis='columns', inplace=True)\n",
    "\n",
    "data.info()"
   ]
  },
  {
   "cell_type": "markdown",
   "metadata": {},
   "source": [
    "##### Rename features"
   ]
  },
  {
   "cell_type": "code",
   "execution_count": 11,
   "metadata": {},
   "outputs": [
    {
     "data": {
      "text/html": [
       "<div>\n",
       "<style scoped>\n",
       "    .dataframe tbody tr th:only-of-type {\n",
       "        vertical-align: middle;\n",
       "    }\n",
       "\n",
       "    .dataframe tbody tr th {\n",
       "        vertical-align: top;\n",
       "    }\n",
       "\n",
       "    .dataframe thead th {\n",
       "        text-align: right;\n",
       "    }\n",
       "</style>\n",
       "<table border=\"1\" class=\"dataframe\">\n",
       "  <thead>\n",
       "    <tr style=\"text-align: right;\">\n",
       "      <th></th>\n",
       "      <th>t</th>\n",
       "      <th>angle</th>\n",
       "      <th>ID</th>\n",
       "      <th>lane_edge</th>\n",
       "      <th>position</th>\n",
       "      <th>slope</th>\n",
       "      <th>speed</th>\n",
       "      <th>v_type</th>\n",
       "      <th>x</th>\n",
       "      <th>y</th>\n",
       "      <th>z</th>\n",
       "    </tr>\n",
       "  </thead>\n",
       "  <tbody>\n",
       "    <tr>\n",
       "      <th>0</th>\n",
       "      <td>28800.0</td>\n",
       "      <td>74.69</td>\n",
       "      <td>France:Italy.0</td>\n",
       "      <td>152525#0_0</td>\n",
       "      <td>6.60</td>\n",
       "      <td>3.42</td>\n",
       "      <td>0.00</td>\n",
       "      <td>hw_delivery</td>\n",
       "      <td>66.19</td>\n",
       "      <td>2975.45</td>\n",
       "      <td>385.19</td>\n",
       "    </tr>\n",
       "    <tr>\n",
       "      <th>1</th>\n",
       "      <td>28800.0</td>\n",
       "      <td>171.94</td>\n",
       "      <td>Italy:France.0</td>\n",
       "      <td>152272_0</td>\n",
       "      <td>16.60</td>\n",
       "      <td>0.84</td>\n",
       "      <td>0.00</td>\n",
       "      <td>hw_trailer</td>\n",
       "      <td>7025.03</td>\n",
       "      <td>6345.15</td>\n",
       "      <td>280.64</td>\n",
       "    </tr>\n",
       "    <tr>\n",
       "      <th>2</th>\n",
       "      <td>28800.0</td>\n",
       "      <td>26.74</td>\n",
       "      <td>pedestrian_1-1-pt_7316_tr</td>\n",
       "      <td>152667#1_1</td>\n",
       "      <td>1.70</td>\n",
       "      <td>-1.06</td>\n",
       "      <td>0.00</td>\n",
       "      <td>fastbicycle</td>\n",
       "      <td>5096.54</td>\n",
       "      <td>2373.27</td>\n",
       "      <td>54.36</td>\n",
       "    </tr>\n",
       "    <tr>\n",
       "      <th>3</th>\n",
       "      <td>28800.0</td>\n",
       "      <td>26.74</td>\n",
       "      <td>pedestrian_1-1-pt_7316</td>\n",
       "      <td>152667#1</td>\n",
       "      <td>1.70</td>\n",
       "      <td>-1.06</td>\n",
       "      <td>0.00</td>\n",
       "      <td>NaN</td>\n",
       "      <td>5096.54</td>\n",
       "      <td>2373.27</td>\n",
       "      <td>54.36</td>\n",
       "    </tr>\n",
       "    <tr>\n",
       "      <th>4</th>\n",
       "      <td>28810.0</td>\n",
       "      <td>83.23</td>\n",
       "      <td>France:Italy.0</td>\n",
       "      <td>152525#0_0</td>\n",
       "      <td>108.82</td>\n",
       "      <td>3.68</td>\n",
       "      <td>18.47</td>\n",
       "      <td>hw_delivery</td>\n",
       "      <td>165.67</td>\n",
       "      <td>2994.41</td>\n",
       "      <td>391.20</td>\n",
       "    </tr>\n",
       "  </tbody>\n",
       "</table>\n",
       "</div>"
      ],
      "text/plain": [
       "         t   angle                         ID   lane_edge  position  slope  \\\n",
       "0  28800.0   74.69             France:Italy.0  152525#0_0      6.60   3.42   \n",
       "1  28800.0  171.94             Italy:France.0    152272_0     16.60   0.84   \n",
       "2  28800.0   26.74  pedestrian_1-1-pt_7316_tr  152667#1_1      1.70  -1.06   \n",
       "3  28800.0   26.74     pedestrian_1-1-pt_7316    152667#1      1.70  -1.06   \n",
       "4  28810.0   83.23             France:Italy.0  152525#0_0    108.82   3.68   \n",
       "\n",
       "   speed       v_type        x        y       z  \n",
       "0   0.00  hw_delivery    66.19  2975.45  385.19  \n",
       "1   0.00   hw_trailer  7025.03  6345.15  280.64  \n",
       "2   0.00  fastbicycle  5096.54  2373.27   54.36  \n",
       "3   0.00          NaN  5096.54  2373.27   54.36  \n",
       "4  18.47  hw_delivery   165.67  2994.41  391.20  "
      ]
     },
     "execution_count": 11,
     "metadata": {},
     "output_type": "execute_result"
    }
   ],
   "source": [
    "data.rename(columns={'timestep_time': \"t\", 'vehicle_angle': \"angle\", 'vehicle_id': \"ID\", 'vehicle_pos': \"position\",\n",
    "                     'vehicle_slope': \"slope\", 'vehicle_speed': \"speed\", 'vehicle_x': \"x\", 'vehicle_y': \"y\",\n",
    "                     'vehicle_z': \"z\", 'vehicle_lane': \"lane_edge\", 'vehicle_type': \"v_type\", }, inplace=True)\n",
    "\n",
    "data.head()"
   ]
  },
  {
   "cell_type": "markdown",
   "metadata": {},
   "source": [
    "### Exploratory data analysis"
   ]
  },
  {
   "cell_type": "markdown",
   "metadata": {},
   "source": [
    "##### Starting and end times"
   ]
  },
  {
   "cell_type": "code",
   "execution_count": 12,
   "metadata": {},
   "outputs": [
    {
     "name": "stdout",
     "output_type": "stream",
     "text": [
      "Time interval: 8:00 - 8:29\n"
     ]
    }
   ],
   "source": [
    "t = data['t'].iloc[0]\n",
    "hI = int(t/3600)\n",
    "mI = int(t/60 % 60)\n",
    "\n",
    "t = data['t'].iloc[-1]\n",
    "hF = int(t/3600)\n",
    "mF = int(t/60 % 60)\n",
    "\n",
    "print(F\"Time interval: {hI}:{mI:02} - {hF}:{mF:02}\")"
   ]
  },
  {
   "cell_type": "markdown",
   "metadata": {},
   "source": [
    "##### Number of objects active at the same time"
   ]
  },
  {
   "cell_type": "code",
   "execution_count": 13,
   "metadata": {},
   "outputs": [
    {
     "data": {
      "image/png": "[encoded data removed]",
      "text/plain": [
       "<Figure size 1200x800 with 1 Axes>"
      ]
     },
     "metadata": {
      "needs_background": "light"
     },
     "output_type": "display_data"
    }
   ],
   "source": [
    "fig = plt.figure(dpi=200)\n",
    "ax = fig.add_axes([0, 0, 1, 1])\n",
    "\n",
    "ax.plot(data.groupby(['t']).count()['ID'])\n",
    "\n",
    "# ax.set_title('Active objects')\n",
    "ax.set_xlabel('time')\n",
    "ax.set_ylabel('number of active objects')\n",
    "\n",
    "labels = []\n",
    "for tick in ax.get_xticks():\n",
    "    labels.append(F\"{int(tick/3600)}:{int(tick/60 % 60):02}\")\n",
    "ax.set_xticklabels(labels);"
   ]
  },
  {
   "cell_type": "markdown",
   "metadata": {},
   "source": [
    "##### Min. and max. life time for object"
   ]
  },
  {
   "cell_type": "code",
   "execution_count": 14,
   "metadata": {},
   "outputs": [
    {
     "name": "stdout",
     "output_type": "stream",
     "text": [
      "Min. life time: 0 m 0 s\n",
      "Max. life time: 29 m 40 s\n"
     ]
    }
   ],
   "source": [
    "a = data.groupby('ID').count()['t']\n",
    "Delta = np.diff(data['t'].unique())[0]\n",
    "print(F\"Min. life time: {int((a.min()-1)*Delta/60)} m {int((a.min()-1)*Delta % 60)} s\")\n",
    "print(F\"Max. life time: {int((a.max()-1)*Delta/60)} m {int((a.max()-1)*Delta % 60)} s\")"
   ]
  },
  {
   "cell_type": "markdown",
   "metadata": {},
   "source": [
    "##### It looks like some objects only appear in the simulation once:"
   ]
  },
  {
   "cell_type": "code",
   "execution_count": 15,
   "metadata": {},
   "outputs": [
    {
     "data": {
      "text/plain": [
       "ID\n",
       "commercial_1-3_263           1\n",
       "commercial_3-1_347           1\n",
       "commercial_3-1_52            1\n",
       "commercial_GW1-1_328         1\n",
       "pedestrian_1-1-pt_4700       1\n",
       "pedestrian_1-1-pt_4700_tr    1\n",
       "pedestrian_1-1-pt_485        1\n",
       "pedestrian_1-1-pt_5676       1\n",
       "pedestrian_1-2_137           1\n",
       "pedestrian_1-2_137_tr        1\n",
       "pedestrian_1-2_3640          1\n",
       "pedestrian_1-2_3640_tr       1\n",
       "pedestrian_1-2_5445          1\n",
       "pedestrian_1-2_5445_tr       1\n",
       "pedestrian_1-2_5766          1\n",
       "pedestrian_1-2_5766_tr       1\n",
       "pedestrian_1-3_2314          1\n",
       "pedestrian_1-3_2314_tr       1\n",
       "pedestrian_1-3_848           1\n",
       "pedestrian_1-3_848_tr        1\n",
       "pedestrian_1-GW1_11          1\n",
       "pedestrian_1-GW1_11_tr       1\n",
       "pedestrian_1-GW1_1728        1\n",
       "pedestrian_1-GW1_1728_tr     1\n",
       "pedestrian_1-GW2_1047        1\n",
       "pedestrian_1-GW2_1047_tr     1\n",
       "pedestrian_1-GW2_704         1\n",
       "pedestrian_1-GW2_704_tr      1\n",
       "pedestrian_1-GW2_884         1\n",
       "pedestrian_1-GW2_884_tr      1\n",
       "pedestrian_2-1_1285          1\n",
       "pedestrian_2-1_1285_tr       1\n",
       "pedestrian_2-1_974           1\n",
       "pedestrian_2-1_974_tr        1\n",
       "pedestrian_3-1_323           1\n",
       "pedestrian_3-1_323_tr        1\n",
       "pedestrian_GW1-1_2428        1\n",
       "pedestrian_GW1-1_2428_tr     1\n",
       "pedestrian_GW1-1_3327        1\n",
       "pedestrian_GW1-1_3327_tr     1\n",
       "pedestrian_GW1-1_3869        1\n",
       "pedestrian_GW1-1_3869_tr     1\n",
       "pedestrian_GW1-1_765         1\n",
       "pedestrian_GW1-1_765_tr      1\n",
       "pedestrian_GW2-1_1949        1\n",
       "pedestrian_GW2-1_1949_tr     1\n",
       "special_2-1_101              1\n",
       "Name: t, dtype: int64"
      ]
     },
     "execution_count": 15,
     "metadata": {},
     "output_type": "execute_result"
    }
   ],
   "source": [
    "a[a==a.min()]"
   ]
  },
  {
   "cell_type": "markdown",
   "metadata": {},
   "source": [
    "##### Number of vehicles, pedestrians and total objects in the simulation"
   ]
  },
  {
   "cell_type": "code",
   "execution_count": 16,
   "metadata": {},
   "outputs": [
    {
     "name": "stdout",
     "output_type": "stream",
     "text": [
      "8400 objects in the simulations, divided into 4117 pedestrians and 4283 vehicle of any type\n"
     ]
    },
    {
     "data": {
      "text/plain": [
       "True"
      ]
     },
     "execution_count": 16,
     "metadata": {},
     "output_type": "execute_result"
    }
   ],
   "source": [
    "p = len(data['ID'][data['v_type'].isna()].unique())\n",
    "v = len(data['ID'][data['v_type'].notna()].unique())\n",
    "\n",
    "print(F\"{p+v} objects in the simulations, divided into {p} pedestrians and {v} vehicle of any type\")\n",
    "\n",
    "p+v == len(data['ID'].unique())"
   ]
  },
  {
   "cell_type": "markdown",
   "metadata": {},
   "source": [
    "##### Object demand by time"
   ]
  },
  {
   "cell_type": "code",
   "execution_count": 29,
   "metadata": {},
   "outputs": [
    {
     "name": "stdout",
     "output_type": "stream",
     "text": [
      "8400\r"
     ]
    },
    {
     "data": {
      "image/png": "[encoded data removed]",
      "text/plain": [
       "<Figure size 600x400 with 1 Axes>"
      ]
     },
     "metadata": {
      "needs_background": "light"
     },
     "output_type": "display_data"
    }
   ],
   "source": [
    "timeSteps = data['t'].unique()\n",
    "newObjByTime = pd.Series(0, index=timeSteps)\n",
    "\n",
    "for obj in data['ID'].unique():\n",
    "    timeFirstAppeared = data[data['ID']==obj]['t'].values[0]\n",
    "    newObjByTime[timeFirstAppeared]+=1\n",
    "    print(str(i), end='\\r')\n",
    "\n",
    "fig = plt.figure(dpi=100)\n",
    "ax = fig.add_axes([0, 0, 1, 1])\n",
    "newObjByTime.plot.bar();\n",
    "\n",
    "times = np.linspace(0, len(timeSteps), 10, endpoint=False, dtype=int)\n",
    "ax.set_xticks(times);\n",
    "labels = [F\"{int(timeSteps[t]/3600)}:{int(timeSteps[t]/60 % 60):02}\" for t in times]\n",
    "ax.set_xticklabels(labels);"
   ]
  },
  {
   "cell_type": "code",
   "execution_count": 30,
   "metadata": {},
   "outputs": [
    {
     "data": {
      "text/html": [
       "<div>\n",
       "<style scoped>\n",
       "    .dataframe tbody tr th:only-of-type {\n",
       "        vertical-align: middle;\n",
       "    }\n",
       "\n",
       "    .dataframe tbody tr th {\n",
       "        vertical-align: top;\n",
       "    }\n",
       "\n",
       "    .dataframe thead th {\n",
       "        text-align: right;\n",
       "    }\n",
       "</style>\n",
       "<table border=\"1\" class=\"dataframe\">\n",
       "  <thead>\n",
       "    <tr style=\"text-align: right;\">\n",
       "      <th></th>\n",
       "      <th>t</th>\n",
       "      <th>angle</th>\n",
       "      <th>ID</th>\n",
       "      <th>lane_edge</th>\n",
       "      <th>position</th>\n",
       "      <th>slope</th>\n",
       "      <th>speed</th>\n",
       "      <th>v_type</th>\n",
       "      <th>x</th>\n",
       "      <th>y</th>\n",
       "      <th>z</th>\n",
       "    </tr>\n",
       "  </thead>\n",
       "  <tbody>\n",
       "    <tr>\n",
       "      <th>0</th>\n",
       "      <td>28800.0</td>\n",
       "      <td>74.69</td>\n",
       "      <td>France:Italy.0</td>\n",
       "      <td>152525#0_0</td>\n",
       "      <td>6.60</td>\n",
       "      <td>3.42</td>\n",
       "      <td>0.00</td>\n",
       "      <td>hw_delivery</td>\n",
       "      <td>66.19</td>\n",
       "      <td>2975.45</td>\n",
       "      <td>385.19</td>\n",
       "    </tr>\n",
       "    <tr>\n",
       "      <th>1</th>\n",
       "      <td>28800.0</td>\n",
       "      <td>171.94</td>\n",
       "      <td>Italy:France.0</td>\n",
       "      <td>152272_0</td>\n",
       "      <td>16.60</td>\n",
       "      <td>0.84</td>\n",
       "      <td>0.00</td>\n",
       "      <td>hw_trailer</td>\n",
       "      <td>7025.03</td>\n",
       "      <td>6345.15</td>\n",
       "      <td>280.64</td>\n",
       "    </tr>\n",
       "    <tr>\n",
       "      <th>2</th>\n",
       "      <td>28800.0</td>\n",
       "      <td>26.74</td>\n",
       "      <td>pedestrian_1-1-pt_7316_tr</td>\n",
       "      <td>152667#1_1</td>\n",
       "      <td>1.70</td>\n",
       "      <td>-1.06</td>\n",
       "      <td>0.00</td>\n",
       "      <td>fastbicycle</td>\n",
       "      <td>5096.54</td>\n",
       "      <td>2373.27</td>\n",
       "      <td>54.36</td>\n",
       "    </tr>\n",
       "    <tr>\n",
       "      <th>3</th>\n",
       "      <td>28800.0</td>\n",
       "      <td>26.74</td>\n",
       "      <td>pedestrian_1-1-pt_7316</td>\n",
       "      <td>152667#1</td>\n",
       "      <td>1.70</td>\n",
       "      <td>-1.06</td>\n",
       "      <td>0.00</td>\n",
       "      <td>NaN</td>\n",
       "      <td>5096.54</td>\n",
       "      <td>2373.27</td>\n",
       "      <td>54.36</td>\n",
       "    </tr>\n",
       "    <tr>\n",
       "      <th>4</th>\n",
       "      <td>28810.0</td>\n",
       "      <td>83.23</td>\n",
       "      <td>France:Italy.0</td>\n",
       "      <td>152525#0_0</td>\n",
       "      <td>108.82</td>\n",
       "      <td>3.68</td>\n",
       "      <td>18.47</td>\n",
       "      <td>hw_delivery</td>\n",
       "      <td>165.67</td>\n",
       "      <td>2994.41</td>\n",
       "      <td>391.20</td>\n",
       "    </tr>\n",
       "  </tbody>\n",
       "</table>\n",
       "</div>"
      ],
      "text/plain": [
       "         t   angle                         ID   lane_edge  position  slope  \\\n",
       "0  28800.0   74.69             France:Italy.0  152525#0_0      6.60   3.42   \n",
       "1  28800.0  171.94             Italy:France.0    152272_0     16.60   0.84   \n",
       "2  28800.0   26.74  pedestrian_1-1-pt_7316_tr  152667#1_1      1.70  -1.06   \n",
       "3  28800.0   26.74     pedestrian_1-1-pt_7316    152667#1      1.70  -1.06   \n",
       "4  28810.0   83.23             France:Italy.0  152525#0_0    108.82   3.68   \n",
       "\n",
       "   speed       v_type        x        y       z  \n",
       "0   0.00  hw_delivery    66.19  2975.45  385.19  \n",
       "1   0.00   hw_trailer  7025.03  6345.15  280.64  \n",
       "2   0.00  fastbicycle  5096.54  2373.27   54.36  \n",
       "3   0.00          NaN  5096.54  2373.27   54.36  \n",
       "4  18.47  hw_delivery   165.67  2994.41  391.20  "
      ]
     },
     "execution_count": 30,
     "metadata": {},
     "output_type": "execute_result"
    }
   ],
   "source": [
    "data.head()"
   ]
  },
  {
   "cell_type": "code",
   "execution_count": 44,
   "metadata": {},
   "outputs": [],
   "source": [
    "##### Let's isolate fast-wheeled vehicles to work on speed"
   ]
  },
  {
   "cell_type": "code",
   "execution_count": 45,
   "metadata": {},
   "outputs": [],
   "source": [
    "data['v_type'].unique()\n",
    "motoredObjects = ['hw_delivery', 'hw_trailer', 'bus', 'delivery', 'motorcycle', 'moped', 'taxi', 'uber', 'trailer',\n",
    "                  'hw_truck', 'hw_coach', 'coach', 'truck', 'hw_motorcycle']\n",
    "data2 = data[data['v_type'].isin(motoredObjects)]"
   ]
  },
  {
   "cell_type": "code",
   "execution_count": 50,
   "metadata": {},
   "outputs": [
    {
     "data": {
      "text/html": [
       "<div>\n",
       "<style scoped>\n",
       "    .dataframe tbody tr th:only-of-type {\n",
       "        vertical-align: middle;\n",
       "    }\n",
       "\n",
       "    .dataframe tbody tr th {\n",
       "        vertical-align: top;\n",
       "    }\n",
       "\n",
       "    .dataframe thead th {\n",
       "        text-align: right;\n",
       "    }\n",
       "</style>\n",
       "<table border=\"1\" class=\"dataframe\">\n",
       "  <thead>\n",
       "    <tr style=\"text-align: right;\">\n",
       "      <th></th>\n",
       "      <th>t</th>\n",
       "      <th>angle</th>\n",
       "      <th>ID</th>\n",
       "      <th>lane_edge</th>\n",
       "      <th>position</th>\n",
       "      <th>slope</th>\n",
       "      <th>speed</th>\n",
       "      <th>v_type</th>\n",
       "      <th>x</th>\n",
       "      <th>y</th>\n",
       "      <th>z</th>\n",
       "    </tr>\n",
       "  </thead>\n",
       "  <tbody>\n",
       "    <tr>\n",
       "      <th>0</th>\n",
       "      <td>28800.0</td>\n",
       "      <td>74.69</td>\n",
       "      <td>France:Italy.0</td>\n",
       "      <td>152525#0_0</td>\n",
       "      <td>6.60</td>\n",
       "      <td>3.42</td>\n",
       "      <td>0.00</td>\n",
       "      <td>hw_delivery</td>\n",
       "      <td>66.19</td>\n",
       "      <td>2975.45</td>\n",
       "      <td>385.19</td>\n",
       "    </tr>\n",
       "    <tr>\n",
       "      <th>1</th>\n",
       "      <td>28800.0</td>\n",
       "      <td>171.94</td>\n",
       "      <td>Italy:France.0</td>\n",
       "      <td>152272_0</td>\n",
       "      <td>16.60</td>\n",
       "      <td>0.84</td>\n",
       "      <td>0.00</td>\n",
       "      <td>hw_trailer</td>\n",
       "      <td>7025.03</td>\n",
       "      <td>6345.15</td>\n",
       "      <td>280.64</td>\n",
       "    </tr>\n",
       "    <tr>\n",
       "      <th>4</th>\n",
       "      <td>28810.0</td>\n",
       "      <td>83.23</td>\n",
       "      <td>France:Italy.0</td>\n",
       "      <td>152525#0_0</td>\n",
       "      <td>108.82</td>\n",
       "      <td>3.68</td>\n",
       "      <td>18.47</td>\n",
       "      <td>hw_delivery</td>\n",
       "      <td>165.67</td>\n",
       "      <td>2994.41</td>\n",
       "      <td>391.20</td>\n",
       "    </tr>\n",
       "    <tr>\n",
       "      <th>5</th>\n",
       "      <td>28810.0</td>\n",
       "      <td>171.94</td>\n",
       "      <td>Italy:France.0</td>\n",
       "      <td>152272_0</td>\n",
       "      <td>64.18</td>\n",
       "      <td>0.84</td>\n",
       "      <td>8.92</td>\n",
       "      <td>hw_trailer</td>\n",
       "      <td>7031.69</td>\n",
       "      <td>6298.10</td>\n",
       "      <td>281.34</td>\n",
       "    </tr>\n",
       "    <tr>\n",
       "      <th>6</th>\n",
       "      <td>28810.0</td>\n",
       "      <td>71.94</td>\n",
       "      <td>bus_M1:France.0</td>\n",
       "      <td>152927_1</td>\n",
       "      <td>23.63</td>\n",
       "      <td>1.31</td>\n",
       "      <td>3.97</td>\n",
       "      <td>bus</td>\n",
       "      <td>1096.59</td>\n",
       "      <td>201.56</td>\n",
       "      <td>54.75</td>\n",
       "    </tr>\n",
       "  </tbody>\n",
       "</table>\n",
       "</div>"
      ],
      "text/plain": [
       "         t   angle               ID   lane_edge  position  slope  speed  \\\n",
       "0  28800.0   74.69   France:Italy.0  152525#0_0      6.60   3.42   0.00   \n",
       "1  28800.0  171.94   Italy:France.0    152272_0     16.60   0.84   0.00   \n",
       "4  28810.0   83.23   France:Italy.0  152525#0_0    108.82   3.68  18.47   \n",
       "5  28810.0  171.94   Italy:France.0    152272_0     64.18   0.84   8.92   \n",
       "6  28810.0   71.94  bus_M1:France.0    152927_1     23.63   1.31   3.97   \n",
       "\n",
       "        v_type        x        y       z  \n",
       "0  hw_delivery    66.19  2975.45  385.19  \n",
       "1   hw_trailer  7025.03  6345.15  280.64  \n",
       "4  hw_delivery   165.67  2994.41  391.20  \n",
       "5   hw_trailer  7031.69  6298.10  281.34  \n",
       "6          bus  1096.59   201.56   54.75  "
      ]
     },
     "execution_count": 50,
     "metadata": {},
     "output_type": "execute_result"
    }
   ],
   "source": [
    "data2.head()"
   ]
  },
  {
   "cell_type": "code",
   "execution_count": 52,
   "metadata": {},
   "outputs": [
    {
     "data": {
      "text/plain": [
       "<matplotlib.axes._subplots.AxesSubplot at 0x2a9c2fb42e8>"
      ]
     },
     "execution_count": 52,
     "metadata": {},
     "output_type": "execute_result"
    },
    {
     "data": {
      "image/png": "[encoded data removed]",
      "text/plain": [
       "<Figure size 432x288 with 1 Axes>"
      ]
     },
     "metadata": {
      "needs_background": "light"
     },
     "output_type": "display_data"
    }
   ],
   "source": [
    "data2.groupby('t').mean()['speed'].plot()"
   ]
  }
 ],
 "metadata": {
  "kernelspec": {
   "display_name": "Python 3",
   "language": "python",
   "name": "python3"
  },
  "language_info": {
   "codemirror_mode": {
    "name": "ipython",
    "version": 3
   },
   "file_extension": ".py",
   "mimetype": "text/x-python",
   "name": "python",
   "nbconvert_exporter": "python",
   "pygments_lexer": "ipython3",
   "version": "3.7.3"
  }
 },
 "nbformat": 4,
 "nbformat_minor": 4
}
